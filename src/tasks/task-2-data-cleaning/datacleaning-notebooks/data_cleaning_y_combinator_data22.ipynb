{
  "nbformat": 4,
  "nbformat_minor": 0,
  "metadata": {
    "colab": {
      "name": "data_cleaning_y_combinator_data22.ipynb",
      "provenance": [],
      "collapsed_sections": []
    },
    "kernelspec": {
      "name": "python3",
      "display_name": "Python 3"
    },
    "language_info": {
      "name": "python"
    }
  },
  "cells": [
    {
      "cell_type": "code",
      "metadata": {
        "id": "LjjiMNDSsp2z"
      },
      "source": [
        "import pandas as pd\n"
      ],
      "execution_count": 1,
      "outputs": []
    },
    {
      "cell_type": "markdown",
      "metadata": {
        "id": "6fjCutAqu4XL"
      },
      "source": [
        "### We need to open the csv with an encoding of ***latin1*** else we'll face an error."
      ]
    },
    {
      "cell_type": "code",
      "metadata": {
        "colab": {
          "base_uri": "https://localhost:8080/",
          "height": 206
        },
        "id": "Sawv7zJAs4f8",
        "outputId": "30e20b7e-7b7f-4c20-b74d-ac9226e70520"
      },
      "source": [
        "df=pd.read_csv(\"/content/YCombinatorCompanies.csv\", encoding=\"latin1\")\n",
        "df.head()"
      ],
      "execution_count": 27,
      "outputs": [
        {
          "output_type": "execute_result",
          "data": {
            "text/html": [
              "<div>\n",
              "<style scoped>\n",
              "    .dataframe tbody tr th:only-of-type {\n",
              "        vertical-align: middle;\n",
              "    }\n",
              "\n",
              "    .dataframe tbody tr th {\n",
              "        vertical-align: top;\n",
              "    }\n",
              "\n",
              "    .dataframe thead th {\n",
              "        text-align: right;\n",
              "    }\n",
              "</style>\n",
              "<table border=\"1\" class=\"dataframe\">\n",
              "  <thead>\n",
              "    <tr style=\"text-align: right;\">\n",
              "      <th></th>\n",
              "      <th>Name</th>\n",
              "      <th>URL</th>\n",
              "      <th>Class</th>\n",
              "      <th>Status</th>\n",
              "      <th>Description</th>\n",
              "    </tr>\n",
              "  </thead>\n",
              "  <tbody>\n",
              "    <tr>\n",
              "      <th>0</th>\n",
              "      <td>Awesound</td>\n",
              "      <td>https://awesound.com</td>\n",
              "      <td>F2</td>\n",
              "      <td>NaN</td>\n",
              "      <td>AdWords for podcasts</td>\n",
              "    </tr>\n",
              "    <tr>\n",
              "      <th>1</th>\n",
              "      <td>BillionToOne</td>\n",
              "      <td>http://www.billiontoone.com</td>\n",
              "      <td>F2</td>\n",
              "      <td>NaN</td>\n",
              "      <td>Fetal genetic testing in India</td>\n",
              "    </tr>\n",
              "    <tr>\n",
              "      <th>2</th>\n",
              "      <td>Bulletin</td>\n",
              "      <td>http://shop-bulletin.com</td>\n",
              "      <td>F2</td>\n",
              "      <td>NaN</td>\n",
              "      <td>Airbnb for retail</td>\n",
              "    </tr>\n",
              "    <tr>\n",
              "      <th>3</th>\n",
              "      <td>Cerplus</td>\n",
              "      <td>http://www.getcerplus.com</td>\n",
              "      <td>F2</td>\n",
              "      <td>NaN</td>\n",
              "      <td>B2B marketplace for surplus produce</td>\n",
              "    </tr>\n",
              "    <tr>\n",
              "      <th>4</th>\n",
              "      <td>ConnectHealth</td>\n",
              "      <td>http://www.connecthealth.io</td>\n",
              "      <td>F2</td>\n",
              "      <td>NaN</td>\n",
              "      <td>Telemedicine and prescription delivery in Africa</td>\n",
              "    </tr>\n",
              "  </tbody>\n",
              "</table>\n",
              "</div>"
            ],
            "text/plain": [
              "            Name  ...                                       Description\n",
              "0       Awesound  ...                              AdWords for podcasts\n",
              "1   BillionToOne  ...                    Fetal genetic testing in India\n",
              "2       Bulletin  ...                                 Airbnb for retail\n",
              "3        Cerplus  ...               B2B marketplace for surplus produce\n",
              "4  ConnectHealth  ...  Telemedicine and prescription delivery in Africa\n",
              "\n",
              "[5 rows x 5 columns]"
            ]
          },
          "metadata": {
            "tags": []
          },
          "execution_count": 27
        }
      ]
    },
    {
      "cell_type": "markdown",
      "metadata": {
        "id": "6WR43F_bqW3h"
      },
      "source": [
        "# Column 1: Name cleaning"
      ]
    },
    {
      "cell_type": "code",
      "metadata": {
        "colab": {
          "base_uri": "https://localhost:8080/"
        },
        "id": "xMqsm6ITtCFv",
        "outputId": "8c2e55ab-fe1f-44ed-c977-1d0625a5cb41"
      },
      "source": [
        "unique_name=len(df.Name.unique())\n",
        "all_names= len(df.Name)\n",
        "print(all_names) , print(unique_name)"
      ],
      "execution_count": 3,
      "outputs": [
        {
          "output_type": "stream",
          "text": [
            "962\n",
            "957\n"
          ],
          "name": "stdout"
        },
        {
          "output_type": "execute_result",
          "data": {
            "text/plain": [
              "(None, None)"
            ]
          },
          "metadata": {
            "tags": []
          },
          "execution_count": 3
        }
      ]
    },
    {
      "cell_type": "markdown",
      "metadata": {
        "id": "FLzQSORgvkP_"
      },
      "source": [
        "### we have 5 names that are being repeated, we need to check them\n",
        "1. See if they're duplicted\n",
        "2. If they're 2 startups with the same name\n",
        "3. If they updated one of their status"
      ]
    },
    {
      "cell_type": "code",
      "metadata": {
        "colab": {
          "base_uri": "https://localhost:8080/",
          "height": 206
        },
        "id": "rKwJcQ5LvJIR",
        "outputId": "fc1c2c98-ea5b-4df7-85f6-092cdee40882"
      },
      "source": [
        "df[df.duplicated(subset=['Name']) == True ]"
      ],
      "execution_count": 6,
      "outputs": [
        {
          "output_type": "execute_result",
          "data": {
            "text/html": [
              "<div>\n",
              "<style scoped>\n",
              "    .dataframe tbody tr th:only-of-type {\n",
              "        vertical-align: middle;\n",
              "    }\n",
              "\n",
              "    .dataframe tbody tr th {\n",
              "        vertical-align: top;\n",
              "    }\n",
              "\n",
              "    .dataframe thead th {\n",
              "        text-align: right;\n",
              "    }\n",
              "</style>\n",
              "<table border=\"1\" class=\"dataframe\">\n",
              "  <thead>\n",
              "    <tr style=\"text-align: right;\">\n",
              "      <th></th>\n",
              "      <th>Name</th>\n",
              "      <th>URL</th>\n",
              "      <th>Class</th>\n",
              "      <th>Status</th>\n",
              "      <th>Description</th>\n",
              "    </tr>\n",
              "  </thead>\n",
              "  <tbody>\n",
              "    <tr>\n",
              "      <th>124</th>\n",
              "      <td>Restocks</td>\n",
              "      <td>https://restocks.io</td>\n",
              "      <td>W16</td>\n",
              "      <td>NaN</td>\n",
              "      <td>Push notifications for superconsumers. We make...</td>\n",
              "    </tr>\n",
              "    <tr>\n",
              "      <th>132</th>\n",
              "      <td>Shypmate</td>\n",
              "      <td>http://www.shypmate.com</td>\n",
              "      <td>W16</td>\n",
              "      <td>NaN</td>\n",
              "      <td>Shypmate enables a fast, reliable and cost eff...</td>\n",
              "    </tr>\n",
              "    <tr>\n",
              "      <th>138</th>\n",
              "      <td>StrongIntro</td>\n",
              "      <td>NaN</td>\n",
              "      <td>W16</td>\n",
              "      <td>Dead</td>\n",
              "      <td>StrongIntro helps recruiters turn their entire...</td>\n",
              "    </tr>\n",
              "    <tr>\n",
              "      <th>338</th>\n",
              "      <td>Supply</td>\n",
              "      <td>http://www.madebysupply.com</td>\n",
              "      <td>W15</td>\n",
              "      <td>NaN</td>\n",
              "      <td>Wireless power, through the air</td>\n",
              "    </tr>\n",
              "    <tr>\n",
              "      <th>461</th>\n",
              "      <td>Weave</td>\n",
              "      <td>http://www.getweave.com</td>\n",
              "      <td>W14</td>\n",
              "      <td>NaN</td>\n",
              "      <td>Better phone service for your dental practice ...</td>\n",
              "    </tr>\n",
              "  </tbody>\n",
              "</table>\n",
              "</div>"
            ],
            "text/plain": [
              "            Name  ...                                        Description\n",
              "124     Restocks  ...  Push notifications for superconsumers. We make...\n",
              "132     Shypmate  ...  Shypmate enables a fast, reliable and cost eff...\n",
              "138  StrongIntro  ...  StrongIntro helps recruiters turn their entire...\n",
              "338       Supply  ...                    Wireless power, through the air\n",
              "461        Weave  ...  Better phone service for your dental practice ...\n",
              "\n",
              "[5 rows x 5 columns]"
            ]
          },
          "metadata": {
            "tags": []
          },
          "execution_count": 6
        }
      ]
    },
    {
      "cell_type": "markdown",
      "metadata": {
        "id": "hkenfVO2pzfO"
      },
      "source": [
        "\n",
        "\n",
        "  ## Restocks\n",
        "\n",
        "1.  Class difference :  F1 vs W16\n",
        "2.   Description \n",
        "\n",
        "\n"
      ]
    },
    {
      "cell_type": "code",
      "metadata": {
        "id": "ShtcdYqXv1VF",
        "colab": {
          "base_uri": "https://localhost:8080/",
          "height": 112
        },
        "outputId": "f3619f8f-e575-4149-ff08-2bb9e8539f6e"
      },
      "source": [
        "df[df[\"Name\"]== \"Restocks\"]"
      ],
      "execution_count": 8,
      "outputs": [
        {
          "output_type": "execute_result",
          "data": {
            "text/html": [
              "<div>\n",
              "<style scoped>\n",
              "    .dataframe tbody tr th:only-of-type {\n",
              "        vertical-align: middle;\n",
              "    }\n",
              "\n",
              "    .dataframe tbody tr th {\n",
              "        vertical-align: top;\n",
              "    }\n",
              "\n",
              "    .dataframe thead th {\n",
              "        text-align: right;\n",
              "    }\n",
              "</style>\n",
              "<table border=\"1\" class=\"dataframe\">\n",
              "  <thead>\n",
              "    <tr style=\"text-align: right;\">\n",
              "      <th></th>\n",
              "      <th>Name</th>\n",
              "      <th>URL</th>\n",
              "      <th>Class</th>\n",
              "      <th>Status</th>\n",
              "      <th>Description</th>\n",
              "    </tr>\n",
              "  </thead>\n",
              "  <tbody>\n",
              "    <tr>\n",
              "      <th>40</th>\n",
              "      <td>Restocks</td>\n",
              "      <td>https://restocks.io</td>\n",
              "      <td>F1</td>\n",
              "      <td>NaN</td>\n",
              "      <td>Push notifications when sold out products restock</td>\n",
              "    </tr>\n",
              "    <tr>\n",
              "      <th>124</th>\n",
              "      <td>Restocks</td>\n",
              "      <td>https://restocks.io</td>\n",
              "      <td>W16</td>\n",
              "      <td>NaN</td>\n",
              "      <td>Push notifications for superconsumers. We make...</td>\n",
              "    </tr>\n",
              "  </tbody>\n",
              "</table>\n",
              "</div>"
            ],
            "text/plain": [
              "         Name  ...                                        Description\n",
              "40   Restocks  ...  Push notifications when sold out products restock\n",
              "124  Restocks  ...  Push notifications for superconsumers. We make...\n",
              "\n",
              "[2 rows x 5 columns]"
            ]
          },
          "metadata": {
            "tags": []
          },
          "execution_count": 8
        }
      ]
    },
    {
      "cell_type": "markdown",
      "metadata": {
        "id": "MhB2XLhmqCWj"
      },
      "source": [
        "\n",
        "\n",
        "##  Shypmate\n",
        "\n",
        "\n",
        "1.  Class difference :  F1 vs W16\n",
        "2.  Description \n",
        "\n",
        "\n",
        "\n"
      ]
    },
    {
      "cell_type": "code",
      "metadata": {
        "colab": {
          "base_uri": "https://localhost:8080/",
          "height": 112
        },
        "id": "WxzjysqKpnlk",
        "outputId": "0ada07b4-9c5e-498d-a818-1e3ce8332ee9"
      },
      "source": [
        "df[df[\"Name\"]== \"Shypmate\"]"
      ],
      "execution_count": 9,
      "outputs": [
        {
          "output_type": "execute_result",
          "data": {
            "text/html": [
              "<div>\n",
              "<style scoped>\n",
              "    .dataframe tbody tr th:only-of-type {\n",
              "        vertical-align: middle;\n",
              "    }\n",
              "\n",
              "    .dataframe tbody tr th {\n",
              "        vertical-align: top;\n",
              "    }\n",
              "\n",
              "    .dataframe thead th {\n",
              "        text-align: right;\n",
              "    }\n",
              "</style>\n",
              "<table border=\"1\" class=\"dataframe\">\n",
              "  <thead>\n",
              "    <tr style=\"text-align: right;\">\n",
              "      <th></th>\n",
              "      <th>Name</th>\n",
              "      <th>URL</th>\n",
              "      <th>Class</th>\n",
              "      <th>Status</th>\n",
              "      <th>Description</th>\n",
              "    </tr>\n",
              "  </thead>\n",
              "  <tbody>\n",
              "    <tr>\n",
              "      <th>41</th>\n",
              "      <td>Shypmate</td>\n",
              "      <td>http://www.shypmate.com</td>\n",
              "      <td>F1</td>\n",
              "      <td>NaN</td>\n",
              "      <td>Affordable and fast international peer to peer...</td>\n",
              "    </tr>\n",
              "    <tr>\n",
              "      <th>132</th>\n",
              "      <td>Shypmate</td>\n",
              "      <td>http://www.shypmate.com</td>\n",
              "      <td>W16</td>\n",
              "      <td>NaN</td>\n",
              "      <td>Shypmate enables a fast, reliable and cost eff...</td>\n",
              "    </tr>\n",
              "  </tbody>\n",
              "</table>\n",
              "</div>"
            ],
            "text/plain": [
              "         Name  ...                                        Description\n",
              "41   Shypmate  ...  Affordable and fast international peer to peer...\n",
              "132  Shypmate  ...  Shypmate enables a fast, reliable and cost eff...\n",
              "\n",
              "[2 rows x 5 columns]"
            ]
          },
          "metadata": {
            "tags": []
          },
          "execution_count": 9
        }
      ]
    },
    {
      "cell_type": "markdown",
      "metadata": {
        "id": "T51761hCrEtP"
      },
      "source": [
        "\n",
        "\n",
        "##   StrongIntro\n",
        "1.  Class difference :  F1 vs W16\n",
        "2.   Description \n",
        "3. Status : Nan vs Dead\n"
      ]
    },
    {
      "cell_type": "code",
      "metadata": {
        "colab": {
          "base_uri": "https://localhost:8080/",
          "height": 112
        },
        "id": "FBma2klaqNE6",
        "outputId": "b449cba3-5595-43c4-95a7-4bc8c0f8def2"
      },
      "source": [
        "df[df[\"Name\"]== \"StrongIntro\"]"
      ],
      "execution_count": 10,
      "outputs": [
        {
          "output_type": "execute_result",
          "data": {
            "text/html": [
              "<div>\n",
              "<style scoped>\n",
              "    .dataframe tbody tr th:only-of-type {\n",
              "        vertical-align: middle;\n",
              "    }\n",
              "\n",
              "    .dataframe tbody tr th {\n",
              "        vertical-align: top;\n",
              "    }\n",
              "\n",
              "    .dataframe thead th {\n",
              "        text-align: right;\n",
              "    }\n",
              "</style>\n",
              "<table border=\"1\" class=\"dataframe\">\n",
              "  <thead>\n",
              "    <tr style=\"text-align: right;\">\n",
              "      <th></th>\n",
              "      <th>Name</th>\n",
              "      <th>URL</th>\n",
              "      <th>Class</th>\n",
              "      <th>Status</th>\n",
              "      <th>Description</th>\n",
              "    </tr>\n",
              "  </thead>\n",
              "  <tbody>\n",
              "    <tr>\n",
              "      <th>43</th>\n",
              "      <td>StrongIntro</td>\n",
              "      <td>https://strongintro.com</td>\n",
              "      <td>F1</td>\n",
              "      <td>NaN</td>\n",
              "      <td>Recruiting tool and service that 10xÕs your em...</td>\n",
              "    </tr>\n",
              "    <tr>\n",
              "      <th>138</th>\n",
              "      <td>StrongIntro</td>\n",
              "      <td>NaN</td>\n",
              "      <td>W16</td>\n",
              "      <td>Dead</td>\n",
              "      <td>StrongIntro helps recruiters turn their entire...</td>\n",
              "    </tr>\n",
              "  </tbody>\n",
              "</table>\n",
              "</div>"
            ],
            "text/plain": [
              "            Name  ...                                        Description\n",
              "43   StrongIntro  ...  Recruiting tool and service that 10xÕs your em...\n",
              "138  StrongIntro  ...  StrongIntro helps recruiters turn their entire...\n",
              "\n",
              "[2 rows x 5 columns]"
            ]
          },
          "metadata": {
            "tags": []
          },
          "execution_count": 10
        }
      ]
    },
    {
      "cell_type": "markdown",
      "metadata": {
        "id": "0O0imQ55sQ3f"
      },
      "source": [
        "\n",
        "\n",
        "##   Supply\n",
        "1.  Class difference :  S15 vs W15\n",
        "\n"
      ]
    },
    {
      "cell_type": "code",
      "metadata": {
        "colab": {
          "base_uri": "https://localhost:8080/",
          "height": 112
        },
        "id": "BmwkV8cvrIGj",
        "outputId": "47117bcc-2777-4ac9-de73-e53c8218ae7a"
      },
      "source": [
        "df[df[\"Name\"]== \"Supply\"]"
      ],
      "execution_count": 11,
      "outputs": [
        {
          "output_type": "execute_result",
          "data": {
            "text/html": [
              "<div>\n",
              "<style scoped>\n",
              "    .dataframe tbody tr th:only-of-type {\n",
              "        vertical-align: middle;\n",
              "    }\n",
              "\n",
              "    .dataframe tbody tr th {\n",
              "        vertical-align: top;\n",
              "    }\n",
              "\n",
              "    .dataframe thead th {\n",
              "        text-align: right;\n",
              "    }\n",
              "</style>\n",
              "<table border=\"1\" class=\"dataframe\">\n",
              "  <thead>\n",
              "    <tr style=\"text-align: right;\">\n",
              "      <th></th>\n",
              "      <th>Name</th>\n",
              "      <th>URL</th>\n",
              "      <th>Class</th>\n",
              "      <th>Status</th>\n",
              "      <th>Description</th>\n",
              "    </tr>\n",
              "  </thead>\n",
              "  <tbody>\n",
              "    <tr>\n",
              "      <th>236</th>\n",
              "      <td>Supply</td>\n",
              "      <td>http://www.madebysupply.com</td>\n",
              "      <td>S15</td>\n",
              "      <td>NaN</td>\n",
              "      <td>Wireless power, through the air</td>\n",
              "    </tr>\n",
              "    <tr>\n",
              "      <th>338</th>\n",
              "      <td>Supply</td>\n",
              "      <td>http://www.madebysupply.com</td>\n",
              "      <td>W15</td>\n",
              "      <td>NaN</td>\n",
              "      <td>Wireless power, through the air</td>\n",
              "    </tr>\n",
              "  </tbody>\n",
              "</table>\n",
              "</div>"
            ],
            "text/plain": [
              "       Name  ...                      Description\n",
              "236  Supply  ...  Wireless power, through the air\n",
              "338  Supply  ...  Wireless power, through the air\n",
              "\n",
              "[2 rows x 5 columns]"
            ]
          },
          "metadata": {
            "tags": []
          },
          "execution_count": 11
        }
      ]
    },
    {
      "cell_type": "markdown",
      "metadata": {
        "id": "LSbTdcSmsjoO"
      },
      "source": [
        "\n",
        "\n",
        "##   Weave\n",
        "1.  Two different startups : not the same description\n"
      ]
    },
    {
      "cell_type": "code",
      "metadata": {
        "colab": {
          "base_uri": "https://localhost:8080/",
          "height": 112
        },
        "id": "fI4NHAyNsbCZ",
        "outputId": "ccd59fb5-12da-4856-cf31-b560f5528bdf"
      },
      "source": [
        "df[df[\"Name\"]== \"Weave\"]"
      ],
      "execution_count": 14,
      "outputs": [
        {
          "output_type": "execute_result",
          "data": {
            "text/html": [
              "<div>\n",
              "<style scoped>\n",
              "    .dataframe tbody tr th:only-of-type {\n",
              "        vertical-align: middle;\n",
              "    }\n",
              "\n",
              "    .dataframe tbody tr th {\n",
              "        vertical-align: top;\n",
              "    }\n",
              "\n",
              "    .dataframe thead th {\n",
              "        text-align: right;\n",
              "    }\n",
              "</style>\n",
              "<table border=\"1\" class=\"dataframe\">\n",
              "  <thead>\n",
              "    <tr style=\"text-align: right;\">\n",
              "      <th></th>\n",
              "      <th>Name</th>\n",
              "      <th>URL</th>\n",
              "      <th>Class</th>\n",
              "      <th>Status</th>\n",
              "      <th>Description</th>\n",
              "    </tr>\n",
              "  </thead>\n",
              "  <tbody>\n",
              "    <tr>\n",
              "      <th>406</th>\n",
              "      <td>Weave</td>\n",
              "      <td>NaN</td>\n",
              "      <td>S14</td>\n",
              "      <td>Dead</td>\n",
              "      <td>Professional networking to arrange meetings an...</td>\n",
              "    </tr>\n",
              "    <tr>\n",
              "      <th>461</th>\n",
              "      <td>Weave</td>\n",
              "      <td>http://www.getweave.com</td>\n",
              "      <td>W14</td>\n",
              "      <td>NaN</td>\n",
              "      <td>Better phone service for your dental practice ...</td>\n",
              "    </tr>\n",
              "  </tbody>\n",
              "</table>\n",
              "</div>"
            ],
            "text/plain": [
              "      Name  ...                                        Description\n",
              "406  Weave  ...  Professional networking to arrange meetings an...\n",
              "461  Weave  ...  Better phone service for your dental practice ...\n",
              "\n",
              "[2 rows x 5 columns]"
            ]
          },
          "metadata": {
            "tags": []
          },
          "execution_count": 14
        }
      ]
    },
    {
      "cell_type": "markdown",
      "metadata": {
        "id": "d5Mc25sGxkYY"
      },
      "source": [
        "### Didn't drop any of them because we can get insights from the change of Class status"
      ]
    },
    {
      "cell_type": "markdown",
      "metadata": {
        "id": "D0XqpM8Bt4HE"
      },
      "source": [
        "# Column 2: URLS"
      ]
    },
    {
      "cell_type": "code",
      "metadata": {
        "colab": {
          "base_uri": "https://localhost:8080/",
          "height": 424
        },
        "id": "FNhJ4olbuCPT",
        "outputId": "bd3facde-27f9-42df-d82e-1e4bbee66d91"
      },
      "source": [
        "print(df[\"URL\"].isna().sum())\n",
        "df[df[\"URL\"].isna() == True]"
      ],
      "execution_count": 18,
      "outputs": [
        {
          "output_type": "execute_result",
          "data": {
            "text/html": [
              "<div>\n",
              "<style scoped>\n",
              "    .dataframe tbody tr th:only-of-type {\n",
              "        vertical-align: middle;\n",
              "    }\n",
              "\n",
              "    .dataframe tbody tr th {\n",
              "        vertical-align: top;\n",
              "    }\n",
              "\n",
              "    .dataframe thead th {\n",
              "        text-align: right;\n",
              "    }\n",
              "</style>\n",
              "<table border=\"1\" class=\"dataframe\">\n",
              "  <thead>\n",
              "    <tr style=\"text-align: right;\">\n",
              "      <th></th>\n",
              "      <th>Name</th>\n",
              "      <th>URL</th>\n",
              "      <th>Class</th>\n",
              "      <th>Status</th>\n",
              "      <th>Description</th>\n",
              "    </tr>\n",
              "  </thead>\n",
              "  <tbody>\n",
              "    <tr>\n",
              "      <th>29</th>\n",
              "      <td>Convrge</td>\n",
              "      <td>NaN</td>\n",
              "      <td>F1</td>\n",
              "      <td>Dead</td>\n",
              "      <td>Hang out with friends in virtual reality</td>\n",
              "    </tr>\n",
              "    <tr>\n",
              "      <th>33</th>\n",
              "      <td>FlightMate</td>\n",
              "      <td>NaN</td>\n",
              "      <td>F1</td>\n",
              "      <td>Dead</td>\n",
              "      <td>Flexible flight querying with automated booking</td>\n",
              "    </tr>\n",
              "    <tr>\n",
              "      <th>35</th>\n",
              "      <td>Jetty Financial</td>\n",
              "      <td>NaN</td>\n",
              "      <td>F1</td>\n",
              "      <td>Dead</td>\n",
              "      <td>Virtual assistant to manage finances</td>\n",
              "    </tr>\n",
              "    <tr>\n",
              "      <th>123</th>\n",
              "      <td>Redspread</td>\n",
              "      <td>NaN</td>\n",
              "      <td>W16</td>\n",
              "      <td>Dead</td>\n",
              "      <td>Version control for software environments</td>\n",
              "    </tr>\n",
              "    <tr>\n",
              "      <th>138</th>\n",
              "      <td>StrongIntro</td>\n",
              "      <td>NaN</td>\n",
              "      <td>W16</td>\n",
              "      <td>Dead</td>\n",
              "      <td>StrongIntro helps recruiters turn their entire...</td>\n",
              "    </tr>\n",
              "    <tr>\n",
              "      <th>...</th>\n",
              "      <td>...</td>\n",
              "      <td>...</td>\n",
              "      <td>...</td>\n",
              "      <td>...</td>\n",
              "      <td>...</td>\n",
              "    </tr>\n",
              "    <tr>\n",
              "      <th>953</th>\n",
              "      <td>YouOS</td>\n",
              "      <td>NaN</td>\n",
              "      <td>W06</td>\n",
              "      <td>Dead</td>\n",
              "      <td>YouOS provides a platform for developers to cr...</td>\n",
              "    </tr>\n",
              "    <tr>\n",
              "      <th>954</th>\n",
              "      <td>ClickFacts</td>\n",
              "      <td>NaN</td>\n",
              "      <td>S05</td>\n",
              "      <td>NaN</td>\n",
              "      <td>ClickFacts is a Malware Software Solutions com...</td>\n",
              "    </tr>\n",
              "    <tr>\n",
              "      <th>955</th>\n",
              "      <td>Infogami</td>\n",
              "      <td>NaN</td>\n",
              "      <td>S05</td>\n",
              "      <td>Exited</td>\n",
              "      <td>Merged with Reddit.ÊInfogami is a wiki applica...</td>\n",
              "    </tr>\n",
              "    <tr>\n",
              "      <th>958</th>\n",
              "      <td>Memamp</td>\n",
              "      <td>NaN</td>\n",
              "      <td>S05</td>\n",
              "      <td>Dead</td>\n",
              "      <td>A better desktop search solution</td>\n",
              "    </tr>\n",
              "    <tr>\n",
              "      <th>960</th>\n",
              "      <td>Simmery</td>\n",
              "      <td>NaN</td>\n",
              "      <td>S05</td>\n",
              "      <td>Dead</td>\n",
              "      <td>NaN</td>\n",
              "    </tr>\n",
              "  </tbody>\n",
              "</table>\n",
              "<p>153 rows × 5 columns</p>\n",
              "</div>"
            ],
            "text/plain": [
              "                Name  ...                                        Description\n",
              "29           Convrge  ...           Hang out with friends in virtual reality\n",
              "33        FlightMate  ...    Flexible flight querying with automated booking\n",
              "35   Jetty Financial  ...               Virtual assistant to manage finances\n",
              "123        Redspread  ...          Version control for software environments\n",
              "138      StrongIntro  ...  StrongIntro helps recruiters turn their entire...\n",
              "..               ...  ...                                                ...\n",
              "953            YouOS  ...  YouOS provides a platform for developers to cr...\n",
              "954       ClickFacts  ...  ClickFacts is a Malware Software Solutions com...\n",
              "955         Infogami  ...  Merged with Reddit.ÊInfogami is a wiki applica...\n",
              "958           Memamp  ...                   A better desktop search solution\n",
              "960          Simmery  ...                                                NaN\n",
              "\n",
              "[153 rows x 5 columns]"
            ]
          },
          "metadata": {
            "tags": []
          },
          "execution_count": 18
        }
      ]
    },
    {
      "cell_type": "markdown",
      "metadata": {
        "id": "za3iURVcuXs-"
      },
      "source": [
        "## we have 153 startups without Url ==> 15.9%\n",
        "Website is a redundant feature and will not give us any insight, we better drop the column"
      ]
    },
    {
      "cell_type": "code",
      "metadata": {
        "colab": {
          "base_uri": "https://localhost:8080/",
          "height": 206
        },
        "id": "tUIZns2c7WSm",
        "outputId": "1388f558-fce1-40ec-9e7c-4794adb8e7bf"
      },
      "source": [
        "df.drop(columns=[\"URL\"], axis=1, inplace=True)\n",
        "df.head()"
      ],
      "execution_count": 44,
      "outputs": [
        {
          "output_type": "execute_result",
          "data": {
            "text/html": [
              "<div>\n",
              "<style scoped>\n",
              "    .dataframe tbody tr th:only-of-type {\n",
              "        vertical-align: middle;\n",
              "    }\n",
              "\n",
              "    .dataframe tbody tr th {\n",
              "        vertical-align: top;\n",
              "    }\n",
              "\n",
              "    .dataframe thead th {\n",
              "        text-align: right;\n",
              "    }\n",
              "</style>\n",
              "<table border=\"1\" class=\"dataframe\">\n",
              "  <thead>\n",
              "    <tr style=\"text-align: right;\">\n",
              "      <th></th>\n",
              "      <th>Name</th>\n",
              "      <th>Class</th>\n",
              "      <th>Status</th>\n",
              "      <th>Description</th>\n",
              "    </tr>\n",
              "  </thead>\n",
              "  <tbody>\n",
              "    <tr>\n",
              "      <th>0</th>\n",
              "      <td>Awesound</td>\n",
              "      <td>F2</td>\n",
              "      <td>NaN</td>\n",
              "      <td>AdWords for podcasts</td>\n",
              "    </tr>\n",
              "    <tr>\n",
              "      <th>1</th>\n",
              "      <td>BillionToOne</td>\n",
              "      <td>F2</td>\n",
              "      <td>NaN</td>\n",
              "      <td>Fetal genetic testing in India</td>\n",
              "    </tr>\n",
              "    <tr>\n",
              "      <th>2</th>\n",
              "      <td>Bulletin</td>\n",
              "      <td>F2</td>\n",
              "      <td>NaN</td>\n",
              "      <td>Airbnb for retail</td>\n",
              "    </tr>\n",
              "    <tr>\n",
              "      <th>3</th>\n",
              "      <td>Cerplus</td>\n",
              "      <td>F2</td>\n",
              "      <td>NaN</td>\n",
              "      <td>B2B marketplace for surplus produce</td>\n",
              "    </tr>\n",
              "    <tr>\n",
              "      <th>4</th>\n",
              "      <td>ConnectHealth</td>\n",
              "      <td>F2</td>\n",
              "      <td>NaN</td>\n",
              "      <td>Telemedicine and prescription delivery in Africa</td>\n",
              "    </tr>\n",
              "  </tbody>\n",
              "</table>\n",
              "</div>"
            ],
            "text/plain": [
              "            Name Class Status                                       Description\n",
              "0       Awesound    F2    NaN                              AdWords for podcasts\n",
              "1   BillionToOne    F2    NaN                    Fetal genetic testing in India\n",
              "2       Bulletin    F2    NaN                                 Airbnb for retail\n",
              "3        Cerplus    F2    NaN               B2B marketplace for surplus produce\n",
              "4  ConnectHealth    F2    NaN  Telemedicine and prescription delivery in Africa"
            ]
          },
          "metadata": {
            "tags": []
          },
          "execution_count": 44
        }
      ]
    },
    {
      "cell_type": "markdown",
      "metadata": {
        "id": "1gr_VmpfuuHV"
      },
      "source": [
        "# Column 3: Class"
      ]
    },
    {
      "cell_type": "code",
      "metadata": {
        "colab": {
          "base_uri": "https://localhost:8080/"
        },
        "id": "9WiUFkVDu1FG",
        "outputId": "7b39d705-f32f-4b1e-f193-3bc863ae1773"
      },
      "source": [
        "print(df[\"Class\"].isna().sum())"
      ],
      "execution_count": 20,
      "outputs": [
        {
          "output_type": "stream",
          "text": [
            "0\n"
          ],
          "name": "stdout"
        }
      ]
    },
    {
      "cell_type": "markdown",
      "metadata": {
        "id": "0WTCHzogvO6W"
      },
      "source": [
        "### Good thing, ,none of our startups has a missing status value"
      ]
    },
    {
      "cell_type": "code",
      "metadata": {
        "colab": {
          "base_uri": "https://localhost:8080/"
        },
        "id": "MWqO-KdxvMS0",
        "outputId": "97a46720-8f6c-4e0b-9c41-0f97a393b9a1"
      },
      "source": [
        "class_list=df[\"Class\"].unique()\n",
        "class_list.sort()\n",
        "print(len(class_list) ,class_list )"
      ],
      "execution_count": 38,
      "outputs": [
        {
          "output_type": "stream",
          "text": [
            "24 ['F1' 'F2' 'S05' 'S06' 'S07' 'S08' 'S09' 'S10' 'S11' 'S12' 'S13' 'S14'\n",
            " 'S15' 'W06' 'W07' 'W08' 'W09' 'W10' 'W11' 'W12' 'W13' 'W14' 'W15' 'W16']\n"
          ],
          "name": "stdout"
        }
      ]
    },
    {
      "cell_type": "markdown",
      "metadata": {
        "id": "cUVFRHtcwk94"
      },
      "source": [
        "### For all of our 962 startups we have only 24 class\n"
      ]
    },
    {
      "cell_type": "markdown",
      "metadata": {
        "id": "SWSDBCkAyvVg"
      },
      "source": [
        "# Column 4 : Status"
      ]
    },
    {
      "cell_type": "code",
      "metadata": {
        "colab": {
          "base_uri": "https://localhost:8080/"
        },
        "id": "GVUFojzFxAbZ",
        "outputId": "873c73c0-a9b2-4a2a-d030-776000b2e584"
      },
      "source": [
        "df[\"Status\"].isna().sum()"
      ],
      "execution_count": 39,
      "outputs": [
        {
          "output_type": "execute_result",
          "data": {
            "text/plain": [
              "748"
            ]
          },
          "metadata": {
            "tags": []
          },
          "execution_count": 39
        }
      ]
    },
    {
      "cell_type": "markdown",
      "metadata": {
        "id": "u2_HUY6C3Mck"
      },
      "source": [
        "## 77.75% of our data is missing status"
      ]
    },
    {
      "cell_type": "code",
      "metadata": {
        "colab": {
          "base_uri": "https://localhost:8080/"
        },
        "id": "Mv-ppu6UyyuQ",
        "outputId": "c025d072-e357-4e60-b82c-fda9138a2c60"
      },
      "source": [
        "df[\"Status\"].unique()"
      ],
      "execution_count": 40,
      "outputs": [
        {
          "output_type": "execute_result",
          "data": {
            "text/plain": [
              "array([nan, 'Dead', 'Exited'], dtype=object)"
            ]
          },
          "metadata": {
            "tags": []
          },
          "execution_count": 40
        }
      ]
    },
    {
      "cell_type": "code",
      "metadata": {
        "colab": {
          "base_uri": "https://localhost:8080/"
        },
        "id": "bANsgOIx4eXv",
        "outputId": "277a1b4e-0efd-4370-80f8-c83959c4d020"
      },
      "source": [
        "dead_status= df[df[\"Status\"]== 'Exited']\n",
        "len(dead_status)"
      ],
      "execution_count": 42,
      "outputs": [
        {
          "output_type": "execute_result",
          "data": {
            "text/plain": [
              "138"
            ]
          },
          "metadata": {
            "tags": []
          },
          "execution_count": 42
        }
      ]
    },
    {
      "cell_type": "code",
      "metadata": {
        "colab": {
          "base_uri": "https://localhost:8080/"
        },
        "id": "hMmA3jFs4109",
        "outputId": "512d34d4-dea3-4e9b-fd6c-deb1a408adcf"
      },
      "source": [
        "exited_status= df[df[\"Status\"]== 'Exited']\n",
        "len(exited_status)"
      ],
      "execution_count": 43,
      "outputs": [
        {
          "output_type": "execute_result",
          "data": {
            "text/plain": [
              "76"
            ]
          },
          "metadata": {
            "tags": []
          },
          "execution_count": 43
        }
      ]
    },
    {
      "cell_type": "markdown",
      "metadata": {
        "id": "rck1WRRQ5kQx"
      },
      "source": [
        "From the remaining data : \n",
        "\n",
        "1.   76 starups have the exited status\n",
        "2.   138 startups have the dead status\n",
        "\n"
      ]
    },
    {
      "cell_type": "markdown",
      "metadata": {
        "id": "llcVpn0n74yF"
      },
      "source": [
        "# Column 5 : Description"
      ]
    },
    {
      "cell_type": "code",
      "metadata": {
        "colab": {
          "base_uri": "https://localhost:8080/",
          "height": 206
        },
        "id": "1EPTkI8K5h16",
        "outputId": "4d01e0dc-912b-452d-b3d9-ddd9a884aca1"
      },
      "source": [
        "df.head()"
      ],
      "execution_count": 46,
      "outputs": [
        {
          "output_type": "execute_result",
          "data": {
            "text/html": [
              "<div>\n",
              "<style scoped>\n",
              "    .dataframe tbody tr th:only-of-type {\n",
              "        vertical-align: middle;\n",
              "    }\n",
              "\n",
              "    .dataframe tbody tr th {\n",
              "        vertical-align: top;\n",
              "    }\n",
              "\n",
              "    .dataframe thead th {\n",
              "        text-align: right;\n",
              "    }\n",
              "</style>\n",
              "<table border=\"1\" class=\"dataframe\">\n",
              "  <thead>\n",
              "    <tr style=\"text-align: right;\">\n",
              "      <th></th>\n",
              "      <th>Name</th>\n",
              "      <th>Class</th>\n",
              "      <th>Status</th>\n",
              "      <th>Description</th>\n",
              "    </tr>\n",
              "  </thead>\n",
              "  <tbody>\n",
              "    <tr>\n",
              "      <th>0</th>\n",
              "      <td>Awesound</td>\n",
              "      <td>F2</td>\n",
              "      <td>NaN</td>\n",
              "      <td>AdWords for podcasts</td>\n",
              "    </tr>\n",
              "    <tr>\n",
              "      <th>1</th>\n",
              "      <td>BillionToOne</td>\n",
              "      <td>F2</td>\n",
              "      <td>NaN</td>\n",
              "      <td>Fetal genetic testing in India</td>\n",
              "    </tr>\n",
              "    <tr>\n",
              "      <th>2</th>\n",
              "      <td>Bulletin</td>\n",
              "      <td>F2</td>\n",
              "      <td>NaN</td>\n",
              "      <td>Airbnb for retail</td>\n",
              "    </tr>\n",
              "    <tr>\n",
              "      <th>3</th>\n",
              "      <td>Cerplus</td>\n",
              "      <td>F2</td>\n",
              "      <td>NaN</td>\n",
              "      <td>B2B marketplace for surplus produce</td>\n",
              "    </tr>\n",
              "    <tr>\n",
              "      <th>4</th>\n",
              "      <td>ConnectHealth</td>\n",
              "      <td>F2</td>\n",
              "      <td>NaN</td>\n",
              "      <td>Telemedicine and prescription delivery in Africa</td>\n",
              "    </tr>\n",
              "  </tbody>\n",
              "</table>\n",
              "</div>"
            ],
            "text/plain": [
              "            Name Class Status                                       Description\n",
              "0       Awesound    F2    NaN                              AdWords for podcasts\n",
              "1   BillionToOne    F2    NaN                    Fetal genetic testing in India\n",
              "2       Bulletin    F2    NaN                                 Airbnb for retail\n",
              "3        Cerplus    F2    NaN               B2B marketplace for surplus produce\n",
              "4  ConnectHealth    F2    NaN  Telemedicine and prescription delivery in Africa"
            ]
          },
          "metadata": {
            "tags": []
          },
          "execution_count": 46
        }
      ]
    },
    {
      "cell_type": "code",
      "metadata": {
        "colab": {
          "base_uri": "https://localhost:8080/"
        },
        "id": "Gw7RaPuc8Ka8",
        "outputId": "17001cf7-2620-4683-8340-c069237956e5"
      },
      "source": [
        "df[\"Description\"].isna().sum()"
      ],
      "execution_count": 47,
      "outputs": [
        {
          "output_type": "execute_result",
          "data": {
            "text/plain": [
              "9"
            ]
          },
          "metadata": {
            "tags": []
          },
          "execution_count": 47
        }
      ]
    },
    {
      "cell_type": "markdown",
      "metadata": {
        "id": "4sXmBTia8SJE"
      },
      "source": [
        "we only have 9 startups without description"
      ]
    },
    {
      "cell_type": "code",
      "metadata": {
        "colab": {
          "base_uri": "https://localhost:8080/",
          "height": 332
        },
        "id": "wcrvKDnW8QRQ",
        "outputId": "b9f97774-4a15-400b-e7e8-f8c8ee618d29"
      },
      "source": [
        "startup_missing_descri= df[df[\"Description\"].isna() == True]\n",
        "startup_missing_descri"
      ],
      "execution_count": 49,
      "outputs": [
        {
          "output_type": "execute_result",
          "data": {
            "text/html": [
              "<div>\n",
              "<style scoped>\n",
              "    .dataframe tbody tr th:only-of-type {\n",
              "        vertical-align: middle;\n",
              "    }\n",
              "\n",
              "    .dataframe tbody tr th {\n",
              "        vertical-align: top;\n",
              "    }\n",
              "\n",
              "    .dataframe thead th {\n",
              "        text-align: right;\n",
              "    }\n",
              "</style>\n",
              "<table border=\"1\" class=\"dataframe\">\n",
              "  <thead>\n",
              "    <tr style=\"text-align: right;\">\n",
              "      <th></th>\n",
              "      <th>Name</th>\n",
              "      <th>Class</th>\n",
              "      <th>Status</th>\n",
              "      <th>Description</th>\n",
              "    </tr>\n",
              "  </thead>\n",
              "  <tbody>\n",
              "    <tr>\n",
              "      <th>778</th>\n",
              "      <td>I Move You</td>\n",
              "      <td>S10</td>\n",
              "      <td>Dead</td>\n",
              "      <td>NaN</td>\n",
              "    </tr>\n",
              "    <tr>\n",
              "      <th>788</th>\n",
              "      <td>Simperium</td>\n",
              "      <td>S10</td>\n",
              "      <td>NaN</td>\n",
              "      <td>NaN</td>\n",
              "    </tr>\n",
              "    <tr>\n",
              "      <th>819</th>\n",
              "      <td>Tweetflow</td>\n",
              "      <td>W10</td>\n",
              "      <td>Dead</td>\n",
              "      <td>NaN</td>\n",
              "    </tr>\n",
              "    <tr>\n",
              "      <th>832</th>\n",
              "      <td>Jobpic</td>\n",
              "      <td>S09</td>\n",
              "      <td>Dead</td>\n",
              "      <td>NaN</td>\n",
              "    </tr>\n",
              "    <tr>\n",
              "      <th>875</th>\n",
              "      <td>Precognate</td>\n",
              "      <td>S08</td>\n",
              "      <td>Dead</td>\n",
              "      <td>NaN</td>\n",
              "    </tr>\n",
              "    <tr>\n",
              "      <th>882</th>\n",
              "      <td>UrbanTakeover</td>\n",
              "      <td>S08</td>\n",
              "      <td>Dead</td>\n",
              "      <td>NaN</td>\n",
              "    </tr>\n",
              "    <tr>\n",
              "      <th>931</th>\n",
              "      <td>View3</td>\n",
              "      <td>W07</td>\n",
              "      <td>Dead</td>\n",
              "      <td>NaN</td>\n",
              "    </tr>\n",
              "    <tr>\n",
              "      <th>947</th>\n",
              "      <td>AudioBeta</td>\n",
              "      <td>W06</td>\n",
              "      <td>NaN</td>\n",
              "      <td>NaN</td>\n",
              "    </tr>\n",
              "    <tr>\n",
              "      <th>960</th>\n",
              "      <td>Simmery</td>\n",
              "      <td>S05</td>\n",
              "      <td>Dead</td>\n",
              "      <td>NaN</td>\n",
              "    </tr>\n",
              "  </tbody>\n",
              "</table>\n",
              "</div>"
            ],
            "text/plain": [
              "              Name Class Status Description\n",
              "778     I Move You   S10   Dead         NaN\n",
              "788      Simperium   S10    NaN         NaN\n",
              "819      Tweetflow   W10   Dead         NaN\n",
              "832         Jobpic   S09   Dead         NaN\n",
              "875     Precognate   S08   Dead         NaN\n",
              "882  UrbanTakeover   S08   Dead         NaN\n",
              "931          View3   W07   Dead         NaN\n",
              "947      AudioBeta   W06    NaN         NaN\n",
              "960        Simmery   S05   Dead         NaN"
            ]
          },
          "metadata": {
            "tags": []
          },
          "execution_count": 49
        }
      ]
    },
    {
      "cell_type": "markdown",
      "metadata": {
        "id": "cbL3DGdW-pPg"
      },
      "source": [
        "## Replacing nan values with -1 for model building"
      ]
    },
    {
      "cell_type": "code",
      "metadata": {
        "id": "nXm18Op68mYb"
      },
      "source": [
        "df.fillna(-1, inplace=True)"
      ],
      "execution_count": 55,
      "outputs": []
    },
    {
      "cell_type": "code",
      "metadata": {
        "colab": {
          "base_uri": "https://localhost:8080/",
          "height": 424
        },
        "id": "RYtEC389-id_",
        "outputId": "055ce09c-7b6d-458d-b851-60490e726147"
      },
      "source": [
        "df"
      ],
      "execution_count": 56,
      "outputs": [
        {
          "output_type": "execute_result",
          "data": {
            "text/html": [
              "<div>\n",
              "<style scoped>\n",
              "    .dataframe tbody tr th:only-of-type {\n",
              "        vertical-align: middle;\n",
              "    }\n",
              "\n",
              "    .dataframe tbody tr th {\n",
              "        vertical-align: top;\n",
              "    }\n",
              "\n",
              "    .dataframe thead th {\n",
              "        text-align: right;\n",
              "    }\n",
              "</style>\n",
              "<table border=\"1\" class=\"dataframe\">\n",
              "  <thead>\n",
              "    <tr style=\"text-align: right;\">\n",
              "      <th></th>\n",
              "      <th>Name</th>\n",
              "      <th>Class</th>\n",
              "      <th>Status</th>\n",
              "      <th>Description</th>\n",
              "    </tr>\n",
              "  </thead>\n",
              "  <tbody>\n",
              "    <tr>\n",
              "      <th>0</th>\n",
              "      <td>Awesound</td>\n",
              "      <td>F2</td>\n",
              "      <td>-1</td>\n",
              "      <td>AdWords for podcasts</td>\n",
              "    </tr>\n",
              "    <tr>\n",
              "      <th>1</th>\n",
              "      <td>BillionToOne</td>\n",
              "      <td>F2</td>\n",
              "      <td>-1</td>\n",
              "      <td>Fetal genetic testing in India</td>\n",
              "    </tr>\n",
              "    <tr>\n",
              "      <th>2</th>\n",
              "      <td>Bulletin</td>\n",
              "      <td>F2</td>\n",
              "      <td>-1</td>\n",
              "      <td>Airbnb for retail</td>\n",
              "    </tr>\n",
              "    <tr>\n",
              "      <th>3</th>\n",
              "      <td>Cerplus</td>\n",
              "      <td>F2</td>\n",
              "      <td>-1</td>\n",
              "      <td>B2B marketplace for surplus produce</td>\n",
              "    </tr>\n",
              "    <tr>\n",
              "      <th>4</th>\n",
              "      <td>ConnectHealth</td>\n",
              "      <td>F2</td>\n",
              "      <td>-1</td>\n",
              "      <td>Telemedicine and prescription delivery in Africa</td>\n",
              "    </tr>\n",
              "    <tr>\n",
              "      <th>...</th>\n",
              "      <td>...</td>\n",
              "      <td>...</td>\n",
              "      <td>...</td>\n",
              "      <td>...</td>\n",
              "    </tr>\n",
              "    <tr>\n",
              "      <th>957</th>\n",
              "      <td>Loopt</td>\n",
              "      <td>S05</td>\n",
              "      <td>Exited</td>\n",
              "      <td>Acquired by Green Dot for $43.4MM.ÊLoopt is a ...</td>\n",
              "    </tr>\n",
              "    <tr>\n",
              "      <th>958</th>\n",
              "      <td>Memamp</td>\n",
              "      <td>S05</td>\n",
              "      <td>Dead</td>\n",
              "      <td>A better desktop search solution</td>\n",
              "    </tr>\n",
              "    <tr>\n",
              "      <th>959</th>\n",
              "      <td>Reddit</td>\n",
              "      <td>S05</td>\n",
              "      <td>Exited</td>\n",
              "      <td>Acquired by Conde Nast in 2006.ÊA social news ...</td>\n",
              "    </tr>\n",
              "    <tr>\n",
              "      <th>960</th>\n",
              "      <td>Simmery</td>\n",
              "      <td>S05</td>\n",
              "      <td>Dead</td>\n",
              "      <td>-1</td>\n",
              "    </tr>\n",
              "    <tr>\n",
              "      <th>961</th>\n",
              "      <td>TextPayMe</td>\n",
              "      <td>S05</td>\n",
              "      <td>Exited</td>\n",
              "      <td>Acquired by Amazon for ~$3MM.ÊAn SMS payment s...</td>\n",
              "    </tr>\n",
              "  </tbody>\n",
              "</table>\n",
              "<p>962 rows × 4 columns</p>\n",
              "</div>"
            ],
            "text/plain": [
              "              Name  ...                                        Description\n",
              "0         Awesound  ...                               AdWords for podcasts\n",
              "1     BillionToOne  ...                     Fetal genetic testing in India\n",
              "2         Bulletin  ...                                  Airbnb for retail\n",
              "3          Cerplus  ...                B2B marketplace for surplus produce\n",
              "4    ConnectHealth  ...   Telemedicine and prescription delivery in Africa\n",
              "..             ...  ...                                                ...\n",
              "957          Loopt  ...  Acquired by Green Dot for $43.4MM.ÊLoopt is a ...\n",
              "958         Memamp  ...                   A better desktop search solution\n",
              "959         Reddit  ...  Acquired by Conde Nast in 2006.ÊA social news ...\n",
              "960        Simmery  ...                                                 -1\n",
              "961      TextPayMe  ...  Acquired by Amazon for ~$3MM.ÊAn SMS payment s...\n",
              "\n",
              "[962 rows x 4 columns]"
            ]
          },
          "metadata": {
            "tags": []
          },
          "execution_count": 56
        }
      ]
    },
    {
      "cell_type": "code",
      "metadata": {
        "id": "EbcGwRzM-jbB"
      },
      "source": [
        "df.to_csv(\"y_combinator_data22\")"
      ],
      "execution_count": 57,
      "outputs": []
    },
    {
      "cell_type": "code",
      "metadata": {
        "id": "Hbu7yJXI_PTp"
      },
      "source": [
        ""
      ],
      "execution_count": null,
      "outputs": []
    }
  ]
}