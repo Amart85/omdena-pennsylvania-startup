{
  "nbformat": 4,
  "nbformat_minor": 0,
  "metadata": {
    "colab": {
      "name": "data14_model.ipynb",
      "provenance": [],
      "collapsed_sections": []
    },
    "kernelspec": {
      "name": "python3",
      "display_name": "Python 3"
    },
    "language_info": {
      "name": "python"
    },
    "widgets": {
      "application/vnd.jupyter.widget-state+json": {
        "fce9e0cca7dc4d5fab8d126069261269": {
          "model_module": "@jupyter-widgets/controls",
          "model_name": "IntProgressModel",
          "state": {
            "_view_name": "ProgressView",
            "style": "IPY_MODEL_145dcd54185b4159bc107e26225417db",
            "_dom_classes": [],
            "description": "Processing: ",
            "_model_name": "IntProgressModel",
            "bar_style": "",
            "max": 3,
            "_view_module": "@jupyter-widgets/controls",
            "_model_module_version": "1.5.0",
            "value": 3,
            "_view_count": null,
            "_view_module_version": "1.5.0",
            "orientation": "horizontal",
            "min": 0,
            "description_tooltip": null,
            "_model_module": "@jupyter-widgets/controls",
            "layout": "IPY_MODEL_276c18113cf44a46903d3b435180de85"
          }
        },
        "145dcd54185b4159bc107e26225417db": {
          "model_module": "@jupyter-widgets/controls",
          "model_name": "ProgressStyleModel",
          "state": {
            "_view_name": "StyleView",
            "_model_name": "ProgressStyleModel",
            "description_width": "",
            "_view_module": "@jupyter-widgets/base",
            "_model_module_version": "1.5.0",
            "_view_count": null,
            "_view_module_version": "1.2.0",
            "bar_color": null,
            "_model_module": "@jupyter-widgets/controls"
          }
        },
        "276c18113cf44a46903d3b435180de85": {
          "model_module": "@jupyter-widgets/base",
          "model_name": "LayoutModel",
          "state": {
            "_view_name": "LayoutView",
            "grid_template_rows": null,
            "right": null,
            "justify_content": null,
            "_view_module": "@jupyter-widgets/base",
            "overflow": null,
            "_model_module_version": "1.2.0",
            "_view_count": null,
            "flex_flow": null,
            "width": null,
            "min_width": null,
            "border": null,
            "align_items": null,
            "bottom": null,
            "_model_module": "@jupyter-widgets/base",
            "top": null,
            "grid_column": null,
            "overflow_y": null,
            "overflow_x": null,
            "grid_auto_flow": null,
            "grid_area": null,
            "grid_template_columns": null,
            "flex": null,
            "_model_name": "LayoutModel",
            "justify_items": null,
            "grid_row": null,
            "max_height": null,
            "align_content": null,
            "visibility": null,
            "align_self": null,
            "height": null,
            "min_height": null,
            "padding": null,
            "grid_auto_rows": null,
            "grid_gap": null,
            "max_width": null,
            "order": null,
            "_view_module_version": "1.2.0",
            "grid_template_areas": null,
            "object_position": null,
            "object_fit": null,
            "grid_auto_columns": null,
            "margin": null,
            "display": null,
            "left": null
          }
        },
        "f7bf53f4fcab49db89bb95a100d5a1a6": {
          "model_module": "@jupyter-widgets/controls",
          "model_name": "TextModel",
          "state": {
            "_view_name": "TextView",
            "style": "IPY_MODEL_4c5dc117a10047c18f5bead5e8b82fab",
            "_dom_classes": [],
            "description": "",
            "_model_name": "TextModel",
            "placeholder": "​",
            "_view_module": "@jupyter-widgets/controls",
            "_model_module_version": "1.5.0",
            "value": "Following data types have been inferred automatically, if they are correct press enter to continue or type 'quit' otherwise.",
            "_view_count": null,
            "disabled": false,
            "_view_module_version": "1.5.0",
            "continuous_update": true,
            "description_tooltip": null,
            "_model_module": "@jupyter-widgets/controls",
            "layout": "IPY_MODEL_2163ec2b1f464cf39041eb895c6b6586"
          }
        },
        "4c5dc117a10047c18f5bead5e8b82fab": {
          "model_module": "@jupyter-widgets/controls",
          "model_name": "DescriptionStyleModel",
          "state": {
            "_view_name": "StyleView",
            "_model_name": "DescriptionStyleModel",
            "description_width": "",
            "_view_module": "@jupyter-widgets/base",
            "_model_module_version": "1.5.0",
            "_view_count": null,
            "_view_module_version": "1.2.0",
            "_model_module": "@jupyter-widgets/controls"
          }
        },
        "2163ec2b1f464cf39041eb895c6b6586": {
          "model_module": "@jupyter-widgets/base",
          "model_name": "LayoutModel",
          "state": {
            "_view_name": "LayoutView",
            "grid_template_rows": null,
            "right": null,
            "justify_content": null,
            "_view_module": "@jupyter-widgets/base",
            "overflow": null,
            "_model_module_version": "1.2.0",
            "_view_count": null,
            "flex_flow": null,
            "width": "100%",
            "min_width": null,
            "border": null,
            "align_items": null,
            "bottom": null,
            "_model_module": "@jupyter-widgets/base",
            "top": null,
            "grid_column": null,
            "overflow_y": null,
            "overflow_x": null,
            "grid_auto_flow": null,
            "grid_area": null,
            "grid_template_columns": null,
            "flex": null,
            "_model_name": "LayoutModel",
            "justify_items": null,
            "grid_row": null,
            "max_height": null,
            "align_content": null,
            "visibility": null,
            "align_self": null,
            "height": null,
            "min_height": null,
            "padding": null,
            "grid_auto_rows": null,
            "grid_gap": null,
            "max_width": null,
            "order": null,
            "_view_module_version": "1.2.0",
            "grid_template_areas": null,
            "object_position": null,
            "object_fit": null,
            "grid_auto_columns": null,
            "margin": null,
            "display": null,
            "left": null
          }
        },
        "5049ae332f3f4dc6830ba6a0f71a15bb": {
          "model_module": "@jupyter-widgets/controls",
          "model_name": "IntProgressModel",
          "state": {
            "_view_name": "ProgressView",
            "style": "IPY_MODEL_eabd9d04e6394880a5336ad2b41a0db7",
            "_dom_classes": [],
            "description": "Processing: ",
            "_model_name": "IntProgressModel",
            "bar_style": "",
            "max": 84,
            "_view_module": "@jupyter-widgets/controls",
            "_model_module_version": "1.5.0",
            "value": 84,
            "_view_count": null,
            "_view_module_version": "1.5.0",
            "orientation": "horizontal",
            "min": 0,
            "description_tooltip": null,
            "_model_module": "@jupyter-widgets/controls",
            "layout": "IPY_MODEL_e65cbc3d0f9d4c4e9d95d41590e550c7"
          }
        },
        "eabd9d04e6394880a5336ad2b41a0db7": {
          "model_module": "@jupyter-widgets/controls",
          "model_name": "ProgressStyleModel",
          "state": {
            "_view_name": "StyleView",
            "_model_name": "ProgressStyleModel",
            "description_width": "",
            "_view_module": "@jupyter-widgets/base",
            "_model_module_version": "1.5.0",
            "_view_count": null,
            "_view_module_version": "1.2.0",
            "bar_color": null,
            "_model_module": "@jupyter-widgets/controls"
          }
        },
        "e65cbc3d0f9d4c4e9d95d41590e550c7": {
          "model_module": "@jupyter-widgets/base",
          "model_name": "LayoutModel",
          "state": {
            "_view_name": "LayoutView",
            "grid_template_rows": null,
            "right": null,
            "justify_content": null,
            "_view_module": "@jupyter-widgets/base",
            "overflow": null,
            "_model_module_version": "1.2.0",
            "_view_count": null,
            "flex_flow": null,
            "width": null,
            "min_width": null,
            "border": null,
            "align_items": null,
            "bottom": null,
            "_model_module": "@jupyter-widgets/base",
            "top": null,
            "grid_column": null,
            "overflow_y": null,
            "overflow_x": null,
            "grid_auto_flow": null,
            "grid_area": null,
            "grid_template_columns": null,
            "flex": null,
            "_model_name": "LayoutModel",
            "justify_items": null,
            "grid_row": null,
            "max_height": null,
            "align_content": null,
            "visibility": null,
            "align_self": null,
            "height": null,
            "min_height": null,
            "padding": null,
            "grid_auto_rows": null,
            "grid_gap": null,
            "max_width": null,
            "order": null,
            "_view_module_version": "1.2.0",
            "grid_template_areas": null,
            "object_position": null,
            "object_fit": null,
            "grid_auto_columns": null,
            "margin": null,
            "display": null,
            "left": null
          }
        },
        "80fce8f8d6834fb3a7ef16b0fcf55555": {
          "model_module": "@jupyter-widgets/controls",
          "model_name": "IntProgressModel",
          "state": {
            "_view_name": "ProgressView",
            "style": "IPY_MODEL_425e0e55443349999eadba4b27dbf16c",
            "_dom_classes": [],
            "description": "Processing: ",
            "_model_name": "IntProgressModel",
            "bar_style": "",
            "max": 7,
            "_view_module": "@jupyter-widgets/controls",
            "_model_module_version": "1.5.0",
            "value": 7,
            "_view_count": null,
            "_view_module_version": "1.5.0",
            "orientation": "horizontal",
            "min": 0,
            "description_tooltip": null,
            "_model_module": "@jupyter-widgets/controls",
            "layout": "IPY_MODEL_baf79220cf5547539099fcf47818712d"
          }
        },
        "425e0e55443349999eadba4b27dbf16c": {
          "model_module": "@jupyter-widgets/controls",
          "model_name": "ProgressStyleModel",
          "state": {
            "_view_name": "StyleView",
            "_model_name": "ProgressStyleModel",
            "description_width": "",
            "_view_module": "@jupyter-widgets/base",
            "_model_module_version": "1.5.0",
            "_view_count": null,
            "_view_module_version": "1.2.0",
            "bar_color": null,
            "_model_module": "@jupyter-widgets/controls"
          }
        },
        "baf79220cf5547539099fcf47818712d": {
          "model_module": "@jupyter-widgets/base",
          "model_name": "LayoutModel",
          "state": {
            "_view_name": "LayoutView",
            "grid_template_rows": null,
            "right": null,
            "justify_content": null,
            "_view_module": "@jupyter-widgets/base",
            "overflow": null,
            "_model_module_version": "1.2.0",
            "_view_count": null,
            "flex_flow": null,
            "width": null,
            "min_width": null,
            "border": null,
            "align_items": null,
            "bottom": null,
            "_model_module": "@jupyter-widgets/base",
            "top": null,
            "grid_column": null,
            "overflow_y": null,
            "overflow_x": null,
            "grid_auto_flow": null,
            "grid_area": null,
            "grid_template_columns": null,
            "flex": null,
            "_model_name": "LayoutModel",
            "justify_items": null,
            "grid_row": null,
            "max_height": null,
            "align_content": null,
            "visibility": null,
            "align_self": null,
            "height": null,
            "min_height": null,
            "padding": null,
            "grid_auto_rows": null,
            "grid_gap": null,
            "max_width": null,
            "order": null,
            "_view_module_version": "1.2.0",
            "grid_template_areas": null,
            "object_position": null,
            "object_fit": null,
            "grid_auto_columns": null,
            "margin": null,
            "display": null,
            "left": null
          }
        }
      }
    }
  },
  "cells": [
    {
      "cell_type": "code",
      "metadata": {
        "id": "sPs9gUjJc9KN"
      },
      "source": [
        "import numpy as np\n",
        "import pandas as pd\n",
        "import matplotlib.pyplot as plt\n",
        "%matplotlib inline"
      ],
      "execution_count": 3,
      "outputs": []
    },
    {
      "cell_type": "code",
      "metadata": {
        "colab": {
          "base_uri": "https://localhost:8080/",
          "height": 1000
        },
        "id": "np0Di1ZnegZx",
        "outputId": "8c238c81-04ac-4391-e13d-c2b7243e1636"
      },
      "source": [
        "df = pd.read_csv('data14(1).csv')\n",
        "df.head(10)"
      ],
      "execution_count": 4,
      "outputs": [
        {
          "output_type": "execute_result",
          "data": {
            "text/html": [
              "<div>\n",
              "<style scoped>\n",
              "    .dataframe tbody tr th:only-of-type {\n",
              "        vertical-align: middle;\n",
              "    }\n",
              "\n",
              "    .dataframe tbody tr th {\n",
              "        vertical-align: top;\n",
              "    }\n",
              "\n",
              "    .dataframe thead th {\n",
              "        text-align: right;\n",
              "    }\n",
              "</style>\n",
              "<table border=\"1\" class=\"dataframe\">\n",
              "  <thead>\n",
              "    <tr style=\"text-align: right;\">\n",
              "      <th></th>\n",
              "      <th>Unnamed: 0</th>\n",
              "      <th>market</th>\n",
              "      <th>products</th>\n",
              "      <th>launch_stage</th>\n",
              "      <th>activity_level</th>\n",
              "      <th>activity_verified</th>\n",
              "      <th>pageviews</th>\n",
              "      <th>team_member</th>\n",
              "      <th>founded_by</th>\n",
              "      <th>revenue_stage</th>\n",
              "      <th>revenue_through</th>\n",
              "      <th>twitter_followers</th>\n",
              "      <th>amount_raised</th>\n",
              "      <th>company_website</th>\n",
              "      <th>description</th>\n",
              "      <th>name</th>\n",
              "      <th>founded</th>\n",
              "      <th>place</th>\n",
              "      <th>crunchbase_link</th>\n",
              "      <th>ranking</th>\n",
              "    </tr>\n",
              "  </thead>\n",
              "  <tbody>\n",
              "    <tr>\n",
              "      <th>0</th>\n",
              "      <td>0</td>\n",
              "      <td>'marketing', 'productivity', 'social networks'...</td>\n",
              "      <td>'desktop app', 'mobile app', 'service', 'web app'</td>\n",
              "      <td>Publicly</td>\n",
              "      <td>Low company activity detected</td>\n",
              "      <td>21 Jan 21</td>\n",
              "      <td>72600.0</td>\n",
              "      <td>30.5</td>\n",
              "      <td>'SocialMeep'</td>\n",
              "      <td>Post</td>\n",
              "      <td>'b2c', 'b2b', 'freemium', 'subscription'</td>\n",
              "      <td>184</td>\n",
              "      <td>Undisclosed</td>\n",
              "      <td>https://socialmeep.com?ref=startuptracker</td>\n",
              "      <td>'SocialMeep builds automatic growth and market...</td>\n",
              "      <td>'SocialMeep'</td>\n",
              "      <td>March 3 2018</td>\n",
              "      <td>New York US</td>\n",
              "      <td>https://www.crunchbase.com/organization/social...</td>\n",
              "      <td>66100</td>\n",
              "    </tr>\n",
              "    <tr>\n",
              "      <th>1</th>\n",
              "      <td>1</td>\n",
              "      <td>'design', 'education', 'software dev'</td>\n",
              "      <td>'web app'</td>\n",
              "      <td>Publicly</td>\n",
              "      <td>High company activity detected</td>\n",
              "      <td>15 Jan 21</td>\n",
              "      <td>18900.0</td>\n",
              "      <td>4.0</td>\n",
              "      <td>'DesignerUp'</td>\n",
              "      <td>Pre</td>\n",
              "      <td>'b2c', 'free to use', 'sales'</td>\n",
              "      <td>590</td>\n",
              "      <td>Undisclosed</td>\n",
              "      <td>http://DesignerUp.co?ref=startuptracker</td>\n",
              "      <td>'An ecosystem of UI/UX and product design reso...</td>\n",
              "      <td>'DesignerUp'</td>\n",
              "      <td>October 21 2018</td>\n",
              "      <td>San Francisco US</td>\n",
              "      <td>https://angel.co/company</td>\n",
              "      <td>252000</td>\n",
              "    </tr>\n",
              "    <tr>\n",
              "      <th>2</th>\n",
              "      <td>2</td>\n",
              "      <td>'advertising', 'marketing', 'startups', 'content'</td>\n",
              "      <td>'web app'</td>\n",
              "      <td>Publicly</td>\n",
              "      <td>High company activity detected</td>\n",
              "      <td>14 Jan 21</td>\n",
              "      <td>1700.0</td>\n",
              "      <td>4.0</td>\n",
              "      <td>'strategynode', 'Tyler J. Fox'</td>\n",
              "      <td>Pre</td>\n",
              "      <td>'b2c', 'b2b', 'free to use'</td>\n",
              "      <td>7</td>\n",
              "      <td>Undisclosed</td>\n",
              "      <td>https://katang.io/?t_pid=2?ref=startuptracker</td>\n",
              "      <td>'KaTang is an end-to-end content marketing pla...</td>\n",
              "      <td>'KaTang'</td>\n",
              "      <td>November 1 2019</td>\n",
              "      <td>Lehi US</td>\n",
              "      <td>https://www.crunchbase.com/organization/katang</td>\n",
              "      <td>2700000</td>\n",
              "    </tr>\n",
              "    <tr>\n",
              "      <th>3</th>\n",
              "      <td>3</td>\n",
              "      <td>'advertising', 'e commerce', 'media', 'content'</td>\n",
              "      <td>'mobile app', 'web app'</td>\n",
              "      <td>Publicly</td>\n",
              "      <td>High company activity detected</td>\n",
              "      <td>30 Dec 20</td>\n",
              "      <td>5000.0</td>\n",
              "      <td>7.5</td>\n",
              "      <td>'Rad Padre', 'Freedom TV+'</td>\n",
              "      <td>Pre</td>\n",
              "      <td>'b2c', 'free to use', 'commission', 'affiliation'</td>\n",
              "      <td>11</td>\n",
              "      <td>Undisclosed</td>\n",
              "      <td>https://www.freedomrains.com/?ac=218B21?ref=st...</td>\n",
              "      <td>'Shopping assistant browser extension that pro...</td>\n",
              "      <td>'Above &amp; Beyond Studios, Inc.'</td>\n",
              "      <td>June 26 2019</td>\n",
              "      <td>Boston US</td>\n",
              "      <td>https://producthunt.com/posts/freedom-super-sa...</td>\n",
              "      <td>945700</td>\n",
              "    </tr>\n",
              "    <tr>\n",
              "      <th>4</th>\n",
              "      <td>4</td>\n",
              "      <td>'security', 'blockchain'</td>\n",
              "      <td>'mobile app'</td>\n",
              "      <td>Publicly</td>\n",
              "      <td>No recent company activity detected</td>\n",
              "      <td>29 Dec 20</td>\n",
              "      <td>957.0</td>\n",
              "      <td>7.5</td>\n",
              "      <td>'VyrocApp'</td>\n",
              "      <td>Post</td>\n",
              "      <td>'b2c', 'free to use', 'advertising', 'subscrip...</td>\n",
              "      <td>17</td>\n",
              "      <td>Undisclosed</td>\n",
              "      <td>http://vyrocapp.com?ref=startuptracker</td>\n",
              "      <td>'Private Search Engine, Powered by the Blockch...</td>\n",
              "      <td>'Vyroc'</td>\n",
              "      <td>January 1 2020</td>\n",
              "      <td>New York US</td>\n",
              "      <td>https://www.crunchbase.com/organization/vyroc</td>\n",
              "      <td>4800000</td>\n",
              "    </tr>\n",
              "    <tr>\n",
              "      <th>5</th>\n",
              "      <td>5</td>\n",
              "      <td>'communication', 'marketing', 'startups', 'sales'</td>\n",
              "      <td>'service', 'web app'</td>\n",
              "      <td>Privately</td>\n",
              "      <td>High company activity detected</td>\n",
              "      <td>5 Dec 20</td>\n",
              "      <td>2800.0</td>\n",
              "      <td>30.5</td>\n",
              "      <td>'Chris Beaman'</td>\n",
              "      <td>Post</td>\n",
              "      <td>'b2b', 'freemium', 'sales', 'subscription'</td>\n",
              "      <td>29</td>\n",
              "      <td>Self</td>\n",
              "      <td>https://www.astronomic.com?ref=startuptracker</td>\n",
              "      <td>'We connect founders and help them grow'</td>\n",
              "      <td>'Astronomic'</td>\n",
              "      <td>June 1 2020</td>\n",
              "      <td>Austin US</td>\n",
              "      <td>https://startuptracker.io</td>\n",
              "      <td>1700000</td>\n",
              "    </tr>\n",
              "    <tr>\n",
              "      <th>6</th>\n",
              "      <td>6</td>\n",
              "      <td>'data', 'productivity', 'startups', 'content'</td>\n",
              "      <td>'other', 'desktop app', 'mobile app', 'web app'</td>\n",
              "      <td>Pre</td>\n",
              "      <td>High company activity detected</td>\n",
              "      <td>3 Dec 20</td>\n",
              "      <td>2100.0</td>\n",
              "      <td>7.5</td>\n",
              "      <td>'Snipply'</td>\n",
              "      <td>Pre</td>\n",
              "      <td>'b2c', 'b2b', 'freemium', 'subscription'</td>\n",
              "      <td>110</td>\n",
              "      <td>Undisclosed</td>\n",
              "      <td>http://www.snipply.io?ref=startuptracker</td>\n",
              "      <td>'Snipply connects the content inside the apps ...</td>\n",
              "      <td>'Snipply'</td>\n",
              "      <td>June 1 2019</td>\n",
              "      <td>New York US</td>\n",
              "      <td>https://startuptracker.io</td>\n",
              "      <td>2200000</td>\n",
              "    </tr>\n",
              "    <tr>\n",
              "      <th>7</th>\n",
              "      <td>7</td>\n",
              "      <td>'analytics', 'manufacturing', 'productivity', ...</td>\n",
              "      <td>'desktop app', 'web app'</td>\n",
              "      <td>Privately</td>\n",
              "      <td>High company activity detected</td>\n",
              "      <td>25 Nov 20</td>\n",
              "      <td>8300.0</td>\n",
              "      <td>30.5</td>\n",
              "      <td>'Angshuman Guha'</td>\n",
              "      <td>Pre</td>\n",
              "      <td>'b2b', 'affiliation', 'freemium', 'sales'</td>\n",
              "      <td>92</td>\n",
              "      <td>Undisclosed</td>\n",
              "      <td>https://bipp.io/?ref=startuptracker</td>\n",
              "      <td>'bipp is an enterprise-grade, cloud business i...</td>\n",
              "      <td>'bipp Analytics'</td>\n",
              "      <td>July 15 2017</td>\n",
              "      <td>Plano US</td>\n",
              "      <td>https://www.crunchbase.com/organization/bipp-a...</td>\n",
              "      <td>566200</td>\n",
              "    </tr>\n",
              "    <tr>\n",
              "      <th>8</th>\n",
              "      <td>8</td>\n",
              "      <td>'productivity', 'accounting and legal', 'ai', ...</td>\n",
              "      <td>'desktop app', 'mobile app', 'web app'</td>\n",
              "      <td>Privately</td>\n",
              "      <td>High company activity detected</td>\n",
              "      <td>23 Nov 20</td>\n",
              "      <td>0.0</td>\n",
              "      <td>4.0</td>\n",
              "      <td>'agreemint'</td>\n",
              "      <td>Pre</td>\n",
              "      <td>'b2c', 'b2b', 'freemium', 'sales', 'subscription'</td>\n",
              "      <td>31</td>\n",
              "      <td>Undisclosed</td>\n",
              "      <td>https://www.agreemint.com?ref=startuptracker</td>\n",
              "      <td>'Through the Agreemint Contract AI users engag...</td>\n",
              "      <td>'Agreemint'</td>\n",
              "      <td>February 10 2018</td>\n",
              "      <td>San francisco US</td>\n",
              "      <td>https://www.crunchbase.com/organization/agreemint</td>\n",
              "      <td>0</td>\n",
              "    </tr>\n",
              "    <tr>\n",
              "      <th>9</th>\n",
              "      <td>9</td>\n",
              "      <td>'software dev'</td>\n",
              "      <td>'mobile app', 'web app'</td>\n",
              "      <td>Publicly</td>\n",
              "      <td>High company activity detected</td>\n",
              "      <td>11 Nov 20</td>\n",
              "      <td>4600.0</td>\n",
              "      <td>7.5</td>\n",
              "      <td>'Shake SDK'</td>\n",
              "      <td>Pre</td>\n",
              "      <td>'b2b', 'freemium'</td>\n",
              "      <td>16</td>\n",
              "      <td>Undisclosed</td>\n",
              "      <td>https://www.shakebugs.com/?ref=startuptracker</td>\n",
              "      <td>'Bug reporting tool for mobile apps.'</td>\n",
              "      <td>'Shake'</td>\n",
              "      <td>September 30 2019</td>\n",
              "      <td>Newark US</td>\n",
              "      <td>https://www.crunchbase.com/organization/shake-...</td>\n",
              "      <td>1000000</td>\n",
              "    </tr>\n",
              "  </tbody>\n",
              "</table>\n",
              "</div>"
            ],
            "text/plain": [
              "   Unnamed: 0  ...  ranking\n",
              "0           0  ...    66100\n",
              "1           1  ...   252000\n",
              "2           2  ...  2700000\n",
              "3           3  ...   945700\n",
              "4           4  ...  4800000\n",
              "5           5  ...  1700000\n",
              "6           6  ...  2200000\n",
              "7           7  ...   566200\n",
              "8           8  ...        0\n",
              "9           9  ...  1000000\n",
              "\n",
              "[10 rows x 20 columns]"
            ]
          },
          "metadata": {
            "tags": []
          },
          "execution_count": 4
        }
      ]
    },
    {
      "cell_type": "markdown",
      "metadata": {
        "id": "eOgeHiure12d"
      },
      "source": [
        "### I am going to consider **Page Views** column in the dataset as my target variable.\n",
        "\n",
        "Ideally, **Amount_Raised** column should be considered as the target variable but since it has more than 50% of Undisclosed values, it would be pointless to put it as a target variable.\n",
        "\n",
        "So, apart from this, **Page Views** is the one column which can be vaguely used to identify the popularity and success of startups so I am using this"
      ]
    },
    {
      "cell_type": "markdown",
      "metadata": {
        "id": "EXeCIzoSfd_Z"
      },
      "source": [
        "# Choosing Features manually based on their names and relation with the success of startups"
      ]
    },
    {
      "cell_type": "code",
      "metadata": {
        "colab": {
          "base_uri": "https://localhost:8080/",
          "height": 359
        },
        "id": "pHfCZ6U3ekuj",
        "outputId": "34bfed98-8d5a-484c-838b-cac6630317ff"
      },
      "source": [
        "dfa = df[['launch_stage','activity_level','pageviews','team_member','revenue_stage','twitter_followers','amount_raised','ranking']]\n",
        "dfa.head(10)"
      ],
      "execution_count": 5,
      "outputs": [
        {
          "output_type": "execute_result",
          "data": {
            "text/html": [
              "<div>\n",
              "<style scoped>\n",
              "    .dataframe tbody tr th:only-of-type {\n",
              "        vertical-align: middle;\n",
              "    }\n",
              "\n",
              "    .dataframe tbody tr th {\n",
              "        vertical-align: top;\n",
              "    }\n",
              "\n",
              "    .dataframe thead th {\n",
              "        text-align: right;\n",
              "    }\n",
              "</style>\n",
              "<table border=\"1\" class=\"dataframe\">\n",
              "  <thead>\n",
              "    <tr style=\"text-align: right;\">\n",
              "      <th></th>\n",
              "      <th>launch_stage</th>\n",
              "      <th>activity_level</th>\n",
              "      <th>pageviews</th>\n",
              "      <th>team_member</th>\n",
              "      <th>revenue_stage</th>\n",
              "      <th>twitter_followers</th>\n",
              "      <th>amount_raised</th>\n",
              "      <th>ranking</th>\n",
              "    </tr>\n",
              "  </thead>\n",
              "  <tbody>\n",
              "    <tr>\n",
              "      <th>0</th>\n",
              "      <td>Publicly</td>\n",
              "      <td>Low company activity detected</td>\n",
              "      <td>72600.0</td>\n",
              "      <td>30.5</td>\n",
              "      <td>Post</td>\n",
              "      <td>184</td>\n",
              "      <td>Undisclosed</td>\n",
              "      <td>66100</td>\n",
              "    </tr>\n",
              "    <tr>\n",
              "      <th>1</th>\n",
              "      <td>Publicly</td>\n",
              "      <td>High company activity detected</td>\n",
              "      <td>18900.0</td>\n",
              "      <td>4.0</td>\n",
              "      <td>Pre</td>\n",
              "      <td>590</td>\n",
              "      <td>Undisclosed</td>\n",
              "      <td>252000</td>\n",
              "    </tr>\n",
              "    <tr>\n",
              "      <th>2</th>\n",
              "      <td>Publicly</td>\n",
              "      <td>High company activity detected</td>\n",
              "      <td>1700.0</td>\n",
              "      <td>4.0</td>\n",
              "      <td>Pre</td>\n",
              "      <td>7</td>\n",
              "      <td>Undisclosed</td>\n",
              "      <td>2700000</td>\n",
              "    </tr>\n",
              "    <tr>\n",
              "      <th>3</th>\n",
              "      <td>Publicly</td>\n",
              "      <td>High company activity detected</td>\n",
              "      <td>5000.0</td>\n",
              "      <td>7.5</td>\n",
              "      <td>Pre</td>\n",
              "      <td>11</td>\n",
              "      <td>Undisclosed</td>\n",
              "      <td>945700</td>\n",
              "    </tr>\n",
              "    <tr>\n",
              "      <th>4</th>\n",
              "      <td>Publicly</td>\n",
              "      <td>No recent company activity detected</td>\n",
              "      <td>957.0</td>\n",
              "      <td>7.5</td>\n",
              "      <td>Post</td>\n",
              "      <td>17</td>\n",
              "      <td>Undisclosed</td>\n",
              "      <td>4800000</td>\n",
              "    </tr>\n",
              "    <tr>\n",
              "      <th>5</th>\n",
              "      <td>Privately</td>\n",
              "      <td>High company activity detected</td>\n",
              "      <td>2800.0</td>\n",
              "      <td>30.5</td>\n",
              "      <td>Post</td>\n",
              "      <td>29</td>\n",
              "      <td>Self</td>\n",
              "      <td>1700000</td>\n",
              "    </tr>\n",
              "    <tr>\n",
              "      <th>6</th>\n",
              "      <td>Pre</td>\n",
              "      <td>High company activity detected</td>\n",
              "      <td>2100.0</td>\n",
              "      <td>7.5</td>\n",
              "      <td>Pre</td>\n",
              "      <td>110</td>\n",
              "      <td>Undisclosed</td>\n",
              "      <td>2200000</td>\n",
              "    </tr>\n",
              "    <tr>\n",
              "      <th>7</th>\n",
              "      <td>Privately</td>\n",
              "      <td>High company activity detected</td>\n",
              "      <td>8300.0</td>\n",
              "      <td>30.5</td>\n",
              "      <td>Pre</td>\n",
              "      <td>92</td>\n",
              "      <td>Undisclosed</td>\n",
              "      <td>566200</td>\n",
              "    </tr>\n",
              "    <tr>\n",
              "      <th>8</th>\n",
              "      <td>Privately</td>\n",
              "      <td>High company activity detected</td>\n",
              "      <td>0.0</td>\n",
              "      <td>4.0</td>\n",
              "      <td>Pre</td>\n",
              "      <td>31</td>\n",
              "      <td>Undisclosed</td>\n",
              "      <td>0</td>\n",
              "    </tr>\n",
              "    <tr>\n",
              "      <th>9</th>\n",
              "      <td>Publicly</td>\n",
              "      <td>High company activity detected</td>\n",
              "      <td>4600.0</td>\n",
              "      <td>7.5</td>\n",
              "      <td>Pre</td>\n",
              "      <td>16</td>\n",
              "      <td>Undisclosed</td>\n",
              "      <td>1000000</td>\n",
              "    </tr>\n",
              "  </tbody>\n",
              "</table>\n",
              "</div>"
            ],
            "text/plain": [
              "  launch_stage                       activity_level  ...  amount_raised  ranking\n",
              "0     Publicly        Low company activity detected  ...    Undisclosed    66100\n",
              "1     Publicly       High company activity detected  ...    Undisclosed   252000\n",
              "2     Publicly       High company activity detected  ...    Undisclosed  2700000\n",
              "3     Publicly       High company activity detected  ...    Undisclosed   945700\n",
              "4     Publicly  No recent company activity detected  ...    Undisclosed  4800000\n",
              "5    Privately       High company activity detected  ...           Self  1700000\n",
              "6          Pre       High company activity detected  ...    Undisclosed  2200000\n",
              "7    Privately       High company activity detected  ...    Undisclosed   566200\n",
              "8    Privately       High company activity detected  ...    Undisclosed        0\n",
              "9     Publicly       High company activity detected  ...    Undisclosed  1000000\n",
              "\n",
              "[10 rows x 8 columns]"
            ]
          },
          "metadata": {
            "tags": []
          },
          "execution_count": 5
        }
      ]
    },
    {
      "cell_type": "markdown",
      "metadata": {
        "id": "8tC2Sx_WgCHi"
      },
      "source": [
        "Let us go through each column to see if we need to handle anything like unknown or contradicting values and try to convert categorical variables into numerical variables"
      ]
    },
    {
      "cell_type": "code",
      "metadata": {
        "colab": {
          "base_uri": "https://localhost:8080/"
        },
        "id": "iHaSMGwQf4Ce",
        "outputId": "58d8d936-e277-43f7-b3cf-3920b5c303ad"
      },
      "source": [
        "dfa['launch_stage']"
      ],
      "execution_count": 6,
      "outputs": [
        {
          "output_type": "execute_result",
          "data": {
            "text/plain": [
              "0         Publicly\n",
              "1         Publicly\n",
              "2         Publicly\n",
              "3         Publicly\n",
              "4         Publicly\n",
              "          ...     \n",
              "633       Publicly\n",
              "634       Publicly\n",
              "635           Self\n",
              "636           $20k\n",
              "637    Undisclosed\n",
              "Name: launch_stage, Length: 638, dtype: object"
            ]
          },
          "metadata": {
            "tags": []
          },
          "execution_count": 6
        }
      ]
    },
    {
      "cell_type": "code",
      "metadata": {
        "colab": {
          "base_uri": "https://localhost:8080/"
        },
        "id": "DoRPyboCgQoc",
        "outputId": "c33a42aa-2c41-4d9d-bc88-32098fcaa022"
      },
      "source": [
        "dfa['launch_stage'].value_counts()"
      ],
      "execution_count": 7,
      "outputs": [
        {
          "output_type": "execute_result",
          "data": {
            "text/plain": [
              "Publicly       453\n",
              "Privately      109\n",
              "Pre             73\n",
              "Undisclosed      1\n",
              "$20k             1\n",
              "Self             1\n",
              "Name: launch_stage, dtype: int64"
            ]
          },
          "metadata": {
            "tags": []
          },
          "execution_count": 7
        }
      ]
    },
    {
      "cell_type": "markdown",
      "metadata": {
        "id": "1kM35GyrhTBI"
      },
      "source": [
        "These are the various labels present in the launch-stage column. Let us now establish an ordinal scaling with the different values here.\n",
        "\n",
        "Let us assume that the column is ordinal in nature where\n",
        "* Public Launch Stage> Pre Launch Stage> Private Launch Stage> $20k> Self> Undisclosed "
      ]
    },
    {
      "cell_type": "code",
      "metadata": {
        "colab": {
          "base_uri": "https://localhost:8080/"
        },
        "id": "c_PjkMmagUAe",
        "outputId": "8dc66ded-30fe-45c3-900d-653516158d0f"
      },
      "source": [
        "dfa['launch_stage'].replace({'Publicly': 6,'Pre':5,'Privately':4,'$20k':3,'Self':2,'Undisclosed':1},inplace=True)\n",
        "type(dfa['launch_stage'])"
      ],
      "execution_count": 8,
      "outputs": [
        {
          "output_type": "stream",
          "text": [
            "/usr/local/lib/python3.7/dist-packages/pandas/core/series.py:4582: SettingWithCopyWarning: \n",
            "A value is trying to be set on a copy of a slice from a DataFrame\n",
            "\n",
            "See the caveats in the documentation: https://pandas.pydata.org/pandas-docs/stable/user_guide/indexing.html#returning-a-view-versus-a-copy\n",
            "  method=method,\n"
          ],
          "name": "stderr"
        },
        {
          "output_type": "execute_result",
          "data": {
            "text/plain": [
              "pandas.core.series.Series"
            ]
          },
          "metadata": {
            "tags": []
          },
          "execution_count": 8
        }
      ]
    },
    {
      "cell_type": "code",
      "metadata": {
        "colab": {
          "base_uri": "https://localhost:8080/"
        },
        "id": "xkT65ERsiTRE",
        "outputId": "334a6634-4480-48a9-8d34-91f0008db1c6"
      },
      "source": [
        "dfa['launch_stage']"
      ],
      "execution_count": 9,
      "outputs": [
        {
          "output_type": "execute_result",
          "data": {
            "text/plain": [
              "0      6\n",
              "1      6\n",
              "2      6\n",
              "3      6\n",
              "4      6\n",
              "      ..\n",
              "633    6\n",
              "634    6\n",
              "635    2\n",
              "636    3\n",
              "637    1\n",
              "Name: launch_stage, Length: 638, dtype: int64"
            ]
          },
          "metadata": {
            "tags": []
          },
          "execution_count": 9
        }
      ]
    },
    {
      "cell_type": "markdown",
      "metadata": {
        "id": "WAefwis0iaik"
      },
      "source": [
        "## Let us move on with the next column"
      ]
    },
    {
      "cell_type": "code",
      "metadata": {
        "colab": {
          "base_uri": "https://localhost:8080/"
        },
        "id": "Ki36SepSiWNb",
        "outputId": "dd43b02d-722f-4fe5-efff-5e804745a499"
      },
      "source": [
        "dfa['activity_level']"
      ],
      "execution_count": 10,
      "outputs": [
        {
          "output_type": "execute_result",
          "data": {
            "text/plain": [
              "0            Low company activity detected\n",
              "1           High company activity detected\n",
              "2           High company activity detected\n",
              "3           High company activity detected\n",
              "4      No recent company activity detected\n",
              "                      ...                 \n",
              "633             Sourced by Startup Tracker\n",
              "634         High company activity detected\n",
              "635    No recent company activity detected\n",
              "636             Sourced by Startup Tracker\n",
              "637             Sourced by Startup Tracker\n",
              "Name: activity_level, Length: 638, dtype: object"
            ]
          },
          "metadata": {
            "tags": []
          },
          "execution_count": 10
        }
      ]
    },
    {
      "cell_type": "code",
      "metadata": {
        "colab": {
          "base_uri": "https://localhost:8080/"
        },
        "id": "fy7H972WihB_",
        "outputId": "ac7b9a35-bb1c-484e-cdd2-e4df419a28fa"
      },
      "source": [
        "dfa['activity_level'].value_counts()"
      ],
      "execution_count": 11,
      "outputs": [
        {
          "output_type": "execute_result",
          "data": {
            "text/plain": [
              "High company activity detected         301\n",
              "No recent company activity detected    232\n",
              "Low company activity detected           65\n",
              "Sourced by Startup Tracker              40\n",
              "Name: activity_level, dtype: int64"
            ]
          },
          "metadata": {
            "tags": []
          },
          "execution_count": 11
        }
      ]
    },
    {
      "cell_type": "markdown",
      "metadata": {
        "id": "QucRvlhtilSW"
      },
      "source": [
        "Once again, **activity_level** of the startup is an ordinal categorical feature as Startups which have greater activity level has much success rate compared to dormant startups\n",
        "\n",
        "Here the ordinal scale is like\n",
        "* High activity> Low Activity> No recent activity> Sourced by Tracker"
      ]
    },
    {
      "cell_type": "code",
      "metadata": {
        "id": "Negm79QBijlf"
      },
      "source": [
        ""
      ],
      "execution_count": 11,
      "outputs": []
    },
    {
      "cell_type": "code",
      "metadata": {
        "id": "XNXEuksGjCGm",
        "colab": {
          "base_uri": "https://localhost:8080/"
        },
        "outputId": "391496fa-8611-4646-8eea-af32f8e0a950"
      },
      "source": [
        "dfa['activity_level'].replace({'High company activity detected': 4,'Low company activity detected':3,'No recent company activity detected':2,'Sourced by Startup Tracker':1},inplace=True)\n"
      ],
      "execution_count": 12,
      "outputs": [
        {
          "output_type": "stream",
          "text": [
            "/usr/local/lib/python3.7/dist-packages/pandas/core/series.py:4582: SettingWithCopyWarning: \n",
            "A value is trying to be set on a copy of a slice from a DataFrame\n",
            "\n",
            "See the caveats in the documentation: https://pandas.pydata.org/pandas-docs/stable/user_guide/indexing.html#returning-a-view-versus-a-copy\n",
            "  method=method,\n"
          ],
          "name": "stderr"
        }
      ]
    },
    {
      "cell_type": "code",
      "metadata": {
        "colab": {
          "base_uri": "https://localhost:8080/"
        },
        "id": "eeUvqZ_DjrAo",
        "outputId": "a609e392-be87-47cc-9a23-dff14cd671a5"
      },
      "source": [
        "dfa['activity_level']"
      ],
      "execution_count": 13,
      "outputs": [
        {
          "output_type": "execute_result",
          "data": {
            "text/plain": [
              "0      3\n",
              "1      4\n",
              "2      4\n",
              "3      4\n",
              "4      2\n",
              "      ..\n",
              "633    1\n",
              "634    4\n",
              "635    2\n",
              "636    1\n",
              "637    1\n",
              "Name: activity_level, Length: 638, dtype: int64"
            ]
          },
          "metadata": {
            "tags": []
          },
          "execution_count": 13
        }
      ]
    },
    {
      "cell_type": "markdown",
      "metadata": {
        "id": "6SLQ5qqijvGy"
      },
      "source": [
        "## Moving on"
      ]
    },
    {
      "cell_type": "code",
      "metadata": {
        "colab": {
          "base_uri": "https://localhost:8080/"
        },
        "id": "wpxGooIdjtOc",
        "outputId": "1e8b0cdb-aab3-4a62-d248-42a8bcd889a5"
      },
      "source": [
        "dfa['pageviews']"
      ],
      "execution_count": 14,
      "outputs": [
        {
          "output_type": "execute_result",
          "data": {
            "text/plain": [
              "0        72600.0\n",
              "1        18900.0\n",
              "2         1700.0\n",
              "3         5000.0\n",
              "4          957.0\n",
              "         ...    \n",
              "633          0.0\n",
              "634    1200000.0\n",
              "635       1200.0\n",
              "636       3700.0\n",
              "637       7400.0\n",
              "Name: pageviews, Length: 638, dtype: float64"
            ]
          },
          "metadata": {
            "tags": []
          },
          "execution_count": 14
        }
      ]
    },
    {
      "cell_type": "code",
      "metadata": {
        "colab": {
          "base_uri": "https://localhost:8080/"
        },
        "id": "E5U8PbQejzNH",
        "outputId": "76bd023d-4812-4ef5-aa12-0b880f0c82b1"
      },
      "source": [
        "dfa['pageviews'].unique()"
      ],
      "execution_count": 15,
      "outputs": [
        {
          "output_type": "execute_result",
          "data": {
            "text/plain": [
              "array([7.260e+04, 1.890e+04, 1.700e+03, 5.000e+03, 9.570e+02, 2.800e+03,\n",
              "       2.100e+03, 8.300e+03, 0.000e+00, 4.600e+03, 4.000e+03, 4.400e+03,\n",
              "       1.800e+03, 6.480e+02, 2.200e+03, 4.100e+03, 6.780e+02, 1.000e+03,\n",
              "       3.000e+03, 5.600e+03, 6.500e+03, 2.380e+02, 9.790e+02, 1.010e+04,\n",
              "       1.680e+04, 6.260e+04, 4.900e+03, 1.300e+03, 9.000e+00, 2.300e+03,\n",
              "       2.371e+05, 4.720e+04, 1.110e+04, 7.300e+03, 1.310e+04, 3.700e+03,\n",
              "       6.180e+04, 7.640e+04, 1.500e+03, 1.200e+03, 9.600e+03, 1.108e+05,\n",
              "       3.400e+03, 1.008e+05, 6.520e+02, 1.401e+05, 2.650e+04, 2.020e+04,\n",
              "       3.010e+04, 5.700e+03, 4.050e+04, 1.090e+04, 1.466e+05, 1.100e+01,\n",
              "       1.020e+04, 4.850e+04, 9.100e+03, 4.500e+03, 2.230e+04, 1.420e+04,\n",
              "       1.000e+04, 7.409e+05, 6.450e+02, 7.700e+02, 1.341e+05, 4.430e+04,\n",
              "       6.740e+02, 5.580e+04, 9.800e+03, 1.989e+05, 3.600e+03, 4.282e+05,\n",
              "       2.380e+04, 1.180e+04, 3.830e+04, 7.140e+02, 5.300e+03, 5.600e+04,\n",
              "       1.740e+04, 6.100e+03, 3.680e+04, 1.440e+04, 4.900e+01, 4.700e+01,\n",
              "       1.000e+00, 3.720e+04, 2.700e+03, 4.559e+05, 8.240e+02, 6.054e+05,\n",
              "       3.140e+04, 1.400e+03, 2.740e+04, 7.280e+02, 8.010e+04, 3.520e+02,\n",
              "       1.410e+04, 7.000e+00, 4.100e+01, 9.500e+03, 2.040e+04, 9.400e+03,\n",
              "       2.900e+03, 7.730e+04, 4.200e+03, 3.290e+04, 6.800e+03, 5.560e+04,\n",
              "       2.600e+03, 2.450e+04, 1.131e+08, 5.600e+01, 2.520e+02, 1.860e+04,\n",
              "       1.810e+04, 3.400e+04, 1.730e+04, 2.500e+03, 3.900e+03, 2.084e+05,\n",
              "       1.550e+04, 9.300e+03, 3.000e+02, 6.590e+02, 2.960e+04, 2.000e+00,\n",
              "       2.000e+03, 7.800e+04, 5.700e+02, 4.410e+04, 9.380e+02, 7.880e+02,\n",
              "       4.941e+05, 5.350e+02, 2.470e+02, 8.620e+02, 8.950e+02, 3.040e+04,\n",
              "       8.400e+03, 3.380e+04, 4.990e+02, 1.987e+05, 6.170e+02, 8.040e+02,\n",
              "       8.730e+02, 9.250e+02, 6.000e+00, 4.712e+05, 4.750e+02, 1.300e+01,\n",
              "       1.140e+04, 1.900e+04, 5.400e+03, 9.560e+02, 5.900e+03, 6.600e+03,\n",
              "       7.840e+02, 1.100e+03, 6.410e+02, 3.480e+04, 5.200e+04, 5.540e+02,\n",
              "       4.150e+04, 5.450e+02, 7.000e+03, 7.480e+02, 6.490e+02, 6.354e+05,\n",
              "       3.200e+03, 5.800e+02, 1.250e+04, 1.900e+03, 6.650e+02, 1.600e+03,\n",
              "       2.080e+04, 1.200e+04, 1.530e+04, 6.690e+02, 2.620e+04, 1.410e+07,\n",
              "       7.400e+01, 2.570e+04, 9.170e+02, 3.500e+01, 6.280e+04, 7.300e+01,\n",
              "       5.850e+02, 1.060e+04, 5.410e+02, 1.091e+05, 6.900e+03, 6.420e+02,\n",
              "       8.000e+02, 7.800e+03, 2.000e+02, 4.540e+04, 1.114e+05, 9.000e+03,\n",
              "       2.680e+04, 7.100e+03, 5.060e+04, 1.240e+02, 9.480e+02, 9.550e+02,\n",
              "       2.160e+02, 2.940e+04, 6.910e+02, 7.200e+03, 8.810e+02, 1.270e+04,\n",
              "       3.100e+03, 7.660e+02, 8.800e+01, 9.890e+02, 4.000e+01, 1.400e+04,\n",
              "       9.540e+02, 8.570e+02, 5.200e+03, 4.520e+04, 2.390e+04, 6.140e+02,\n",
              "       1.920e+04, 7.630e+02, 6.280e+02, 3.240e+02, 9.040e+02, 6.450e+04,\n",
              "       2.044e+05, 8.800e+03, 3.200e+02, 3.220e+04, 6.900e+04, 3.370e+04,\n",
              "       1.203e+05, 6.060e+04, 8.500e+03, 7.460e+02, 1.980e+04, 2.150e+04,\n",
              "       5.440e+02, 8.000e+00, 1.930e+04, 9.750e+04, 5.710e+02, 9.900e+03,\n",
              "       4.930e+02, 4.490e+04, 1.030e+04, 4.700e+02, 8.420e+04, 4.300e+04,\n",
              "       8.020e+04, 7.450e+02, 6.850e+02, 9.640e+02, 1.840e+04, 9.400e+02,\n",
              "       3.500e+03, 8.900e+03, 7.540e+02, 1.560e+04, 9.330e+02, 6.200e+03,\n",
              "       3.800e+03, 8.750e+02, 1.500e+04, 6.700e+03, 6.400e+03, 4.590e+04,\n",
              "       7.600e+04, 3.000e+00, 1.200e+06, 7.400e+03])"
            ]
          },
          "metadata": {
            "tags": []
          },
          "execution_count": 15
        }
      ]
    },
    {
      "cell_type": "markdown",
      "metadata": {
        "id": "fZppnKTwj5aN"
      },
      "source": [
        "It seems there are no null and unusual values in the column so there's no need to clean the data"
      ]
    },
    {
      "cell_type": "code",
      "metadata": {
        "colab": {
          "base_uri": "https://localhost:8080/"
        },
        "id": "unnVYzWKj2KP",
        "outputId": "ed4ce2c1-6cd5-4384-eb03-1e346c2c6c3c"
      },
      "source": [
        "dfa['team_member']"
      ],
      "execution_count": 16,
      "outputs": [
        {
          "output_type": "execute_result",
          "data": {
            "text/plain": [
              "0      30.5\n",
              "1       4.0\n",
              "2       4.0\n",
              "3       7.5\n",
              "4       7.5\n",
              "       ... \n",
              "633     7.5\n",
              "634    30.5\n",
              "635     3.0\n",
              "636     4.0\n",
              "637     2.0\n",
              "Name: team_member, Length: 638, dtype: float64"
            ]
          },
          "metadata": {
            "tags": []
          },
          "execution_count": 16
        }
      ]
    },
    {
      "cell_type": "markdown",
      "metadata": {
        "id": "Qfpp7_QokG4Q"
      },
      "source": [
        "Nothing here as well so moving on"
      ]
    },
    {
      "cell_type": "code",
      "metadata": {
        "colab": {
          "base_uri": "https://localhost:8080/"
        },
        "id": "20yyBHMgkDYe",
        "outputId": "6a4a5e1d-bd22-491b-f266-4b9d27b7ed5e"
      },
      "source": [
        "dfa['revenue_stage']"
      ],
      "execution_count": 17,
      "outputs": [
        {
          "output_type": "execute_result",
          "data": {
            "text/plain": [
              "0        Post\n",
              "1         Pre\n",
              "2         Pre\n",
              "3         Pre\n",
              "4        Post\n",
              "        ...  \n",
              "633       Pre\n",
              "634       Pre\n",
              "635       559\n",
              "636      1.3m\n",
              "637    640.5k\n",
              "Name: revenue_stage, Length: 638, dtype: object"
            ]
          },
          "metadata": {
            "tags": []
          },
          "execution_count": 17
        }
      ]
    },
    {
      "cell_type": "code",
      "metadata": {
        "colab": {
          "base_uri": "https://localhost:8080/"
        },
        "id": "6kEYj8sekNhZ",
        "outputId": "4ade2be8-2682-4cf8-c905-97ca6c45c1fb"
      },
      "source": [
        "dfa['revenue_stage'].value_counts()"
      ],
      "execution_count": 18,
      "outputs": [
        {
          "output_type": "execute_result",
          "data": {
            "text/plain": [
              "Pre       521\n",
              "Post      114\n",
              "1.3m        1\n",
              "640.5k      1\n",
              "559         1\n",
              "Name: revenue_stage, dtype: int64"
            ]
          },
          "metadata": {
            "tags": []
          },
          "execution_count": 18
        }
      ]
    },
    {
      "cell_type": "markdown",
      "metadata": {
        "id": "FTUGAT0Xkq5h"
      },
      "source": [
        "Let us understand the terms of **Pre revenue Stage** and **Post Revenue Stage** before deciding on the ordinality order of the categorical values\n",
        "\n",
        "\n",
        "**Pre Revenue Stage** :- Any stage where you do not have revenue streams from the product or service you sell.\n",
        "\n",
        "You can be early-stage and not have revenues, you can be later stage and not have revenues, however such later stage companies are likely developing hard technology which takes a long time. For example a team of scientists working on nanostructured materials.\n",
        "\n",
        "Usually, the **pre revenue** falls into early-stage of startup life cycle.\n",
        "\n",
        "**Post Revenue Stage** :- As a post-revenue startup company, you have begun to generate sales and are now working through the stages of efficiency and scale. In the efficiency stage, your sales and marketing processes are refined and you are generating consistent and growing revenues. You tweak your product based on customer feedback, and start to explore new customer and partner channels. In the scale stage, you achieve massive exponential sales growth as you scale your business through new channels and geographies. At this point you are making executive team hires and raising larger rounds of investment to continue to grow.\n",
        "\n",
        "\n",
        "\n",
        "\n",
        "To sum things up briefly:-\n",
        "\n",
        "1. Pre-Revenue stage is when the startup is just starting and there's no sales generated\n",
        "\n",
        "2. Post Revenue Stage is when the startup is evolving and there is consistent sales and profits.\n",
        "\n",
        "\n",
        "\n",
        "\n",
        "**So the ordinality order will be:-**\n",
        "\n",
        "* Post> Pre> 1.3m> 643k> 559"
      ]
    },
    {
      "cell_type": "code",
      "metadata": {
        "id": "wmHYFFgEkQ4M",
        "colab": {
          "base_uri": "https://localhost:8080/"
        },
        "outputId": "22a796e5-82f4-410f-f3a2-7634c681d4c7"
      },
      "source": [
        "dfa['revenue_stage'].replace({'Post':5,'Pre':4,'1.3m':3,'640.5k':2,'559':1},inplace=True)"
      ],
      "execution_count": 19,
      "outputs": [
        {
          "output_type": "stream",
          "text": [
            "/usr/local/lib/python3.7/dist-packages/pandas/core/series.py:4582: SettingWithCopyWarning: \n",
            "A value is trying to be set on a copy of a slice from a DataFrame\n",
            "\n",
            "See the caveats in the documentation: https://pandas.pydata.org/pandas-docs/stable/user_guide/indexing.html#returning-a-view-versus-a-copy\n",
            "  method=method,\n"
          ],
          "name": "stderr"
        }
      ]
    },
    {
      "cell_type": "code",
      "metadata": {
        "colab": {
          "base_uri": "https://localhost:8080/"
        },
        "id": "p_qon1HIlzA8",
        "outputId": "0156e4e9-7b5e-4c9c-fc00-e27ce5074b32"
      },
      "source": [
        "dfa['revenue_stage'].value_counts()"
      ],
      "execution_count": 20,
      "outputs": [
        {
          "output_type": "execute_result",
          "data": {
            "text/plain": [
              "4    521\n",
              "5    114\n",
              "3      1\n",
              "2      1\n",
              "1      1\n",
              "Name: revenue_stage, dtype: int64"
            ]
          },
          "metadata": {
            "tags": []
          },
          "execution_count": 20
        }
      ]
    },
    {
      "cell_type": "markdown",
      "metadata": {
        "id": "0qqASz4Il5HK"
      },
      "source": [
        "## Moving on"
      ]
    },
    {
      "cell_type": "code",
      "metadata": {
        "colab": {
          "base_uri": "https://localhost:8080/"
        },
        "id": "4OhyGAF_l3GP",
        "outputId": "1fab5c93-719a-4500-b8e4-8401dd20e4f6"
      },
      "source": [
        "dfa['twitter_followers']"
      ],
      "execution_count": 21,
      "outputs": [
        {
          "output_type": "execute_result",
          "data": {
            "text/plain": [
              "0        184\n",
              "1        590\n",
              "2          7\n",
              "3         11\n",
              "4         17\n",
              "       ...  \n",
              "633     1100\n",
              "634    69700\n",
              "635     1200\n",
              "636        9\n",
              "637        9\n",
              "Name: twitter_followers, Length: 638, dtype: int64"
            ]
          },
          "metadata": {
            "tags": []
          },
          "execution_count": 21
        }
      ]
    },
    {
      "cell_type": "code",
      "metadata": {
        "colab": {
          "base_uri": "https://localhost:8080/"
        },
        "id": "U28nw9PrmAby",
        "outputId": "982f89db-57d9-4687-b9d5-09521105ed59"
      },
      "source": [
        "dfa['amount_raised']"
      ],
      "execution_count": 22,
      "outputs": [
        {
          "output_type": "execute_result",
          "data": {
            "text/plain": [
              "0      Undisclosed\n",
              "1      Undisclosed\n",
              "2      Undisclosed\n",
              "3      Undisclosed\n",
              "4      Undisclosed\n",
              "          ...     \n",
              "633            $1m\n",
              "634          $1.3m\n",
              "635             4m\n",
              "636          ~3.7k\n",
              "637          ~7.4k\n",
              "Name: amount_raised, Length: 638, dtype: object"
            ]
          },
          "metadata": {
            "tags": []
          },
          "execution_count": 22
        }
      ]
    },
    {
      "cell_type": "code",
      "metadata": {
        "colab": {
          "base_uri": "https://localhost:8080/"
        },
        "id": "TwWqRNRYmDmz",
        "outputId": "4301eacd-c9c8-40f1-8976-ab0e484de60f"
      },
      "source": [
        "dfa['amount_raised'].value_counts()"
      ],
      "execution_count": 23,
      "outputs": [
        {
          "output_type": "execute_result",
          "data": {
            "text/plain": [
              "Undisclosed    468\n",
              "Self           117\n",
              "$1m              3\n",
              "$250k            3\n",
              "$4m              2\n",
              "$150k            2\n",
              "$1.3m            2\n",
              "$10k             2\n",
              "$795k            2\n",
              "4m               1\n",
              "$1.1m            1\n",
              "$500k            1\n",
              "$11.6m           1\n",
              "$25m             1\n",
              "$1               1\n",
              "$956.7k          1\n",
              "$119m            1\n",
              "$200k            1\n",
              "~3.7k            1\n",
              "$6m              1\n",
              "$41.2m           1\n",
              "$77.6m           1\n",
              "$26k             1\n",
              "$9.7m            1\n",
              "$9m              1\n",
              "$815k            1\n",
              "$5m              1\n",
              "$3m              1\n",
              "$100k            1\n",
              "$6.8m            1\n",
              "$1.8m            1\n",
              "$100b            1\n",
              "$18.6m           1\n",
              "$800k            1\n",
              "$20m             1\n",
              "$5               1\n",
              "$4.2m            1\n",
              "$7               1\n",
              "~7.4k            1\n",
              "$29.1m           1\n",
              "$12m             1\n",
              "$350k            1\n",
              "$65k             1\n",
              "$22.7k           1\n",
              "$8m              1\n",
              "$26.6k           1\n",
              "Name: amount_raised, dtype: int64"
            ]
          },
          "metadata": {
            "tags": []
          },
          "execution_count": 23
        }
      ]
    },
    {
      "cell_type": "code",
      "metadata": {
        "colab": {
          "base_uri": "https://localhost:8080/"
        },
        "id": "aX5PWMakmH6i",
        "outputId": "1f648922-6ff8-4788-f320-da9a5201e540"
      },
      "source": [
        "dfa['ranking']"
      ],
      "execution_count": 24,
      "outputs": [
        {
          "output_type": "execute_result",
          "data": {
            "text/plain": [
              "0        66100\n",
              "1       252000\n",
              "2      2700000\n",
              "3       945700\n",
              "4      4800000\n",
              "        ...   \n",
              "633          0\n",
              "634       4200\n",
              "635    4000000\n",
              "636    1300000\n",
              "637     640500\n",
              "Name: ranking, Length: 638, dtype: int64"
            ]
          },
          "metadata": {
            "tags": []
          },
          "execution_count": 24
        }
      ]
    },
    {
      "cell_type": "markdown",
      "metadata": {
        "id": "cM1DvNKMmgP-"
      },
      "source": [
        "## Proceeding with Model Building"
      ]
    },
    {
      "cell_type": "code",
      "metadata": {
        "colab": {
          "base_uri": "https://localhost:8080/"
        },
        "id": "G8w2jHB5rK1l",
        "outputId": "fae8f8b1-6f5f-4ab9-fd0b-8cda6336c2d6"
      },
      "source": [
        "!pip install pycaret\n",
        "\n"
      ],
      "execution_count": 25,
      "outputs": [
        {
          "output_type": "stream",
          "text": [
            "Collecting pycaret\n",
            "\u001b[?25l  Downloading https://files.pythonhosted.org/packages/bc/b6/9d620a23a038b3abdc249472ffd9be217f6b1877d2d952bfb3f653622a28/pycaret-2.3.2-py3-none-any.whl (263kB)\n",
            "\u001b[K     |████████████████████████████████| 266kB 7.5MB/s \n",
            "\u001b[?25hCollecting Boruta\n",
            "\u001b[?25l  Downloading https://files.pythonhosted.org/packages/b2/11/583f4eac99d802c79af9217e1eff56027742a69e6c866b295cce6a5a8fc2/Boruta-0.3-py3-none-any.whl (56kB)\n",
            "\u001b[K     |████████████████████████████████| 61kB 9.1MB/s \n",
            "\u001b[?25hCollecting umap-learn\n",
            "\u001b[?25l  Downloading https://files.pythonhosted.org/packages/75/69/85e7f950bb75792ad5d666d86c5f3e62eedbb942848e7e3126513af9999c/umap-learn-0.5.1.tar.gz (80kB)\n",
            "\u001b[K     |████████████████████████████████| 81kB 8.8MB/s \n",
            "\u001b[?25hCollecting mlxtend>=0.17.0\n",
            "\u001b[?25l  Downloading https://files.pythonhosted.org/packages/86/30/781c0b962a70848db83339567ecab656638c62f05adb064cb33c0ae49244/mlxtend-0.18.0-py2.py3-none-any.whl (1.3MB)\n",
            "\u001b[K     |████████████████████████████████| 1.4MB 12.9MB/s \n",
            "\u001b[?25hCollecting pyLDAvis\n",
            "\u001b[?25l  Downloading https://files.pythonhosted.org/packages/03/a5/15a0da6b0150b8b68610cc78af80364a80a9a4c8b6dd5ee549b8989d4b60/pyLDAvis-3.3.1.tar.gz (1.7MB)\n",
            "\u001b[K     |████████████████████████████████| 1.7MB 31.3MB/s \n",
            "\u001b[?25h  Installing build dependencies ... \u001b[?25l\u001b[?25hdone\n",
            "  Getting requirements to build wheel ... \u001b[?25l\u001b[?25hdone\n",
            "  Installing backend dependencies ... \u001b[?25l\u001b[?25hdone\n",
            "    Preparing wheel metadata ... \u001b[?25l\u001b[?25hdone\n",
            "Requirement already satisfied: cufflinks>=0.17.0 in /usr/local/lib/python3.7/dist-packages (from pycaret) (0.17.3)\n",
            "Requirement already satisfied: spacy<2.4.0 in /usr/local/lib/python3.7/dist-packages (from pycaret) (2.2.4)\n",
            "Requirement already satisfied: plotly>=4.4.1 in /usr/local/lib/python3.7/dist-packages (from pycaret) (4.4.1)\n",
            "Requirement already satisfied: matplotlib in /usr/local/lib/python3.7/dist-packages (from pycaret) (3.2.2)\n",
            "Collecting scikit-plot\n",
            "  Downloading https://files.pythonhosted.org/packages/7c/47/32520e259340c140a4ad27c1b97050dd3254fdc517b1d59974d47037510e/scikit_plot-0.3.7-py3-none-any.whl\n",
            "Requirement already satisfied: scipy<=1.5.4 in /usr/local/lib/python3.7/dist-packages (from pycaret) (1.4.1)\n",
            "Requirement already satisfied: pandas in /usr/local/lib/python3.7/dist-packages (from pycaret) (1.1.5)\n",
            "Collecting yellowbrick>=1.0.1\n",
            "\u001b[?25l  Downloading https://files.pythonhosted.org/packages/3a/15/58feb940b6a2f52d3335cccf9e5d00704ec5ba62782da83f7e2abeca5e4b/yellowbrick-1.3.post1-py3-none-any.whl (271kB)\n",
            "\u001b[K     |████████████████████████████████| 276kB 40.1MB/s \n",
            "\u001b[?25hRequirement already satisfied: gensim<4.0.0 in /usr/local/lib/python3.7/dist-packages (from pycaret) (3.6.0)\n",
            "Requirement already satisfied: textblob in /usr/local/lib/python3.7/dist-packages (from pycaret) (0.15.3)\n",
            "Requirement already satisfied: joblib in /usr/local/lib/python3.7/dist-packages (from pycaret) (1.0.1)\n",
            "Collecting mlflow\n",
            "\u001b[?25l  Downloading https://files.pythonhosted.org/packages/1c/ad/1a46cd6a6f512b120cae9d3cf139119a5866df038974920742264303c0bc/mlflow-1.19.0-py3-none-any.whl (14.4MB)\n",
            "\u001b[K     |████████████████████████████████| 14.4MB 208kB/s \n",
            "\u001b[?25hCollecting pyod\n",
            "\u001b[?25l  Downloading https://files.pythonhosted.org/packages/71/8a/faa04a753bc32aeef00b9acf8e23d0b914b03844b89dcc6062b28e7ab1c5/pyod-0.9.0.tar.gz (105kB)\n",
            "\u001b[K     |████████████████████████████████| 112kB 48.9MB/s \n",
            "\u001b[?25hRequirement already satisfied: wordcloud in /usr/local/lib/python3.7/dist-packages (from pycaret) (1.5.0)\n",
            "Requirement already satisfied: seaborn in /usr/local/lib/python3.7/dist-packages (from pycaret) (0.11.1)\n",
            "Requirement already satisfied: ipywidgets in /usr/local/lib/python3.7/dist-packages (from pycaret) (7.6.3)\n",
            "Requirement already satisfied: numpy==1.19.5 in /usr/local/lib/python3.7/dist-packages (from pycaret) (1.19.5)\n",
            "Requirement already satisfied: nltk in /usr/local/lib/python3.7/dist-packages (from pycaret) (3.2.5)\n",
            "Requirement already satisfied: IPython in /usr/local/lib/python3.7/dist-packages (from pycaret) (5.5.0)\n",
            "Collecting pandas-profiling>=2.8.0\n",
            "\u001b[?25l  Downloading https://files.pythonhosted.org/packages/3b/a3/34519d16e5ebe69bad30c5526deea2c3912634ced7f9b5e6e0bb9dbbd567/pandas_profiling-3.0.0-py2.py3-none-any.whl (248kB)\n",
            "\u001b[K     |████████████████████████████████| 256kB 46.5MB/s \n",
            "\u001b[?25hCollecting lightgbm>=2.3.1\n",
            "\u001b[?25l  Downloading https://files.pythonhosted.org/packages/18/b2/fff8370f48549ce223f929fe8cab4ee6bf285a41f86037d91312b48ed95b/lightgbm-3.2.1-py3-none-manylinux1_x86_64.whl (2.0MB)\n",
            "\u001b[K     |████████████████████████████████| 2.0MB 36.6MB/s \n",
            "\u001b[?25hCollecting scikit-learn==0.23.2\n",
            "\u001b[?25l  Downloading https://files.pythonhosted.org/packages/f4/cb/64623369f348e9bfb29ff898a57ac7c91ed4921f228e9726546614d63ccb/scikit_learn-0.23.2-cp37-cp37m-manylinux1_x86_64.whl (6.8MB)\n",
            "\u001b[K     |████████████████████████████████| 6.8MB 37.2MB/s \n",
            "\u001b[?25hCollecting imbalanced-learn==0.7.0\n",
            "\u001b[?25l  Downloading https://files.pythonhosted.org/packages/c8/81/8db4d87b03b998fda7c6f835d807c9ae4e3b141f978597b8d7f31600be15/imbalanced_learn-0.7.0-py3-none-any.whl (167kB)\n",
            "\u001b[K     |████████████████████████████████| 174kB 54.5MB/s \n",
            "\u001b[?25hCollecting kmodes>=0.10.1\n",
            "  Downloading https://files.pythonhosted.org/packages/9b/34/fffc601aa4d44b94e945a7cc72f477e09dffa7dce888898f2ffd9f4e343e/kmodes-0.11.0-py2.py3-none-any.whl\n",
            "Requirement already satisfied: numba>=0.49 in /usr/local/lib/python3.7/dist-packages (from umap-learn->pycaret) (0.51.2)\n",
            "Collecting pynndescent>=0.5\n",
            "\u001b[?25l  Downloading https://files.pythonhosted.org/packages/b1/8d/44bf1c9e69dd9bf0697a3b9375b0729942525c0eee7b7859f563439d676a/pynndescent-0.5.4.tar.gz (1.1MB)\n",
            "\u001b[K     |████████████████████████████████| 1.1MB 22.4MB/s \n",
            "\u001b[?25hRequirement already satisfied: setuptools in /usr/local/lib/python3.7/dist-packages (from mlxtend>=0.17.0->pycaret) (57.2.0)\n",
            "Requirement already satisfied: sklearn in /usr/local/lib/python3.7/dist-packages (from pyLDAvis->pycaret) (0.0)\n",
            "Requirement already satisfied: jinja2 in /usr/local/lib/python3.7/dist-packages (from pyLDAvis->pycaret) (2.11.3)\n",
            "Requirement already satisfied: future in /usr/local/lib/python3.7/dist-packages (from pyLDAvis->pycaret) (0.16.0)\n",
            "Requirement already satisfied: numexpr in /usr/local/lib/python3.7/dist-packages (from pyLDAvis->pycaret) (2.7.3)\n",
            "Collecting funcy\n",
            "  Downloading https://files.pythonhosted.org/packages/44/52/5cf7401456a461e4b481650dfb8279bc000f31a011d0918904f86e755947/funcy-1.16-py2.py3-none-any.whl\n",
            "Requirement already satisfied: six>=1.9.0 in /usr/local/lib/python3.7/dist-packages (from cufflinks>=0.17.0->pycaret) (1.15.0)\n",
            "Requirement already satisfied: colorlover>=0.2.1 in /usr/local/lib/python3.7/dist-packages (from cufflinks>=0.17.0->pycaret) (0.3.0)\n",
            "Requirement already satisfied: wasabi<1.1.0,>=0.4.0 in /usr/local/lib/python3.7/dist-packages (from spacy<2.4.0->pycaret) (0.8.2)\n",
            "Requirement already satisfied: murmurhash<1.1.0,>=0.28.0 in /usr/local/lib/python3.7/dist-packages (from spacy<2.4.0->pycaret) (1.0.5)\n",
            "Requirement already satisfied: tqdm<5.0.0,>=4.38.0 in /usr/local/lib/python3.7/dist-packages (from spacy<2.4.0->pycaret) (4.41.1)\n",
            "Requirement already satisfied: catalogue<1.1.0,>=0.0.7 in /usr/local/lib/python3.7/dist-packages (from spacy<2.4.0->pycaret) (1.0.0)\n",
            "Requirement already satisfied: requests<3.0.0,>=2.13.0 in /usr/local/lib/python3.7/dist-packages (from spacy<2.4.0->pycaret) (2.23.0)\n",
            "Requirement already satisfied: thinc==7.4.0 in /usr/local/lib/python3.7/dist-packages (from spacy<2.4.0->pycaret) (7.4.0)\n",
            "Requirement already satisfied: plac<1.2.0,>=0.9.6 in /usr/local/lib/python3.7/dist-packages (from spacy<2.4.0->pycaret) (1.1.3)\n",
            "Requirement already satisfied: cymem<2.1.0,>=2.0.2 in /usr/local/lib/python3.7/dist-packages (from spacy<2.4.0->pycaret) (2.0.5)\n",
            "Requirement already satisfied: preshed<3.1.0,>=3.0.2 in /usr/local/lib/python3.7/dist-packages (from spacy<2.4.0->pycaret) (3.0.5)\n",
            "Requirement already satisfied: srsly<1.1.0,>=1.0.2 in /usr/local/lib/python3.7/dist-packages (from spacy<2.4.0->pycaret) (1.0.5)\n",
            "Requirement already satisfied: blis<0.5.0,>=0.4.0 in /usr/local/lib/python3.7/dist-packages (from spacy<2.4.0->pycaret) (0.4.1)\n",
            "Requirement already satisfied: retrying>=1.3.3 in /usr/local/lib/python3.7/dist-packages (from plotly>=4.4.1->pycaret) (1.3.3)\n",
            "Requirement already satisfied: kiwisolver>=1.0.1 in /usr/local/lib/python3.7/dist-packages (from matplotlib->pycaret) (1.3.1)\n",
            "Requirement already satisfied: python-dateutil>=2.1 in /usr/local/lib/python3.7/dist-packages (from matplotlib->pycaret) (2.8.1)\n",
            "Requirement already satisfied: pyparsing!=2.0.4,!=2.1.2,!=2.1.6,>=2.0.1 in /usr/local/lib/python3.7/dist-packages (from matplotlib->pycaret) (2.4.7)\n",
            "Requirement already satisfied: cycler>=0.10 in /usr/local/lib/python3.7/dist-packages (from matplotlib->pycaret) (0.10.0)\n",
            "Requirement already satisfied: pytz>=2017.2 in /usr/local/lib/python3.7/dist-packages (from pandas->pycaret) (2018.9)\n",
            "Requirement already satisfied: smart-open>=1.2.1 in /usr/local/lib/python3.7/dist-packages (from gensim<4.0.0->pycaret) (5.1.0)\n",
            "Requirement already satisfied: sqlparse>=0.3.1 in /usr/local/lib/python3.7/dist-packages (from mlflow->pycaret) (0.4.1)\n",
            "Requirement already satisfied: sqlalchemy in /usr/local/lib/python3.7/dist-packages (from mlflow->pycaret) (1.4.20)\n",
            "Requirement already satisfied: protobuf>=3.7.0 in /usr/local/lib/python3.7/dist-packages (from mlflow->pycaret) (3.17.3)\n",
            "Collecting databricks-cli>=0.8.7\n",
            "\u001b[?25l  Downloading https://files.pythonhosted.org/packages/bc/af/631375abc29e59cedfa4467a5f7755503ba19898890751e1f2636ef02f92/databricks-cli-0.14.3.tar.gz (54kB)\n",
            "\u001b[K     |████████████████████████████████| 61kB 9.7MB/s \n",
            "\u001b[?25hCollecting querystring-parser\n",
            "  Downloading https://files.pythonhosted.org/packages/88/6b/572b2590fd55114118bf08bde63c0a421dcc82d593700f3e2ad89908a8a9/querystring_parser-1.2.4-py2.py3-none-any.whl\n",
            "Requirement already satisfied: click>=7.0 in /usr/local/lib/python3.7/dist-packages (from mlflow->pycaret) (7.1.2)\n",
            "Collecting gunicorn; platform_system != \"Windows\"\n",
            "\u001b[?25l  Downloading https://files.pythonhosted.org/packages/e4/dd/5b190393e6066286773a67dfcc2f9492058e9b57c4867a95f1ba5caf0a83/gunicorn-20.1.0-py3-none-any.whl (79kB)\n",
            "\u001b[K     |████████████████████████████████| 81kB 11.2MB/s \n",
            "\u001b[?25hCollecting pyyaml>=5.1\n",
            "\u001b[?25l  Downloading https://files.pythonhosted.org/packages/7a/a5/393c087efdc78091afa2af9f1378762f9821c9c1d7a22c5753fb5ac5f97a/PyYAML-5.4.1-cp37-cp37m-manylinux1_x86_64.whl (636kB)\n",
            "\u001b[K     |████████████████████████████████| 645kB 33.1MB/s \n",
            "\u001b[?25hCollecting gitpython>=2.1.0\n",
            "\u001b[?25l  Downloading https://files.pythonhosted.org/packages/bc/91/b38c4fabb6e5092ab23492ded4f318ab7299b19263272b703478038c0fbc/GitPython-3.1.18-py3-none-any.whl (170kB)\n",
            "\u001b[K     |████████████████████████████████| 174kB 48.7MB/s \n",
            "\u001b[?25hRequirement already satisfied: cloudpickle in /usr/local/lib/python3.7/dist-packages (from mlflow->pycaret) (1.3.0)\n",
            "Requirement already satisfied: Flask in /usr/local/lib/python3.7/dist-packages (from mlflow->pycaret) (1.1.4)\n",
            "Collecting prometheus-flask-exporter\n",
            "  Downloading https://files.pythonhosted.org/packages/f3/c1/2cc385fadf18dc75fe24c18899269eda4dcc60221d61eff7da4a6cc5c01d/prometheus_flask_exporter-0.18.2.tar.gz\n",
            "Requirement already satisfied: entrypoints in /usr/local/lib/python3.7/dist-packages (from mlflow->pycaret) (0.3)\n",
            "Collecting docker>=4.0.0\n",
            "\u001b[?25l  Downloading https://files.pythonhosted.org/packages/b2/5a/f988909dfed18c1ac42ad8d9e611e6c5657e270aa6eb68559985dbb69c13/docker-5.0.0-py2.py3-none-any.whl (146kB)\n",
            "\u001b[K     |████████████████████████████████| 153kB 33.1MB/s \n",
            "\u001b[?25hRequirement already satisfied: packaging in /usr/local/lib/python3.7/dist-packages (from mlflow->pycaret) (21.0)\n",
            "Collecting alembic<=1.4.1\n",
            "\u001b[?25l  Downloading https://files.pythonhosted.org/packages/e0/e9/359dbb77c35c419df0aedeb1d53e71e7e3f438ff64a8fdb048c907404de3/alembic-1.4.1.tar.gz (1.1MB)\n",
            "\u001b[K     |████████████████████████████████| 1.1MB 30.0MB/s \n",
            "\u001b[?25hRequirement already satisfied: statsmodels in /usr/local/lib/python3.7/dist-packages (from pyod->pycaret) (0.10.2)\n",
            "Requirement already satisfied: pillow in /usr/local/lib/python3.7/dist-packages (from wordcloud->pycaret) (7.1.2)\n",
            "Requirement already satisfied: nbformat>=4.2.0 in /usr/local/lib/python3.7/dist-packages (from ipywidgets->pycaret) (5.1.3)\n",
            "Requirement already satisfied: jupyterlab-widgets>=1.0.0; python_version >= \"3.6\" in /usr/local/lib/python3.7/dist-packages (from ipywidgets->pycaret) (1.0.0)\n",
            "Requirement already satisfied: traitlets>=4.3.1 in /usr/local/lib/python3.7/dist-packages (from ipywidgets->pycaret) (5.0.5)\n",
            "Requirement already satisfied: widgetsnbextension~=3.5.0 in /usr/local/lib/python3.7/dist-packages (from ipywidgets->pycaret) (3.5.1)\n",
            "Requirement already satisfied: ipykernel>=4.5.1 in /usr/local/lib/python3.7/dist-packages (from ipywidgets->pycaret) (4.10.1)\n",
            "Requirement already satisfied: pygments in /usr/local/lib/python3.7/dist-packages (from IPython->pycaret) (2.6.1)\n",
            "Requirement already satisfied: pickleshare in /usr/local/lib/python3.7/dist-packages (from IPython->pycaret) (0.7.5)\n",
            "Requirement already satisfied: decorator in /usr/local/lib/python3.7/dist-packages (from IPython->pycaret) (4.4.2)\n",
            "Requirement already satisfied: prompt-toolkit<2.0.0,>=1.0.4 in /usr/local/lib/python3.7/dist-packages (from IPython->pycaret) (1.0.18)\n",
            "Requirement already satisfied: pexpect; sys_platform != \"win32\" in /usr/local/lib/python3.7/dist-packages (from IPython->pycaret) (4.8.0)\n",
            "Requirement already satisfied: simplegeneric>0.8 in /usr/local/lib/python3.7/dist-packages (from IPython->pycaret) (0.8.1)\n",
            "Collecting htmlmin>=0.1.12\n",
            "  Downloading https://files.pythonhosted.org/packages/b3/e7/fcd59e12169de19f0131ff2812077f964c6b960e7c09804d30a7bf2ab461/htmlmin-0.1.12.tar.gz\n",
            "Collecting tangled-up-in-unicode==0.1.0\n",
            "\u001b[?25l  Downloading https://files.pythonhosted.org/packages/93/3e/cb354fb2097fcf2fd5b5a342b10ae2a6e9363ba435b64e3e00c414064bc7/tangled_up_in_unicode-0.1.0-py3-none-any.whl (3.1MB)\n",
            "\u001b[K     |████████████████████████████████| 3.1MB 26.3MB/s \n",
            "\u001b[?25hRequirement already satisfied: missingno>=0.4.2 in /usr/local/lib/python3.7/dist-packages (from pandas-profiling>=2.8.0->pycaret) (0.5.0)\n",
            "Collecting phik>=0.11.1\n",
            "\u001b[?25l  Downloading https://files.pythonhosted.org/packages/b7/ce/193e8ddf62d4be643b9b4b20e8e9c63b2f6a20f92778c0410c629f89bdaa/phik-0.11.2.tar.gz (1.1MB)\n",
            "\u001b[K     |████████████████████████████████| 1.1MB 28.7MB/s \n",
            "\u001b[?25hCollecting visions[type_image_path]==0.7.1\n",
            "\u001b[?25l  Downloading https://files.pythonhosted.org/packages/80/96/01e4ba22cef96ae5035dbcf0451c2f4f859f8f17393b98406b23f0034279/visions-0.7.1-py3-none-any.whl (102kB)\n",
            "\u001b[K     |████████████████████████████████| 112kB 45.9MB/s \n",
            "\u001b[?25hCollecting pydantic>=1.8.1\n",
            "\u001b[?25l  Downloading https://files.pythonhosted.org/packages/9f/f2/2d5425efe57f6c4e06cbe5e587c1fd16929dcf0eb90bd4d3d1e1c97d1151/pydantic-1.8.2-cp37-cp37m-manylinux2014_x86_64.whl (10.1MB)\n",
            "\u001b[K     |████████████████████████████████| 10.1MB 27.4MB/s \n",
            "\u001b[?25hRequirement already satisfied: wheel in /usr/local/lib/python3.7/dist-packages (from lightgbm>=2.3.1->pycaret) (0.36.2)\n",
            "Collecting threadpoolctl>=2.0.0\n",
            "  Downloading https://files.pythonhosted.org/packages/c6/e8/c216b9b60cbba4642d3ca1bae7a53daa0c24426f662e0e3ce3dc7f6caeaa/threadpoolctl-2.2.0-py3-none-any.whl\n",
            "Requirement already satisfied: llvmlite<0.35,>=0.34.0.dev0 in /usr/local/lib/python3.7/dist-packages (from numba>=0.49->umap-learn->pycaret) (0.34.0)\n",
            "Requirement already satisfied: MarkupSafe>=0.23 in /usr/local/lib/python3.7/dist-packages (from jinja2->pyLDAvis->pycaret) (2.0.1)\n",
            "Requirement already satisfied: importlib-metadata>=0.20; python_version < \"3.8\" in /usr/local/lib/python3.7/dist-packages (from catalogue<1.1.0,>=0.0.7->spacy<2.4.0->pycaret) (4.6.1)\n",
            "Requirement already satisfied: urllib3!=1.25.0,!=1.25.1,<1.26,>=1.21.1 in /usr/local/lib/python3.7/dist-packages (from requests<3.0.0,>=2.13.0->spacy<2.4.0->pycaret) (1.24.3)\n",
            "Requirement already satisfied: certifi>=2017.4.17 in /usr/local/lib/python3.7/dist-packages (from requests<3.0.0,>=2.13.0->spacy<2.4.0->pycaret) (2021.5.30)\n",
            "Requirement already satisfied: chardet<4,>=3.0.2 in /usr/local/lib/python3.7/dist-packages (from requests<3.0.0,>=2.13.0->spacy<2.4.0->pycaret) (3.0.4)\n",
            "Requirement already satisfied: idna<3,>=2.5 in /usr/local/lib/python3.7/dist-packages (from requests<3.0.0,>=2.13.0->spacy<2.4.0->pycaret) (2.10)\n",
            "Requirement already satisfied: greenlet!=0.4.17; python_version >= \"3\" in /usr/local/lib/python3.7/dist-packages (from sqlalchemy->mlflow->pycaret) (1.1.0)\n",
            "Requirement already satisfied: tabulate>=0.7.7 in /usr/local/lib/python3.7/dist-packages (from databricks-cli>=0.8.7->mlflow->pycaret) (0.8.9)\n",
            "Collecting gitdb<5,>=4.0.1\n",
            "\u001b[?25l  Downloading https://files.pythonhosted.org/packages/ea/e8/f414d1a4f0bbc668ed441f74f44c116d9816833a48bf81d22b697090dba8/gitdb-4.0.7-py3-none-any.whl (63kB)\n",
            "\u001b[K     |████████████████████████████████| 71kB 12.0MB/s \n",
            "\u001b[?25hRequirement already satisfied: typing-extensions>=3.7.4.0; python_version < \"3.8\" in /usr/local/lib/python3.7/dist-packages (from gitpython>=2.1.0->mlflow->pycaret) (3.7.4.3)\n",
            "Requirement already satisfied: itsdangerous<2.0,>=0.24 in /usr/local/lib/python3.7/dist-packages (from Flask->mlflow->pycaret) (1.1.0)\n",
            "Requirement already satisfied: Werkzeug<2.0,>=0.15 in /usr/local/lib/python3.7/dist-packages (from Flask->mlflow->pycaret) (1.0.1)\n",
            "Requirement already satisfied: prometheus_client in /usr/local/lib/python3.7/dist-packages (from prometheus-flask-exporter->mlflow->pycaret) (0.11.0)\n",
            "Collecting websocket-client>=0.32.0\n",
            "\u001b[?25l  Downloading https://files.pythonhosted.org/packages/ca/5f/3c211d168b2e9f9342cfb53bcfc26aab0eac63b998015e7af7bcae66119d/websocket_client-1.1.0-py2.py3-none-any.whl (68kB)\n",
            "\u001b[K     |████████████████████████████████| 71kB 10.7MB/s \n",
            "\u001b[?25hCollecting Mako\n",
            "\u001b[?25l  Downloading https://files.pythonhosted.org/packages/f3/54/dbc07fbb20865d3b78fdb7cf7fa713e2cba4f87f71100074ef2dc9f9d1f7/Mako-1.1.4-py2.py3-none-any.whl (75kB)\n",
            "\u001b[K     |████████████████████████████████| 81kB 13.2MB/s \n",
            "\u001b[?25hCollecting python-editor>=0.3\n",
            "  Downloading https://files.pythonhosted.org/packages/c6/d3/201fc3abe391bbae6606e6f1d598c15d367033332bd54352b12f35513717/python_editor-1.0.4-py3-none-any.whl\n",
            "Requirement already satisfied: patsy>=0.4.0 in /usr/local/lib/python3.7/dist-packages (from statsmodels->pyod->pycaret) (0.5.1)\n",
            "Requirement already satisfied: ipython-genutils in /usr/local/lib/python3.7/dist-packages (from nbformat>=4.2.0->ipywidgets->pycaret) (0.2.0)\n",
            "Requirement already satisfied: jupyter-core in /usr/local/lib/python3.7/dist-packages (from nbformat>=4.2.0->ipywidgets->pycaret) (4.7.1)\n",
            "Requirement already satisfied: jsonschema!=2.5.0,>=2.4 in /usr/local/lib/python3.7/dist-packages (from nbformat>=4.2.0->ipywidgets->pycaret) (2.6.0)\n",
            "Requirement already satisfied: notebook>=4.4.1 in /usr/local/lib/python3.7/dist-packages (from widgetsnbextension~=3.5.0->ipywidgets->pycaret) (5.3.1)\n",
            "Requirement already satisfied: jupyter-client in /usr/local/lib/python3.7/dist-packages (from ipykernel>=4.5.1->ipywidgets->pycaret) (5.3.5)\n",
            "Requirement already satisfied: tornado>=4.0 in /usr/local/lib/python3.7/dist-packages (from ipykernel>=4.5.1->ipywidgets->pycaret) (5.1.1)\n",
            "Requirement already satisfied: wcwidth in /usr/local/lib/python3.7/dist-packages (from prompt-toolkit<2.0.0,>=1.0.4->IPython->pycaret) (0.2.5)\n",
            "Requirement already satisfied: ptyprocess>=0.5 in /usr/local/lib/python3.7/dist-packages (from pexpect; sys_platform != \"win32\"->IPython->pycaret) (0.7.0)\n",
            "Collecting multimethod==1.4\n",
            "  Downloading https://files.pythonhosted.org/packages/7a/d0/ce5ad0392aa12645b7ad91a5983d6b625b704b021d9cd48c587630c1a9ac/multimethod-1.4-py2.py3-none-any.whl\n",
            "Requirement already satisfied: bottleneck in /usr/local/lib/python3.7/dist-packages (from visions[type_image_path]==0.7.1->pandas-profiling>=2.8.0->pycaret) (1.3.2)\n",
            "Requirement already satisfied: networkx>=2.4 in /usr/local/lib/python3.7/dist-packages (from visions[type_image_path]==0.7.1->pandas-profiling>=2.8.0->pycaret) (2.5.1)\n",
            "Requirement already satisfied: attrs>=19.3.0 in /usr/local/lib/python3.7/dist-packages (from visions[type_image_path]==0.7.1->pandas-profiling>=2.8.0->pycaret) (21.2.0)\n",
            "Collecting imagehash; extra == \"type_image_path\"\n",
            "\u001b[?25l  Downloading https://files.pythonhosted.org/packages/ef/bb/612c6ef49a57acf2af6cfd928b8913dea2837bd96cc0d8ef6ec8d2014158/ImageHash-4.2.1.tar.gz (812kB)\n",
            "\u001b[K     |████████████████████████████████| 819kB 34.2MB/s \n",
            "\u001b[?25hRequirement already satisfied: zipp>=0.5 in /usr/local/lib/python3.7/dist-packages (from importlib-metadata>=0.20; python_version < \"3.8\"->catalogue<1.1.0,>=0.0.7->spacy<2.4.0->pycaret) (3.5.0)\n",
            "Collecting smmap<5,>=3.0.1\n",
            "  Downloading https://files.pythonhosted.org/packages/68/ee/d540eb5e5996eb81c26ceffac6ee49041d473bc5125f2aa995cf51ec1cf1/smmap-4.0.0-py2.py3-none-any.whl\n",
            "Requirement already satisfied: terminado>=0.8.1 in /usr/local/lib/python3.7/dist-packages (from notebook>=4.4.1->widgetsnbextension~=3.5.0->ipywidgets->pycaret) (0.10.1)\n",
            "Requirement already satisfied: nbconvert in /usr/local/lib/python3.7/dist-packages (from notebook>=4.4.1->widgetsnbextension~=3.5.0->ipywidgets->pycaret) (5.6.1)\n",
            "Requirement already satisfied: Send2Trash in /usr/local/lib/python3.7/dist-packages (from notebook>=4.4.1->widgetsnbextension~=3.5.0->ipywidgets->pycaret) (1.7.1)\n",
            "Requirement already satisfied: pyzmq>=13 in /usr/local/lib/python3.7/dist-packages (from jupyter-client->ipykernel>=4.5.1->ipywidgets->pycaret) (22.1.0)\n",
            "Requirement already satisfied: PyWavelets in /usr/local/lib/python3.7/dist-packages (from imagehash; extra == \"type_image_path\"->visions[type_image_path]==0.7.1->pandas-profiling>=2.8.0->pycaret) (1.1.1)\n",
            "Requirement already satisfied: mistune<2,>=0.8.1 in /usr/local/lib/python3.7/dist-packages (from nbconvert->notebook>=4.4.1->widgetsnbextension~=3.5.0->ipywidgets->pycaret) (0.8.4)\n",
            "Requirement already satisfied: testpath in /usr/local/lib/python3.7/dist-packages (from nbconvert->notebook>=4.4.1->widgetsnbextension~=3.5.0->ipywidgets->pycaret) (0.5.0)\n",
            "Requirement already satisfied: bleach in /usr/local/lib/python3.7/dist-packages (from nbconvert->notebook>=4.4.1->widgetsnbextension~=3.5.0->ipywidgets->pycaret) (3.3.0)\n",
            "Requirement already satisfied: defusedxml in /usr/local/lib/python3.7/dist-packages (from nbconvert->notebook>=4.4.1->widgetsnbextension~=3.5.0->ipywidgets->pycaret) (0.7.1)\n",
            "Requirement already satisfied: pandocfilters>=1.4.1 in /usr/local/lib/python3.7/dist-packages (from nbconvert->notebook>=4.4.1->widgetsnbextension~=3.5.0->ipywidgets->pycaret) (1.4.3)\n",
            "Requirement already satisfied: webencodings in /usr/local/lib/python3.7/dist-packages (from bleach->nbconvert->notebook>=4.4.1->widgetsnbextension~=3.5.0->ipywidgets->pycaret) (0.5.1)\n",
            "Building wheels for collected packages: pyLDAvis\n",
            "  Building wheel for pyLDAvis (PEP 517) ... \u001b[?25l\u001b[?25hdone\n",
            "  Created wheel for pyLDAvis: filename=pyLDAvis-3.3.1-cp37-none-any.whl size=136897 sha256=b4ba871fc8c49f847df30d9b1f149d96be6e3ccc17e5f8b2a8496bedcaa7547a\n",
            "  Stored in directory: /root/.cache/pip/wheels/a0/9c/fc/c6e00689d35c82cf96a8adc70edfe7ba7904374fdac3240ac2\n",
            "Successfully built pyLDAvis\n",
            "Building wheels for collected packages: umap-learn, pyod, pynndescent, databricks-cli, prometheus-flask-exporter, alembic, htmlmin, phik, imagehash\n",
            "  Building wheel for umap-learn (setup.py) ... \u001b[?25l\u001b[?25hdone\n",
            "  Created wheel for umap-learn: filename=umap_learn-0.5.1-cp37-none-any.whl size=76569 sha256=b43b2ee1d852cdeadbd3b631819a68c9cba084b0711b0f04e71a42c8f0c99fe4\n",
            "  Stored in directory: /root/.cache/pip/wheels/ad/df/d5/a3691296ff779f25cd1cf415a3af954b987fb53111e3392cf4\n",
            "  Building wheel for pyod (setup.py) ... \u001b[?25l\u001b[?25hdone\n",
            "  Created wheel for pyod: filename=pyod-0.9.0-cp37-none-any.whl size=122561 sha256=5d3f102a789e1fc9b83101275f468e360549c01ba71b63666189559eb63e5b9f\n",
            "  Stored in directory: /root/.cache/pip/wheels/db/15/54/88660e3bfac7c88e81b7d719c66ee876e26b6abc46376f78b3\n",
            "  Building wheel for pynndescent (setup.py) ... \u001b[?25l\u001b[?25hdone\n",
            "  Created wheel for pynndescent: filename=pynndescent-0.5.4-cp37-none-any.whl size=52374 sha256=8056dacbb41950af465176e61e5b4961789cfa3c192da3aff8c4c7008a01659c\n",
            "  Stored in directory: /root/.cache/pip/wheels/42/4b/8c/f6f119c67cf6583bb192431fa8f7278cf95e5b943055077d94\n",
            "  Building wheel for databricks-cli (setup.py) ... \u001b[?25l\u001b[?25hdone\n",
            "  Created wheel for databricks-cli: filename=databricks_cli-0.14.3-cp37-none-any.whl size=100560 sha256=1b1bfd5119e781c430ce01ed78f674154cca9367924dece40841393f7c971ab1\n",
            "  Stored in directory: /root/.cache/pip/wheels/5b/24/f3/34d8e3964dac4ba849d844273c49a679111b00d5799ebb934a\n",
            "  Building wheel for prometheus-flask-exporter (setup.py) ... \u001b[?25l\u001b[?25hdone\n",
            "  Created wheel for prometheus-flask-exporter: filename=prometheus_flask_exporter-0.18.2-cp37-none-any.whl size=17415 sha256=1d5dfd8a49d88a553ec5db585e1f8ea8db39ccae38a9452047157919c40c374c\n",
            "  Stored in directory: /root/.cache/pip/wheels/c0/e2/9c/4f3ee23964802940f81a8b476d0b9be6fb6348cb12df2e2226\n",
            "  Building wheel for alembic (setup.py) ... \u001b[?25l\u001b[?25hdone\n",
            "  Created wheel for alembic: filename=alembic-1.4.1-py2.py3-none-any.whl size=158170 sha256=abb1d2e3ac230366a4fe80ac1819d4ed0b82f9733206eca7721a3199d9b1bf3a\n",
            "  Stored in directory: /root/.cache/pip/wheels/84/07/f7/12f7370ca47a66030c2edeedcc23dec26ea0ac22dcb4c4a0f3\n",
            "  Building wheel for htmlmin (setup.py) ... \u001b[?25l\u001b[?25hdone\n",
            "  Created wheel for htmlmin: filename=htmlmin-0.1.12-cp37-none-any.whl size=27099 sha256=c35d5f3b58bd5c8007e0e83d30668867d59382d6be402c15e709b5bb7fb35ab8\n",
            "  Stored in directory: /root/.cache/pip/wheels/43/07/ac/7c5a9d708d65247ac1f94066cf1db075540b85716c30255459\n",
            "  Building wheel for phik (setup.py) ... \u001b[?25l\u001b[?25hdone\n",
            "  Created wheel for phik: filename=phik-0.11.2-cp37-none-any.whl size=1107437 sha256=d4a5f67ef27630c73f315797cf1f4b3e306a13e9a09b299815678013bb02b7a8\n",
            "  Stored in directory: /root/.cache/pip/wheels/c0/a3/b0/f27b1cfe32ea131a3715169132ff6d85653789e80e966c3bf6\n",
            "  Building wheel for imagehash (setup.py) ... \u001b[?25l\u001b[?25hdone\n",
            "  Created wheel for imagehash: filename=ImageHash-4.2.1-py2.py3-none-any.whl size=295206 sha256=d960222abeeb55d132ae46b4efe81190ce205e7eebd6b1e5cfc5d93acb8690f2\n",
            "  Stored in directory: /root/.cache/pip/wheels/32/3c/c7/b0653122fc94b27b4c60d2260896bb4759e56396c6720d0a6c\n",
            "Successfully built umap-learn pyod pynndescent databricks-cli prometheus-flask-exporter alembic htmlmin phik imagehash\n",
            "\u001b[31mERROR: pandas-profiling 3.0.0 has requirement requests>=2.24.0, but you'll have requests 2.23.0 which is incompatible.\u001b[0m\n",
            "\u001b[31mERROR: pandas-profiling 3.0.0 has requirement tqdm>=4.48.2, but you'll have tqdm 4.41.1 which is incompatible.\u001b[0m\n",
            "\u001b[31mERROR: pyldavis 3.3.1 has requirement numpy>=1.20.0, but you'll have numpy 1.19.5 which is incompatible.\u001b[0m\n",
            "\u001b[31mERROR: pyldavis 3.3.1 has requirement pandas>=1.2.0, but you'll have pandas 1.1.5 which is incompatible.\u001b[0m\n",
            "\u001b[31mERROR: phik 0.11.2 has requirement scipy>=1.5.2, but you'll have scipy 1.4.1 which is incompatible.\u001b[0m\n",
            "Installing collected packages: threadpoolctl, scikit-learn, Boruta, pynndescent, umap-learn, mlxtend, funcy, pyLDAvis, scikit-plot, yellowbrick, databricks-cli, querystring-parser, gunicorn, pyyaml, smmap, gitdb, gitpython, prometheus-flask-exporter, websocket-client, docker, Mako, python-editor, alembic, mlflow, pyod, htmlmin, tangled-up-in-unicode, phik, multimethod, imagehash, visions, pydantic, pandas-profiling, lightgbm, imbalanced-learn, kmodes, pycaret\n",
            "  Found existing installation: scikit-learn 0.22.2.post1\n",
            "    Uninstalling scikit-learn-0.22.2.post1:\n",
            "      Successfully uninstalled scikit-learn-0.22.2.post1\n",
            "  Found existing installation: mlxtend 0.14.0\n",
            "    Uninstalling mlxtend-0.14.0:\n",
            "      Successfully uninstalled mlxtend-0.14.0\n",
            "  Found existing installation: yellowbrick 0.9.1\n",
            "    Uninstalling yellowbrick-0.9.1:\n",
            "      Successfully uninstalled yellowbrick-0.9.1\n",
            "  Found existing installation: PyYAML 3.13\n",
            "    Uninstalling PyYAML-3.13:\n",
            "      Successfully uninstalled PyYAML-3.13\n",
            "  Found existing installation: pandas-profiling 1.4.1\n",
            "    Uninstalling pandas-profiling-1.4.1:\n",
            "      Successfully uninstalled pandas-profiling-1.4.1\n",
            "  Found existing installation: lightgbm 2.2.3\n",
            "    Uninstalling lightgbm-2.2.3:\n",
            "      Successfully uninstalled lightgbm-2.2.3\n",
            "  Found existing installation: imbalanced-learn 0.4.3\n",
            "    Uninstalling imbalanced-learn-0.4.3:\n",
            "      Successfully uninstalled imbalanced-learn-0.4.3\n",
            "Successfully installed Boruta-0.3 Mako-1.1.4 alembic-1.4.1 databricks-cli-0.14.3 docker-5.0.0 funcy-1.16 gitdb-4.0.7 gitpython-3.1.18 gunicorn-20.1.0 htmlmin-0.1.12 imagehash-4.2.1 imbalanced-learn-0.7.0 kmodes-0.11.0 lightgbm-3.2.1 mlflow-1.19.0 mlxtend-0.18.0 multimethod-1.4 pandas-profiling-3.0.0 phik-0.11.2 prometheus-flask-exporter-0.18.2 pyLDAvis-3.3.1 pycaret-2.3.2 pydantic-1.8.2 pynndescent-0.5.4 pyod-0.9.0 python-editor-1.0.4 pyyaml-5.4.1 querystring-parser-1.2.4 scikit-learn-0.23.2 scikit-plot-0.3.7 smmap-4.0.0 tangled-up-in-unicode-0.1.0 threadpoolctl-2.2.0 umap-learn-0.5.1 visions-0.7.1 websocket-client-1.1.0 yellowbrick-1.3.post1\n"
          ],
          "name": "stdout"
        }
      ]
    },
    {
      "cell_type": "code",
      "metadata": {
        "id": "mc4z7hVnxFp1"
      },
      "source": [
        "data = df.sample(frac=0.9, random_state=786)\n",
        "data_unseen = df.drop(data.index)\n"
      ],
      "execution_count": 26,
      "outputs": []
    },
    {
      "cell_type": "code",
      "metadata": {
        "colab": {
          "base_uri": "https://localhost:8080/",
          "height": 1000,
          "referenced_widgets": [
            "fce9e0cca7dc4d5fab8d126069261269",
            "145dcd54185b4159bc107e26225417db",
            "276c18113cf44a46903d3b435180de85",
            "f7bf53f4fcab49db89bb95a100d5a1a6",
            "4c5dc117a10047c18f5bead5e8b82fab",
            "2163ec2b1f464cf39041eb895c6b6586"
          ]
        },
        "id": "-_KG2EOxsXFy",
        "outputId": "59a0b082-3d71-4883-8338-13573439eac0"
      },
      "source": [
        "from pycaret.regression import *\n",
        "exp_reg101 = setup(data = data, target = 'pageviews', session_id=123)"
      ],
      "execution_count": 27,
      "outputs": [
        {
          "output_type": "display_data",
          "data": {
            "text/html": [
              "<div>\n",
              "<style scoped>\n",
              "    .dataframe tbody tr th:only-of-type {\n",
              "        vertical-align: middle;\n",
              "    }\n",
              "\n",
              "    .dataframe tbody tr th {\n",
              "        vertical-align: top;\n",
              "    }\n",
              "\n",
              "    .dataframe thead th {\n",
              "        text-align: right;\n",
              "    }\n",
              "</style>\n",
              "<table border=\"1\" class=\"dataframe\">\n",
              "  <thead>\n",
              "    <tr style=\"text-align: right;\">\n",
              "      <th></th>\n",
              "      <th>Description</th>\n",
              "      <th>Value</th>\n",
              "    </tr>\n",
              "  </thead>\n",
              "  <tbody>\n",
              "    <tr>\n",
              "      <th>0</th>\n",
              "      <td>session_id</td>\n",
              "      <td>123</td>\n",
              "    </tr>\n",
              "    <tr>\n",
              "      <th>1</th>\n",
              "      <td>Target</td>\n",
              "      <td>pageviews</td>\n",
              "    </tr>\n",
              "    <tr>\n",
              "      <th>2</th>\n",
              "      <td>Original Data</td>\n",
              "      <td>(574, 20)</td>\n",
              "    </tr>\n",
              "    <tr>\n",
              "      <th>3</th>\n",
              "      <td>Missing Values</td>\n",
              "      <td>True</td>\n",
              "    </tr>\n",
              "    <tr>\n",
              "      <th>4</th>\n",
              "      <td>Numeric Features</td>\n",
              "      <td>4</td>\n",
              "    </tr>\n",
              "    <tr>\n",
              "      <th>5</th>\n",
              "      <td>Categorical Features</td>\n",
              "      <td>13</td>\n",
              "    </tr>\n",
              "    <tr>\n",
              "      <th>6</th>\n",
              "      <td>Ordinal Features</td>\n",
              "      <td>False</td>\n",
              "    </tr>\n",
              "    <tr>\n",
              "      <th>7</th>\n",
              "      <td>High Cardinality Features</td>\n",
              "      <td>False</td>\n",
              "    </tr>\n",
              "    <tr>\n",
              "      <th>8</th>\n",
              "      <td>High Cardinality Method</td>\n",
              "      <td>None</td>\n",
              "    </tr>\n",
              "    <tr>\n",
              "      <th>9</th>\n",
              "      <td>Transformed Train Set</td>\n",
              "      <td>(401, 290)</td>\n",
              "    </tr>\n",
              "    <tr>\n",
              "      <th>10</th>\n",
              "      <td>Transformed Test Set</td>\n",
              "      <td>(173, 290)</td>\n",
              "    </tr>\n",
              "    <tr>\n",
              "      <th>11</th>\n",
              "      <td>Shuffle Train-Test</td>\n",
              "      <td>True</td>\n",
              "    </tr>\n",
              "    <tr>\n",
              "      <th>12</th>\n",
              "      <td>Stratify Train-Test</td>\n",
              "      <td>False</td>\n",
              "    </tr>\n",
              "    <tr>\n",
              "      <th>13</th>\n",
              "      <td>Fold Generator</td>\n",
              "      <td>KFold</td>\n",
              "    </tr>\n",
              "    <tr>\n",
              "      <th>14</th>\n",
              "      <td>Fold Number</td>\n",
              "      <td>10</td>\n",
              "    </tr>\n",
              "    <tr>\n",
              "      <th>15</th>\n",
              "      <td>CPU Jobs</td>\n",
              "      <td>-1</td>\n",
              "    </tr>\n",
              "    <tr>\n",
              "      <th>16</th>\n",
              "      <td>Use GPU</td>\n",
              "      <td>False</td>\n",
              "    </tr>\n",
              "    <tr>\n",
              "      <th>17</th>\n",
              "      <td>Log Experiment</td>\n",
              "      <td>False</td>\n",
              "    </tr>\n",
              "    <tr>\n",
              "      <th>18</th>\n",
              "      <td>Experiment Name</td>\n",
              "      <td>reg-default-name</td>\n",
              "    </tr>\n",
              "    <tr>\n",
              "      <th>19</th>\n",
              "      <td>USI</td>\n",
              "      <td>1e28</td>\n",
              "    </tr>\n",
              "    <tr>\n",
              "      <th>20</th>\n",
              "      <td>Imputation Type</td>\n",
              "      <td>simple</td>\n",
              "    </tr>\n",
              "    <tr>\n",
              "      <th>21</th>\n",
              "      <td>Iterative Imputation Iteration</td>\n",
              "      <td>None</td>\n",
              "    </tr>\n",
              "    <tr>\n",
              "      <th>22</th>\n",
              "      <td>Numeric Imputer</td>\n",
              "      <td>mean</td>\n",
              "    </tr>\n",
              "    <tr>\n",
              "      <th>23</th>\n",
              "      <td>Iterative Imputation Numeric Model</td>\n",
              "      <td>None</td>\n",
              "    </tr>\n",
              "    <tr>\n",
              "      <th>24</th>\n",
              "      <td>Categorical Imputer</td>\n",
              "      <td>constant</td>\n",
              "    </tr>\n",
              "    <tr>\n",
              "      <th>25</th>\n",
              "      <td>Iterative Imputation Categorical Model</td>\n",
              "      <td>None</td>\n",
              "    </tr>\n",
              "    <tr>\n",
              "      <th>26</th>\n",
              "      <td>Unknown Categoricals Handling</td>\n",
              "      <td>least_frequent</td>\n",
              "    </tr>\n",
              "    <tr>\n",
              "      <th>27</th>\n",
              "      <td>Normalize</td>\n",
              "      <td>False</td>\n",
              "    </tr>\n",
              "    <tr>\n",
              "      <th>28</th>\n",
              "      <td>Normalize Method</td>\n",
              "      <td>None</td>\n",
              "    </tr>\n",
              "    <tr>\n",
              "      <th>29</th>\n",
              "      <td>Transformation</td>\n",
              "      <td>False</td>\n",
              "    </tr>\n",
              "    <tr>\n",
              "      <th>30</th>\n",
              "      <td>Transformation Method</td>\n",
              "      <td>None</td>\n",
              "    </tr>\n",
              "    <tr>\n",
              "      <th>31</th>\n",
              "      <td>PCA</td>\n",
              "      <td>False</td>\n",
              "    </tr>\n",
              "    <tr>\n",
              "      <th>32</th>\n",
              "      <td>PCA Method</td>\n",
              "      <td>None</td>\n",
              "    </tr>\n",
              "    <tr>\n",
              "      <th>33</th>\n",
              "      <td>PCA Components</td>\n",
              "      <td>None</td>\n",
              "    </tr>\n",
              "    <tr>\n",
              "      <th>34</th>\n",
              "      <td>Ignore Low Variance</td>\n",
              "      <td>False</td>\n",
              "    </tr>\n",
              "    <tr>\n",
              "      <th>35</th>\n",
              "      <td>Combine Rare Levels</td>\n",
              "      <td>False</td>\n",
              "    </tr>\n",
              "    <tr>\n",
              "      <th>36</th>\n",
              "      <td>Rare Level Threshold</td>\n",
              "      <td>None</td>\n",
              "    </tr>\n",
              "    <tr>\n",
              "      <th>37</th>\n",
              "      <td>Numeric Binning</td>\n",
              "      <td>False</td>\n",
              "    </tr>\n",
              "    <tr>\n",
              "      <th>38</th>\n",
              "      <td>Remove Outliers</td>\n",
              "      <td>False</td>\n",
              "    </tr>\n",
              "    <tr>\n",
              "      <th>39</th>\n",
              "      <td>Outliers Threshold</td>\n",
              "      <td>None</td>\n",
              "    </tr>\n",
              "    <tr>\n",
              "      <th>40</th>\n",
              "      <td>Remove Multicollinearity</td>\n",
              "      <td>False</td>\n",
              "    </tr>\n",
              "    <tr>\n",
              "      <th>41</th>\n",
              "      <td>Multicollinearity Threshold</td>\n",
              "      <td>None</td>\n",
              "    </tr>\n",
              "    <tr>\n",
              "      <th>42</th>\n",
              "      <td>Remove Perfect Collinearity</td>\n",
              "      <td>True</td>\n",
              "    </tr>\n",
              "    <tr>\n",
              "      <th>43</th>\n",
              "      <td>Clustering</td>\n",
              "      <td>False</td>\n",
              "    </tr>\n",
              "    <tr>\n",
              "      <th>44</th>\n",
              "      <td>Clustering Iteration</td>\n",
              "      <td>None</td>\n",
              "    </tr>\n",
              "    <tr>\n",
              "      <th>45</th>\n",
              "      <td>Polynomial Features</td>\n",
              "      <td>False</td>\n",
              "    </tr>\n",
              "    <tr>\n",
              "      <th>46</th>\n",
              "      <td>Polynomial Degree</td>\n",
              "      <td>None</td>\n",
              "    </tr>\n",
              "    <tr>\n",
              "      <th>47</th>\n",
              "      <td>Trignometry Features</td>\n",
              "      <td>False</td>\n",
              "    </tr>\n",
              "    <tr>\n",
              "      <th>48</th>\n",
              "      <td>Polynomial Threshold</td>\n",
              "      <td>None</td>\n",
              "    </tr>\n",
              "    <tr>\n",
              "      <th>49</th>\n",
              "      <td>Group Features</td>\n",
              "      <td>False</td>\n",
              "    </tr>\n",
              "    <tr>\n",
              "      <th>50</th>\n",
              "      <td>Feature Selection</td>\n",
              "      <td>False</td>\n",
              "    </tr>\n",
              "    <tr>\n",
              "      <th>51</th>\n",
              "      <td>Feature Selection Method</td>\n",
              "      <td>classic</td>\n",
              "    </tr>\n",
              "    <tr>\n",
              "      <th>52</th>\n",
              "      <td>Features Selection Threshold</td>\n",
              "      <td>None</td>\n",
              "    </tr>\n",
              "    <tr>\n",
              "      <th>53</th>\n",
              "      <td>Feature Interaction</td>\n",
              "      <td>False</td>\n",
              "    </tr>\n",
              "    <tr>\n",
              "      <th>54</th>\n",
              "      <td>Feature Ratio</td>\n",
              "      <td>False</td>\n",
              "    </tr>\n",
              "    <tr>\n",
              "      <th>55</th>\n",
              "      <td>Interaction Threshold</td>\n",
              "      <td>None</td>\n",
              "    </tr>\n",
              "    <tr>\n",
              "      <th>56</th>\n",
              "      <td>Transform Target</td>\n",
              "      <td>False</td>\n",
              "    </tr>\n",
              "    <tr>\n",
              "      <th>57</th>\n",
              "      <td>Transform Target Method</td>\n",
              "      <td>box-cox</td>\n",
              "    </tr>\n",
              "  </tbody>\n",
              "</table>\n",
              "</div>"
            ],
            "text/plain": [
              "                               Description             Value\n",
              "0                               session_id               123\n",
              "1                                   Target         pageviews\n",
              "2                            Original Data         (574, 20)\n",
              "3                           Missing Values              True\n",
              "4                         Numeric Features                 4\n",
              "5                     Categorical Features                13\n",
              "6                         Ordinal Features             False\n",
              "7                High Cardinality Features             False\n",
              "8                  High Cardinality Method              None\n",
              "9                    Transformed Train Set        (401, 290)\n",
              "10                    Transformed Test Set        (173, 290)\n",
              "11                      Shuffle Train-Test              True\n",
              "12                     Stratify Train-Test             False\n",
              "13                          Fold Generator             KFold\n",
              "14                             Fold Number                10\n",
              "15                                CPU Jobs                -1\n",
              "16                                 Use GPU             False\n",
              "17                          Log Experiment             False\n",
              "18                         Experiment Name  reg-default-name\n",
              "19                                     USI              1e28\n",
              "20                         Imputation Type            simple\n",
              "21          Iterative Imputation Iteration              None\n",
              "22                         Numeric Imputer              mean\n",
              "23      Iterative Imputation Numeric Model              None\n",
              "24                     Categorical Imputer          constant\n",
              "25  Iterative Imputation Categorical Model              None\n",
              "26           Unknown Categoricals Handling    least_frequent\n",
              "27                               Normalize             False\n",
              "28                        Normalize Method              None\n",
              "29                          Transformation             False\n",
              "30                   Transformation Method              None\n",
              "31                                     PCA             False\n",
              "32                              PCA Method              None\n",
              "33                          PCA Components              None\n",
              "34                     Ignore Low Variance             False\n",
              "35                     Combine Rare Levels             False\n",
              "36                    Rare Level Threshold              None\n",
              "37                         Numeric Binning             False\n",
              "38                         Remove Outliers             False\n",
              "39                      Outliers Threshold              None\n",
              "40                Remove Multicollinearity             False\n",
              "41             Multicollinearity Threshold              None\n",
              "42             Remove Perfect Collinearity              True\n",
              "43                              Clustering             False\n",
              "44                    Clustering Iteration              None\n",
              "45                     Polynomial Features             False\n",
              "46                       Polynomial Degree              None\n",
              "47                    Trignometry Features             False\n",
              "48                    Polynomial Threshold              None\n",
              "49                          Group Features             False\n",
              "50                       Feature Selection             False\n",
              "51                Feature Selection Method           classic\n",
              "52            Features Selection Threshold              None\n",
              "53                     Feature Interaction             False\n",
              "54                           Feature Ratio             False\n",
              "55                   Interaction Threshold              None\n",
              "56                        Transform Target             False\n",
              "57                 Transform Target Method           box-cox"
            ]
          },
          "metadata": {
            "tags": []
          }
        }
      ]
    },
    {
      "cell_type": "code",
      "metadata": {
        "colab": {
          "base_uri": "https://localhost:8080/",
          "height": 576,
          "referenced_widgets": [
            "5049ae332f3f4dc6830ba6a0f71a15bb",
            "eabd9d04e6394880a5336ad2b41a0db7",
            "e65cbc3d0f9d4c4e9d95d41590e550c7"
          ]
        },
        "id": "jqpYaSP3swqz",
        "outputId": "21542199-8f36-48f4-ebf6-50eb17090932"
      },
      "source": [
        "best = compare_models(exclude = ['ransac'])"
      ],
      "execution_count": 28,
      "outputs": [
        {
          "output_type": "display_data",
          "data": {
            "text/html": [
              "<div>\n",
              "<style scoped>\n",
              "    .dataframe tbody tr th:only-of-type {\n",
              "        vertical-align: middle;\n",
              "    }\n",
              "\n",
              "    .dataframe tbody tr th {\n",
              "        vertical-align: top;\n",
              "    }\n",
              "\n",
              "    .dataframe thead th {\n",
              "        text-align: right;\n",
              "    }\n",
              "</style>\n",
              "<table border=\"1\" class=\"dataframe\">\n",
              "  <thead>\n",
              "    <tr style=\"text-align: right;\">\n",
              "      <th></th>\n",
              "      <th>Model</th>\n",
              "      <th>MAE</th>\n",
              "      <th>MSE</th>\n",
              "      <th>RMSE</th>\n",
              "      <th>R2</th>\n",
              "      <th>RMSLE</th>\n",
              "      <th>MAPE</th>\n",
              "      <th>TT (Sec)</th>\n",
              "    </tr>\n",
              "  </thead>\n",
              "  <tbody>\n",
              "    <tr>\n",
              "      <th>huber</th>\n",
              "      <td>Huber Regressor</td>\n",
              "      <td>5.327910e+04</td>\n",
              "      <td>5.021046e+11</td>\n",
              "      <td>2.755517e+05</td>\n",
              "      <td>-1.663000e-01</td>\n",
              "      <td>4.3117</td>\n",
              "      <td>9.685000e-01</td>\n",
              "      <td>0.038</td>\n",
              "    </tr>\n",
              "    <tr>\n",
              "      <th>knn</th>\n",
              "      <td>K Neighbors Regressor</td>\n",
              "      <td>6.215012e+04</td>\n",
              "      <td>5.628618e+11</td>\n",
              "      <td>3.675803e+05</td>\n",
              "      <td>-5.287300e+00</td>\n",
              "      <td>2.1261</td>\n",
              "      <td>6.562700e+00</td>\n",
              "      <td>0.068</td>\n",
              "    </tr>\n",
              "    <tr>\n",
              "      <th>br</th>\n",
              "      <td>Bayesian Ridge</td>\n",
              "      <td>8.961208e+04</td>\n",
              "      <td>5.013350e+11</td>\n",
              "      <td>2.899662e+05</td>\n",
              "      <td>-8.774300e+00</td>\n",
              "      <td>5.9465</td>\n",
              "      <td>1.573795e+03</td>\n",
              "      <td>0.044</td>\n",
              "    </tr>\n",
              "    <tr>\n",
              "      <th>rf</th>\n",
              "      <td>Random Forest Regressor</td>\n",
              "      <td>7.497367e+04</td>\n",
              "      <td>6.712677e+11</td>\n",
              "      <td>4.073339e+05</td>\n",
              "      <td>-1.988990e+01</td>\n",
              "      <td>3.0100</td>\n",
              "      <td>5.317100e+01</td>\n",
              "      <td>0.800</td>\n",
              "    </tr>\n",
              "    <tr>\n",
              "      <th>en</th>\n",
              "      <td>Elastic Net</td>\n",
              "      <td>1.039543e+05</td>\n",
              "      <td>5.052784e+11</td>\n",
              "      <td>3.135886e+05</td>\n",
              "      <td>-2.343220e+01</td>\n",
              "      <td>5.9018</td>\n",
              "      <td>2.799983e+03</td>\n",
              "      <td>0.066</td>\n",
              "    </tr>\n",
              "    <tr>\n",
              "      <th>ada</th>\n",
              "      <td>AdaBoost Regressor</td>\n",
              "      <td>9.706202e+04</td>\n",
              "      <td>9.920309e+11</td>\n",
              "      <td>4.740287e+05</td>\n",
              "      <td>-2.669560e+01</td>\n",
              "      <td>5.0563</td>\n",
              "      <td>4.765174e+02</td>\n",
              "      <td>0.107</td>\n",
              "    </tr>\n",
              "    <tr>\n",
              "      <th>gbr</th>\n",
              "      <td>Gradient Boosting Regressor</td>\n",
              "      <td>8.279114e+04</td>\n",
              "      <td>9.896631e+11</td>\n",
              "      <td>4.822370e+05</td>\n",
              "      <td>-2.878540e+01</td>\n",
              "      <td>3.3737</td>\n",
              "      <td>4.231010e+01</td>\n",
              "      <td>0.183</td>\n",
              "    </tr>\n",
              "    <tr>\n",
              "      <th>dt</th>\n",
              "      <td>Decision Tree Regressor</td>\n",
              "      <td>8.728857e+04</td>\n",
              "      <td>9.966111e+11</td>\n",
              "      <td>5.039602e+05</td>\n",
              "      <td>-4.151060e+01</td>\n",
              "      <td>2.3301</td>\n",
              "      <td>1.792410e+01</td>\n",
              "      <td>0.025</td>\n",
              "    </tr>\n",
              "    <tr>\n",
              "      <th>lightgbm</th>\n",
              "      <td>Light Gradient Boosting Machine</td>\n",
              "      <td>1.136357e+05</td>\n",
              "      <td>5.145561e+11</td>\n",
              "      <td>3.721513e+05</td>\n",
              "      <td>-4.443820e+01</td>\n",
              "      <td>5.7139</td>\n",
              "      <td>4.282457e+03</td>\n",
              "      <td>0.092</td>\n",
              "    </tr>\n",
              "    <tr>\n",
              "      <th>et</th>\n",
              "      <td>Extra Trees Regressor</td>\n",
              "      <td>9.503697e+04</td>\n",
              "      <td>9.914898e+11</td>\n",
              "      <td>5.091401e+05</td>\n",
              "      <td>-4.453480e+01</td>\n",
              "      <td>3.5108</td>\n",
              "      <td>5.340440e+01</td>\n",
              "      <td>1.102</td>\n",
              "    </tr>\n",
              "    <tr>\n",
              "      <th>lr</th>\n",
              "      <td>Linear Regression</td>\n",
              "      <td>2.310208e+05</td>\n",
              "      <td>5.596325e+11</td>\n",
              "      <td>4.619387e+05</td>\n",
              "      <td>-1.877092e+02</td>\n",
              "      <td>6.6762</td>\n",
              "      <td>4.176413e+03</td>\n",
              "      <td>0.282</td>\n",
              "    </tr>\n",
              "    <tr>\n",
              "      <th>ridge</th>\n",
              "      <td>Ridge Regression</td>\n",
              "      <td>3.189641e+05</td>\n",
              "      <td>7.149742e+11</td>\n",
              "      <td>6.465578e+05</td>\n",
              "      <td>-5.586085e+02</td>\n",
              "      <td>6.8939</td>\n",
              "      <td>8.039954e+03</td>\n",
              "      <td>0.019</td>\n",
              "    </tr>\n",
              "    <tr>\n",
              "      <th>omp</th>\n",
              "      <td>Orthogonal Matching Pursuit</td>\n",
              "      <td>2.662329e+05</td>\n",
              "      <td>1.117277e+12</td>\n",
              "      <td>7.613789e+05</td>\n",
              "      <td>-6.388001e+02</td>\n",
              "      <td>6.3146</td>\n",
              "      <td>5.771403e+03</td>\n",
              "      <td>0.019</td>\n",
              "    </tr>\n",
              "    <tr>\n",
              "      <th>lasso</th>\n",
              "      <td>Lasso Regression</td>\n",
              "      <td>5.954291e+05</td>\n",
              "      <td>1.563549e+12</td>\n",
              "      <td>1.116743e+06</td>\n",
              "      <td>-2.972748e+03</td>\n",
              "      <td>7.2977</td>\n",
              "      <td>1.353888e+04</td>\n",
              "      <td>0.065</td>\n",
              "    </tr>\n",
              "    <tr>\n",
              "      <th>par</th>\n",
              "      <td>Passive Aggressive Regressor</td>\n",
              "      <td>1.599169e+06</td>\n",
              "      <td>7.504056e+13</td>\n",
              "      <td>5.080926e+06</td>\n",
              "      <td>-1.004819e+05</td>\n",
              "      <td>4.7542</td>\n",
              "      <td>1.599545e+03</td>\n",
              "      <td>0.021</td>\n",
              "    </tr>\n",
              "    <tr>\n",
              "      <th>llar</th>\n",
              "      <td>Lasso Least Angle Regression</td>\n",
              "      <td>4.302268e+09</td>\n",
              "      <td>4.679479e+21</td>\n",
              "      <td>2.720839e+10</td>\n",
              "      <td>-9.965837e+12</td>\n",
              "      <td>6.7585</td>\n",
              "      <td>1.265049e+06</td>\n",
              "      <td>0.074</td>\n",
              "    </tr>\n",
              "    <tr>\n",
              "      <th>lar</th>\n",
              "      <td>Least Angle Regression</td>\n",
              "      <td>3.640868e+19</td>\n",
              "      <td>4.413508e+41</td>\n",
              "      <td>2.120441e+20</td>\n",
              "      <td>-7.124155e+31</td>\n",
              "      <td>26.6411</td>\n",
              "      <td>1.204742e+16</td>\n",
              "      <td>0.128</td>\n",
              "    </tr>\n",
              "  </tbody>\n",
              "</table>\n",
              "</div>"
            ],
            "text/plain": [
              "                                    Model           MAE           MSE  \\\n",
              "huber                     Huber Regressor  5.327910e+04  5.021046e+11   \n",
              "knn                 K Neighbors Regressor  6.215012e+04  5.628618e+11   \n",
              "br                         Bayesian Ridge  8.961208e+04  5.013350e+11   \n",
              "rf                Random Forest Regressor  7.497367e+04  6.712677e+11   \n",
              "en                            Elastic Net  1.039543e+05  5.052784e+11   \n",
              "ada                    AdaBoost Regressor  9.706202e+04  9.920309e+11   \n",
              "gbr           Gradient Boosting Regressor  8.279114e+04  9.896631e+11   \n",
              "dt                Decision Tree Regressor  8.728857e+04  9.966111e+11   \n",
              "lightgbm  Light Gradient Boosting Machine  1.136357e+05  5.145561e+11   \n",
              "et                  Extra Trees Regressor  9.503697e+04  9.914898e+11   \n",
              "lr                      Linear Regression  2.310208e+05  5.596325e+11   \n",
              "ridge                    Ridge Regression  3.189641e+05  7.149742e+11   \n",
              "omp           Orthogonal Matching Pursuit  2.662329e+05  1.117277e+12   \n",
              "lasso                    Lasso Regression  5.954291e+05  1.563549e+12   \n",
              "par          Passive Aggressive Regressor  1.599169e+06  7.504056e+13   \n",
              "llar         Lasso Least Angle Regression  4.302268e+09  4.679479e+21   \n",
              "lar                Least Angle Regression  3.640868e+19  4.413508e+41   \n",
              "\n",
              "                  RMSE            R2    RMSLE          MAPE  TT (Sec)  \n",
              "huber     2.755517e+05 -1.663000e-01   4.3117  9.685000e-01     0.038  \n",
              "knn       3.675803e+05 -5.287300e+00   2.1261  6.562700e+00     0.068  \n",
              "br        2.899662e+05 -8.774300e+00   5.9465  1.573795e+03     0.044  \n",
              "rf        4.073339e+05 -1.988990e+01   3.0100  5.317100e+01     0.800  \n",
              "en        3.135886e+05 -2.343220e+01   5.9018  2.799983e+03     0.066  \n",
              "ada       4.740287e+05 -2.669560e+01   5.0563  4.765174e+02     0.107  \n",
              "gbr       4.822370e+05 -2.878540e+01   3.3737  4.231010e+01     0.183  \n",
              "dt        5.039602e+05 -4.151060e+01   2.3301  1.792410e+01     0.025  \n",
              "lightgbm  3.721513e+05 -4.443820e+01   5.7139  4.282457e+03     0.092  \n",
              "et        5.091401e+05 -4.453480e+01   3.5108  5.340440e+01     1.102  \n",
              "lr        4.619387e+05 -1.877092e+02   6.6762  4.176413e+03     0.282  \n",
              "ridge     6.465578e+05 -5.586085e+02   6.8939  8.039954e+03     0.019  \n",
              "omp       7.613789e+05 -6.388001e+02   6.3146  5.771403e+03     0.019  \n",
              "lasso     1.116743e+06 -2.972748e+03   7.2977  1.353888e+04     0.065  \n",
              "par       5.080926e+06 -1.004819e+05   4.7542  1.599545e+03     0.021  \n",
              "llar      2.720839e+10 -9.965837e+12   6.7585  1.265049e+06     0.074  \n",
              "lar       2.120441e+20 -7.124155e+31  26.6411  1.204742e+16     0.128  "
            ]
          },
          "metadata": {
            "tags": []
          }
        }
      ]
    },
    {
      "cell_type": "markdown",
      "metadata": {
        "id": "4ZbazZMkuZ_l"
      },
      "source": [
        "## Huber Regressor got the best values so let us choose this"
      ]
    },
    {
      "cell_type": "code",
      "metadata": {
        "colab": {
          "base_uri": "https://localhost:8080/",
          "height": 421
        },
        "id": "8SJcuSUgtwOK",
        "outputId": "0b6b6f99-63da-4485-e102-e2f653c354ee"
      },
      "source": [
        "huber = create_model('huber')"
      ],
      "execution_count": 29,
      "outputs": [
        {
          "output_type": "display_data",
          "data": {
            "text/html": [
              "<div>\n",
              "<style scoped>\n",
              "    .dataframe tbody tr th:only-of-type {\n",
              "        vertical-align: middle;\n",
              "    }\n",
              "\n",
              "    .dataframe tbody tr th {\n",
              "        vertical-align: top;\n",
              "    }\n",
              "\n",
              "    .dataframe thead th {\n",
              "        text-align: right;\n",
              "    }\n",
              "</style>\n",
              "<table border=\"1\" class=\"dataframe\">\n",
              "  <thead>\n",
              "    <tr style=\"text-align: right;\">\n",
              "      <th></th>\n",
              "      <th>MAE</th>\n",
              "      <th>MSE</th>\n",
              "      <th>RMSE</th>\n",
              "      <th>R2</th>\n",
              "      <th>RMSLE</th>\n",
              "      <th>MAPE</th>\n",
              "    </tr>\n",
              "  </thead>\n",
              "  <tbody>\n",
              "    <tr>\n",
              "      <th>0</th>\n",
              "      <td>6878.1231</td>\n",
              "      <td>5.585002e+08</td>\n",
              "      <td>2.363261e+04</td>\n",
              "      <td>-0.0951</td>\n",
              "      <td>3.7129</td>\n",
              "      <td>0.8859</td>\n",
              "    </tr>\n",
              "    <tr>\n",
              "      <th>1</th>\n",
              "      <td>22906.7776</td>\n",
              "      <td>6.727479e+09</td>\n",
              "      <td>8.202121e+04</td>\n",
              "      <td>-0.0860</td>\n",
              "      <td>4.4820</td>\n",
              "      <td>0.8735</td>\n",
              "    </tr>\n",
              "    <tr>\n",
              "      <th>2</th>\n",
              "      <td>4559.1383</td>\n",
              "      <td>6.193482e+07</td>\n",
              "      <td>7.869868e+03</td>\n",
              "      <td>-0.5224</td>\n",
              "      <td>3.6077</td>\n",
              "      <td>0.8896</td>\n",
              "    </tr>\n",
              "    <tr>\n",
              "      <th>3</th>\n",
              "      <td>35797.1155</td>\n",
              "      <td>1.216807e+10</td>\n",
              "      <td>1.103090e+05</td>\n",
              "      <td>-0.1188</td>\n",
              "      <td>4.8321</td>\n",
              "      <td>0.9143</td>\n",
              "    </tr>\n",
              "    <tr>\n",
              "      <th>4</th>\n",
              "      <td>43178.6916</td>\n",
              "      <td>2.431566e+10</td>\n",
              "      <td>1.559348e+05</td>\n",
              "      <td>-0.0833</td>\n",
              "      <td>4.7513</td>\n",
              "      <td>1.0772</td>\n",
              "    </tr>\n",
              "    <tr>\n",
              "      <th>5</th>\n",
              "      <td>364353.8467</td>\n",
              "      <td>4.971453e+12</td>\n",
              "      <td>2.229676e+06</td>\n",
              "      <td>-0.0275</td>\n",
              "      <td>4.7353</td>\n",
              "      <td>0.9317</td>\n",
              "    </tr>\n",
              "    <tr>\n",
              "      <th>6</th>\n",
              "      <td>12228.1670</td>\n",
              "      <td>9.597008e+08</td>\n",
              "      <td>3.097904e+04</td>\n",
              "      <td>-0.1885</td>\n",
              "      <td>4.2208</td>\n",
              "      <td>0.8938</td>\n",
              "    </tr>\n",
              "    <tr>\n",
              "      <th>7</th>\n",
              "      <td>12838.4632</td>\n",
              "      <td>1.725595e+09</td>\n",
              "      <td>4.154028e+04</td>\n",
              "      <td>-0.1053</td>\n",
              "      <td>3.9539</td>\n",
              "      <td>1.2053</td>\n",
              "    </tr>\n",
              "    <tr>\n",
              "      <th>8</th>\n",
              "      <td>10392.1607</td>\n",
              "      <td>5.361846e+08</td>\n",
              "      <td>2.315566e+04</td>\n",
              "      <td>-0.2544</td>\n",
              "      <td>4.1801</td>\n",
              "      <td>1.0382</td>\n",
              "    </tr>\n",
              "    <tr>\n",
              "      <th>9</th>\n",
              "      <td>19658.5394</td>\n",
              "      <td>2.540012e+09</td>\n",
              "      <td>5.039853e+04</td>\n",
              "      <td>-0.1820</td>\n",
              "      <td>4.6410</td>\n",
              "      <td>0.9756</td>\n",
              "    </tr>\n",
              "    <tr>\n",
              "      <th>Mean</th>\n",
              "      <td>53279.1023</td>\n",
              "      <td>5.021046e+11</td>\n",
              "      <td>2.755517e+05</td>\n",
              "      <td>-0.1663</td>\n",
              "      <td>4.3117</td>\n",
              "      <td>0.9685</td>\n",
              "    </tr>\n",
              "    <tr>\n",
              "      <th>SD</th>\n",
              "      <td>104362.1364</td>\n",
              "      <td>1.489800e+12</td>\n",
              "      <td>6.528215e+05</td>\n",
              "      <td>0.1338</td>\n",
              "      <td>0.4229</td>\n",
              "      <td>0.1023</td>\n",
              "    </tr>\n",
              "  </tbody>\n",
              "</table>\n",
              "</div>"
            ],
            "text/plain": [
              "              MAE           MSE          RMSE      R2   RMSLE    MAPE\n",
              "0       6878.1231  5.585002e+08  2.363261e+04 -0.0951  3.7129  0.8859\n",
              "1      22906.7776  6.727479e+09  8.202121e+04 -0.0860  4.4820  0.8735\n",
              "2       4559.1383  6.193482e+07  7.869868e+03 -0.5224  3.6077  0.8896\n",
              "3      35797.1155  1.216807e+10  1.103090e+05 -0.1188  4.8321  0.9143\n",
              "4      43178.6916  2.431566e+10  1.559348e+05 -0.0833  4.7513  1.0772\n",
              "5     364353.8467  4.971453e+12  2.229676e+06 -0.0275  4.7353  0.9317\n",
              "6      12228.1670  9.597008e+08  3.097904e+04 -0.1885  4.2208  0.8938\n",
              "7      12838.4632  1.725595e+09  4.154028e+04 -0.1053  3.9539  1.2053\n",
              "8      10392.1607  5.361846e+08  2.315566e+04 -0.2544  4.1801  1.0382\n",
              "9      19658.5394  2.540012e+09  5.039853e+04 -0.1820  4.6410  0.9756\n",
              "Mean   53279.1023  5.021046e+11  2.755517e+05 -0.1663  4.3117  0.9685\n",
              "SD    104362.1364  1.489800e+12  6.528215e+05  0.1338  0.4229  0.1023"
            ]
          },
          "metadata": {
            "tags": []
          }
        }
      ]
    },
    {
      "cell_type": "code",
      "metadata": {
        "colab": {
          "base_uri": "https://localhost:8080/"
        },
        "id": "qcsLLhXhujgt",
        "outputId": "21699a74-651f-407b-dd97-f8b104a128c7"
      },
      "source": [
        "print(huber)"
      ],
      "execution_count": 30,
      "outputs": [
        {
          "output_type": "stream",
          "text": [
            "HuberRegressor(alpha=0.0001, epsilon=1.35, fit_intercept=True, max_iter=100,\n",
            "               tol=1e-05, warm_start=False)\n"
          ],
          "name": "stdout"
        }
      ]
    },
    {
      "cell_type": "code",
      "metadata": {
        "colab": {
          "base_uri": "https://localhost:8080/",
          "height": 421,
          "referenced_widgets": [
            "80fce8f8d6834fb3a7ef16b0fcf55555",
            "425e0e55443349999eadba4b27dbf16c",
            "baf79220cf5547539099fcf47818712d"
          ]
        },
        "id": "UZKeF6l4uoRO",
        "outputId": "47c4b70e-9263-4b82-98a2-78d8dad1e2f4"
      },
      "source": [
        "tuned_huber = tune_model(huber)"
      ],
      "execution_count": 31,
      "outputs": [
        {
          "output_type": "display_data",
          "data": {
            "text/html": [
              "<div>\n",
              "<style scoped>\n",
              "    .dataframe tbody tr th:only-of-type {\n",
              "        vertical-align: middle;\n",
              "    }\n",
              "\n",
              "    .dataframe tbody tr th {\n",
              "        vertical-align: top;\n",
              "    }\n",
              "\n",
              "    .dataframe thead th {\n",
              "        text-align: right;\n",
              "    }\n",
              "</style>\n",
              "<table border=\"1\" class=\"dataframe\">\n",
              "  <thead>\n",
              "    <tr style=\"text-align: right;\">\n",
              "      <th></th>\n",
              "      <th>MAE</th>\n",
              "      <th>MSE</th>\n",
              "      <th>RMSE</th>\n",
              "      <th>R2</th>\n",
              "      <th>RMSLE</th>\n",
              "      <th>MAPE</th>\n",
              "    </tr>\n",
              "  </thead>\n",
              "  <tbody>\n",
              "    <tr>\n",
              "      <th>0</th>\n",
              "      <td>6878.1266</td>\n",
              "      <td>5.585003e+08</td>\n",
              "      <td>2.363261e+04</td>\n",
              "      <td>-0.0951</td>\n",
              "      <td>3.7129</td>\n",
              "      <td>0.8859</td>\n",
              "    </tr>\n",
              "    <tr>\n",
              "      <th>1</th>\n",
              "      <td>22906.8072</td>\n",
              "      <td>6.727480e+09</td>\n",
              "      <td>8.202122e+04</td>\n",
              "      <td>-0.0860</td>\n",
              "      <td>4.4823</td>\n",
              "      <td>0.8735</td>\n",
              "    </tr>\n",
              "    <tr>\n",
              "      <th>2</th>\n",
              "      <td>4559.1413</td>\n",
              "      <td>6.193489e+07</td>\n",
              "      <td>7.869872e+03</td>\n",
              "      <td>-0.5224</td>\n",
              "      <td>3.6078</td>\n",
              "      <td>0.8896</td>\n",
              "    </tr>\n",
              "    <tr>\n",
              "      <th>3</th>\n",
              "      <td>35797.0952</td>\n",
              "      <td>1.216807e+10</td>\n",
              "      <td>1.103090e+05</td>\n",
              "      <td>-0.1188</td>\n",
              "      <td>4.8321</td>\n",
              "      <td>0.9143</td>\n",
              "    </tr>\n",
              "    <tr>\n",
              "      <th>4</th>\n",
              "      <td>43178.6668</td>\n",
              "      <td>2.431566e+10</td>\n",
              "      <td>1.559348e+05</td>\n",
              "      <td>-0.0833</td>\n",
              "      <td>4.7514</td>\n",
              "      <td>1.0771</td>\n",
              "    </tr>\n",
              "    <tr>\n",
              "      <th>5</th>\n",
              "      <td>364353.8508</td>\n",
              "      <td>4.971453e+12</td>\n",
              "      <td>2.229676e+06</td>\n",
              "      <td>-0.0275</td>\n",
              "      <td>4.7354</td>\n",
              "      <td>0.9317</td>\n",
              "    </tr>\n",
              "    <tr>\n",
              "      <th>6</th>\n",
              "      <td>12228.1702</td>\n",
              "      <td>9.597008e+08</td>\n",
              "      <td>3.097904e+04</td>\n",
              "      <td>-0.1885</td>\n",
              "      <td>4.2208</td>\n",
              "      <td>0.8938</td>\n",
              "    </tr>\n",
              "    <tr>\n",
              "      <th>7</th>\n",
              "      <td>12837.8809</td>\n",
              "      <td>1.725594e+09</td>\n",
              "      <td>4.154027e+04</td>\n",
              "      <td>-0.1053</td>\n",
              "      <td>3.9546</td>\n",
              "      <td>1.2036</td>\n",
              "    </tr>\n",
              "    <tr>\n",
              "      <th>8</th>\n",
              "      <td>9252.9621</td>\n",
              "      <td>4.356848e+08</td>\n",
              "      <td>2.087307e+04</td>\n",
              "      <td>-0.0193</td>\n",
              "      <td>3.7052</td>\n",
              "      <td>1.6269</td>\n",
              "    </tr>\n",
              "    <tr>\n",
              "      <th>9</th>\n",
              "      <td>19658.5368</td>\n",
              "      <td>2.540012e+09</td>\n",
              "      <td>5.039853e+04</td>\n",
              "      <td>-0.1820</td>\n",
              "      <td>4.6409</td>\n",
              "      <td>0.9756</td>\n",
              "    </tr>\n",
              "    <tr>\n",
              "      <th>Mean</th>\n",
              "      <td>53165.1238</td>\n",
              "      <td>5.020946e+11</td>\n",
              "      <td>2.753234e+05</td>\n",
              "      <td>-0.1428</td>\n",
              "      <td>4.2643</td>\n",
              "      <td>1.0272</td>\n",
              "    </tr>\n",
              "    <tr>\n",
              "      <th>SD</th>\n",
              "      <td>104409.5230</td>\n",
              "      <td>1.489804e+12</td>\n",
              "      <td>6.529101e+05</td>\n",
              "      <td>0.1369</td>\n",
              "      <td>0.4600</td>\n",
              "      <td>0.2232</td>\n",
              "    </tr>\n",
              "  </tbody>\n",
              "</table>\n",
              "</div>"
            ],
            "text/plain": [
              "              MAE           MSE          RMSE      R2   RMSLE    MAPE\n",
              "0       6878.1266  5.585003e+08  2.363261e+04 -0.0951  3.7129  0.8859\n",
              "1      22906.8072  6.727480e+09  8.202122e+04 -0.0860  4.4823  0.8735\n",
              "2       4559.1413  6.193489e+07  7.869872e+03 -0.5224  3.6078  0.8896\n",
              "3      35797.0952  1.216807e+10  1.103090e+05 -0.1188  4.8321  0.9143\n",
              "4      43178.6668  2.431566e+10  1.559348e+05 -0.0833  4.7514  1.0771\n",
              "5     364353.8508  4.971453e+12  2.229676e+06 -0.0275  4.7354  0.9317\n",
              "6      12228.1702  9.597008e+08  3.097904e+04 -0.1885  4.2208  0.8938\n",
              "7      12837.8809  1.725594e+09  4.154027e+04 -0.1053  3.9546  1.2036\n",
              "8       9252.9621  4.356848e+08  2.087307e+04 -0.0193  3.7052  1.6269\n",
              "9      19658.5368  2.540012e+09  5.039853e+04 -0.1820  4.6409  0.9756\n",
              "Mean   53165.1238  5.020946e+11  2.753234e+05 -0.1428  4.2643  1.0272\n",
              "SD    104409.5230  1.489804e+12  6.529101e+05  0.1369  0.4600  0.2232"
            ]
          },
          "metadata": {
            "tags": []
          }
        }
      ]
    },
    {
      "cell_type": "code",
      "metadata": {
        "colab": {
          "base_uri": "https://localhost:8080/"
        },
        "id": "OiAPd2CuzZVE",
        "outputId": "32a94a90-cdea-4a54-deec-bab7effa0108"
      },
      "source": [
        "print(tuned_huber)"
      ],
      "execution_count": 32,
      "outputs": [
        {
          "output_type": "stream",
          "text": [
            "HuberRegressor(alpha=0.9, epsilon=1.2, fit_intercept=False, max_iter=100,\n",
            "               tol=1e-05, warm_start=False)\n"
          ],
          "name": "stdout"
        }
      ]
    },
    {
      "cell_type": "code",
      "metadata": {
        "colab": {
          "base_uri": "https://localhost:8080/",
          "height": 80
        },
        "id": "c-JROiwKuxGy",
        "outputId": "0e78e6cc-c9b6-46a0-dee7-90704a6ece77"
      },
      "source": [
        "predict_model(tuned_huber);"
      ],
      "execution_count": 33,
      "outputs": [
        {
          "output_type": "display_data",
          "data": {
            "text/html": [
              "<div>\n",
              "<style scoped>\n",
              "    .dataframe tbody tr th:only-of-type {\n",
              "        vertical-align: middle;\n",
              "    }\n",
              "\n",
              "    .dataframe tbody tr th {\n",
              "        vertical-align: top;\n",
              "    }\n",
              "\n",
              "    .dataframe thead th {\n",
              "        text-align: right;\n",
              "    }\n",
              "</style>\n",
              "<table border=\"1\" class=\"dataframe\">\n",
              "  <thead>\n",
              "    <tr style=\"text-align: right;\">\n",
              "      <th></th>\n",
              "      <th>Model</th>\n",
              "      <th>MAE</th>\n",
              "      <th>MSE</th>\n",
              "      <th>RMSE</th>\n",
              "      <th>R2</th>\n",
              "      <th>RMSLE</th>\n",
              "      <th>MAPE</th>\n",
              "    </tr>\n",
              "  </thead>\n",
              "  <tbody>\n",
              "    <tr>\n",
              "      <th>0</th>\n",
              "      <td>Huber Regressor</td>\n",
              "      <td>662682.8963</td>\n",
              "      <td>7.394134e+13</td>\n",
              "      <td>8.598915e+06</td>\n",
              "      <td>-0.006</td>\n",
              "      <td>3.8249</td>\n",
              "      <td>0.8613</td>\n",
              "    </tr>\n",
              "  </tbody>\n",
              "</table>\n",
              "</div>"
            ],
            "text/plain": [
              "             Model          MAE           MSE  ...     R2   RMSLE    MAPE\n",
              "0  Huber Regressor  662682.8963  7.394134e+13  ... -0.006  3.8249  0.8613\n",
              "\n",
              "[1 rows x 7 columns]"
            ]
          },
          "metadata": {
            "tags": []
          }
        }
      ]
    },
    {
      "cell_type": "code",
      "metadata": {
        "colab": {
          "base_uri": "https://localhost:8080/",
          "height": 793
        },
        "id": "pcGfQgxwvDHL",
        "outputId": "bccbb80b-bc52-473d-f71e-1aff65fed39d"
      },
      "source": [
        "models()"
      ],
      "execution_count": 34,
      "outputs": [
        {
          "output_type": "execute_result",
          "data": {
            "text/html": [
              "<div>\n",
              "<style scoped>\n",
              "    .dataframe tbody tr th:only-of-type {\n",
              "        vertical-align: middle;\n",
              "    }\n",
              "\n",
              "    .dataframe tbody tr th {\n",
              "        vertical-align: top;\n",
              "    }\n",
              "\n",
              "    .dataframe thead th {\n",
              "        text-align: right;\n",
              "    }\n",
              "</style>\n",
              "<table border=\"1\" class=\"dataframe\">\n",
              "  <thead>\n",
              "    <tr style=\"text-align: right;\">\n",
              "      <th></th>\n",
              "      <th>Name</th>\n",
              "      <th>Reference</th>\n",
              "      <th>Turbo</th>\n",
              "    </tr>\n",
              "    <tr>\n",
              "      <th>ID</th>\n",
              "      <th></th>\n",
              "      <th></th>\n",
              "      <th></th>\n",
              "    </tr>\n",
              "  </thead>\n",
              "  <tbody>\n",
              "    <tr>\n",
              "      <th>lr</th>\n",
              "      <td>Linear Regression</td>\n",
              "      <td>sklearn.linear_model._base.LinearRegression</td>\n",
              "      <td>True</td>\n",
              "    </tr>\n",
              "    <tr>\n",
              "      <th>lasso</th>\n",
              "      <td>Lasso Regression</td>\n",
              "      <td>sklearn.linear_model._coordinate_descent.Lasso</td>\n",
              "      <td>True</td>\n",
              "    </tr>\n",
              "    <tr>\n",
              "      <th>ridge</th>\n",
              "      <td>Ridge Regression</td>\n",
              "      <td>sklearn.linear_model._ridge.Ridge</td>\n",
              "      <td>True</td>\n",
              "    </tr>\n",
              "    <tr>\n",
              "      <th>en</th>\n",
              "      <td>Elastic Net</td>\n",
              "      <td>sklearn.linear_model._coordinate_descent.Elast...</td>\n",
              "      <td>True</td>\n",
              "    </tr>\n",
              "    <tr>\n",
              "      <th>lar</th>\n",
              "      <td>Least Angle Regression</td>\n",
              "      <td>sklearn.linear_model._least_angle.Lars</td>\n",
              "      <td>True</td>\n",
              "    </tr>\n",
              "    <tr>\n",
              "      <th>llar</th>\n",
              "      <td>Lasso Least Angle Regression</td>\n",
              "      <td>sklearn.linear_model._least_angle.LassoLars</td>\n",
              "      <td>True</td>\n",
              "    </tr>\n",
              "    <tr>\n",
              "      <th>omp</th>\n",
              "      <td>Orthogonal Matching Pursuit</td>\n",
              "      <td>sklearn.linear_model._omp.OrthogonalMatchingPu...</td>\n",
              "      <td>True</td>\n",
              "    </tr>\n",
              "    <tr>\n",
              "      <th>br</th>\n",
              "      <td>Bayesian Ridge</td>\n",
              "      <td>sklearn.linear_model._bayes.BayesianRidge</td>\n",
              "      <td>True</td>\n",
              "    </tr>\n",
              "    <tr>\n",
              "      <th>ard</th>\n",
              "      <td>Automatic Relevance Determination</td>\n",
              "      <td>sklearn.linear_model._bayes.ARDRegression</td>\n",
              "      <td>False</td>\n",
              "    </tr>\n",
              "    <tr>\n",
              "      <th>par</th>\n",
              "      <td>Passive Aggressive Regressor</td>\n",
              "      <td>sklearn.linear_model._passive_aggressive.Passi...</td>\n",
              "      <td>True</td>\n",
              "    </tr>\n",
              "    <tr>\n",
              "      <th>ransac</th>\n",
              "      <td>Random Sample Consensus</td>\n",
              "      <td>sklearn.linear_model._ransac.RANSACRegressor</td>\n",
              "      <td>False</td>\n",
              "    </tr>\n",
              "    <tr>\n",
              "      <th>tr</th>\n",
              "      <td>TheilSen Regressor</td>\n",
              "      <td>sklearn.linear_model._theil_sen.TheilSenRegressor</td>\n",
              "      <td>False</td>\n",
              "    </tr>\n",
              "    <tr>\n",
              "      <th>huber</th>\n",
              "      <td>Huber Regressor</td>\n",
              "      <td>sklearn.linear_model._huber.HuberRegressor</td>\n",
              "      <td>True</td>\n",
              "    </tr>\n",
              "    <tr>\n",
              "      <th>kr</th>\n",
              "      <td>Kernel Ridge</td>\n",
              "      <td>sklearn.kernel_ridge.KernelRidge</td>\n",
              "      <td>False</td>\n",
              "    </tr>\n",
              "    <tr>\n",
              "      <th>svm</th>\n",
              "      <td>Support Vector Regression</td>\n",
              "      <td>sklearn.svm._classes.SVR</td>\n",
              "      <td>False</td>\n",
              "    </tr>\n",
              "    <tr>\n",
              "      <th>knn</th>\n",
              "      <td>K Neighbors Regressor</td>\n",
              "      <td>sklearn.neighbors._regression.KNeighborsRegressor</td>\n",
              "      <td>True</td>\n",
              "    </tr>\n",
              "    <tr>\n",
              "      <th>dt</th>\n",
              "      <td>Decision Tree Regressor</td>\n",
              "      <td>sklearn.tree._classes.DecisionTreeRegressor</td>\n",
              "      <td>True</td>\n",
              "    </tr>\n",
              "    <tr>\n",
              "      <th>rf</th>\n",
              "      <td>Random Forest Regressor</td>\n",
              "      <td>sklearn.ensemble._forest.RandomForestRegressor</td>\n",
              "      <td>True</td>\n",
              "    </tr>\n",
              "    <tr>\n",
              "      <th>et</th>\n",
              "      <td>Extra Trees Regressor</td>\n",
              "      <td>sklearn.ensemble._forest.ExtraTreesRegressor</td>\n",
              "      <td>True</td>\n",
              "    </tr>\n",
              "    <tr>\n",
              "      <th>ada</th>\n",
              "      <td>AdaBoost Regressor</td>\n",
              "      <td>sklearn.ensemble._weight_boosting.AdaBoostRegr...</td>\n",
              "      <td>True</td>\n",
              "    </tr>\n",
              "    <tr>\n",
              "      <th>gbr</th>\n",
              "      <td>Gradient Boosting Regressor</td>\n",
              "      <td>sklearn.ensemble._gb.GradientBoostingRegressor</td>\n",
              "      <td>True</td>\n",
              "    </tr>\n",
              "    <tr>\n",
              "      <th>mlp</th>\n",
              "      <td>MLP Regressor</td>\n",
              "      <td>sklearn.neural_network._multilayer_perceptron....</td>\n",
              "      <td>False</td>\n",
              "    </tr>\n",
              "    <tr>\n",
              "      <th>lightgbm</th>\n",
              "      <td>Light Gradient Boosting Machine</td>\n",
              "      <td>lightgbm.sklearn.LGBMRegressor</td>\n",
              "      <td>True</td>\n",
              "    </tr>\n",
              "  </tbody>\n",
              "</table>\n",
              "</div>"
            ],
            "text/plain": [
              "                                       Name  ...  Turbo\n",
              "ID                                           ...       \n",
              "lr                        Linear Regression  ...   True\n",
              "lasso                      Lasso Regression  ...   True\n",
              "ridge                      Ridge Regression  ...   True\n",
              "en                              Elastic Net  ...   True\n",
              "lar                  Least Angle Regression  ...   True\n",
              "llar           Lasso Least Angle Regression  ...   True\n",
              "omp             Orthogonal Matching Pursuit  ...   True\n",
              "br                           Bayesian Ridge  ...   True\n",
              "ard       Automatic Relevance Determination  ...  False\n",
              "par            Passive Aggressive Regressor  ...   True\n",
              "ransac              Random Sample Consensus  ...  False\n",
              "tr                       TheilSen Regressor  ...  False\n",
              "huber                       Huber Regressor  ...   True\n",
              "kr                             Kernel Ridge  ...  False\n",
              "svm               Support Vector Regression  ...  False\n",
              "knn                   K Neighbors Regressor  ...   True\n",
              "dt                  Decision Tree Regressor  ...   True\n",
              "rf                  Random Forest Regressor  ...   True\n",
              "et                    Extra Trees Regressor  ...   True\n",
              "ada                      AdaBoost Regressor  ...   True\n",
              "gbr             Gradient Boosting Regressor  ...   True\n",
              "mlp                           MLP Regressor  ...  False\n",
              "lightgbm    Light Gradient Boosting Machine  ...   True\n",
              "\n",
              "[23 rows x 3 columns]"
            ]
          },
          "metadata": {
            "tags": []
          },
          "execution_count": 34
        }
      ]
    },
    {
      "cell_type": "code",
      "metadata": {
        "id": "kjZoWdxny0nI"
      },
      "source": [
        "from sklearn.linear_model._huber import HuberRegressor"
      ],
      "execution_count": 35,
      "outputs": []
    },
    {
      "cell_type": "code",
      "metadata": {
        "id": "AVFi92kqy6oV"
      },
      "source": [
        "hu = HuberRegressor(alpha=0.9, epsilon=1.9, fit_intercept=True, max_iter=100,\n",
        "               tol=1e-05, warm_start=False)"
      ],
      "execution_count": 36,
      "outputs": []
    },
    {
      "cell_type": "code",
      "metadata": {
        "colab": {
          "base_uri": "https://localhost:8080/",
          "height": 419
        },
        "id": "7YVVUFNfy9gU",
        "outputId": "b90df493-9cef-4dff-f179-09d0b045ab7b"
      },
      "source": [
        "from sklearn.model_selection import train_test_split\n",
        "X_train,X_test,y_train,y_test = train_test_split(dfa.drop({'amount_raised','pageviews'},axis=1),dfa['pageviews'],test_size=0.1,random_state=0)\n",
        "X_train"
      ],
      "execution_count": 42,
      "outputs": [
        {
          "output_type": "execute_result",
          "data": {
            "text/html": [
              "<div>\n",
              "<style scoped>\n",
              "    .dataframe tbody tr th:only-of-type {\n",
              "        vertical-align: middle;\n",
              "    }\n",
              "\n",
              "    .dataframe tbody tr th {\n",
              "        vertical-align: top;\n",
              "    }\n",
              "\n",
              "    .dataframe thead th {\n",
              "        text-align: right;\n",
              "    }\n",
              "</style>\n",
              "<table border=\"1\" class=\"dataframe\">\n",
              "  <thead>\n",
              "    <tr style=\"text-align: right;\">\n",
              "      <th></th>\n",
              "      <th>launch_stage</th>\n",
              "      <th>activity_level</th>\n",
              "      <th>team_member</th>\n",
              "      <th>revenue_stage</th>\n",
              "      <th>twitter_followers</th>\n",
              "      <th>ranking</th>\n",
              "    </tr>\n",
              "  </thead>\n",
              "  <tbody>\n",
              "    <tr>\n",
              "      <th>585</th>\n",
              "      <td>6</td>\n",
              "      <td>4</td>\n",
              "      <td>4.0</td>\n",
              "      <td>4</td>\n",
              "      <td>1100</td>\n",
              "      <td>0</td>\n",
              "    </tr>\n",
              "    <tr>\n",
              "      <th>272</th>\n",
              "      <td>6</td>\n",
              "      <td>4</td>\n",
              "      <td>1.0</td>\n",
              "      <td>4</td>\n",
              "      <td>9</td>\n",
              "      <td>0</td>\n",
              "    </tr>\n",
              "    <tr>\n",
              "      <th>593</th>\n",
              "      <td>4</td>\n",
              "      <td>2</td>\n",
              "      <td>2.0</td>\n",
              "      <td>4</td>\n",
              "      <td>59</td>\n",
              "      <td>0</td>\n",
              "    </tr>\n",
              "    <tr>\n",
              "      <th>569</th>\n",
              "      <td>6</td>\n",
              "      <td>2</td>\n",
              "      <td>30.5</td>\n",
              "      <td>4</td>\n",
              "      <td>4000</td>\n",
              "      <td>0</td>\n",
              "    </tr>\n",
              "    <tr>\n",
              "      <th>384</th>\n",
              "      <td>6</td>\n",
              "      <td>4</td>\n",
              "      <td>30.5</td>\n",
              "      <td>4</td>\n",
              "      <td>1100</td>\n",
              "      <td>527200</td>\n",
              "    </tr>\n",
              "    <tr>\n",
              "      <th>...</th>\n",
              "      <td>...</td>\n",
              "      <td>...</td>\n",
              "      <td>...</td>\n",
              "      <td>...</td>\n",
              "      <td>...</td>\n",
              "      <td>...</td>\n",
              "    </tr>\n",
              "    <tr>\n",
              "      <th>9</th>\n",
              "      <td>6</td>\n",
              "      <td>4</td>\n",
              "      <td>7.5</td>\n",
              "      <td>4</td>\n",
              "      <td>16</td>\n",
              "      <td>1000000</td>\n",
              "    </tr>\n",
              "    <tr>\n",
              "      <th>359</th>\n",
              "      <td>4</td>\n",
              "      <td>2</td>\n",
              "      <td>1.0</td>\n",
              "      <td>4</td>\n",
              "      <td>74</td>\n",
              "      <td>0</td>\n",
              "    </tr>\n",
              "    <tr>\n",
              "      <th>192</th>\n",
              "      <td>4</td>\n",
              "      <td>1</td>\n",
              "      <td>7.5</td>\n",
              "      <td>4</td>\n",
              "      <td>5</td>\n",
              "      <td>1900000</td>\n",
              "    </tr>\n",
              "    <tr>\n",
              "      <th>629</th>\n",
              "      <td>4</td>\n",
              "      <td>2</td>\n",
              "      <td>30.5</td>\n",
              "      <td>4</td>\n",
              "      <td>114</td>\n",
              "      <td>0</td>\n",
              "    </tr>\n",
              "    <tr>\n",
              "      <th>559</th>\n",
              "      <td>6</td>\n",
              "      <td>4</td>\n",
              "      <td>7.5</td>\n",
              "      <td>4</td>\n",
              "      <td>529</td>\n",
              "      <td>337300</td>\n",
              "    </tr>\n",
              "  </tbody>\n",
              "</table>\n",
              "<p>574 rows × 6 columns</p>\n",
              "</div>"
            ],
            "text/plain": [
              "     launch_stage  activity_level  ...  twitter_followers  ranking\n",
              "585             6               4  ...               1100        0\n",
              "272             6               4  ...                  9        0\n",
              "593             4               2  ...                 59        0\n",
              "569             6               2  ...               4000        0\n",
              "384             6               4  ...               1100   527200\n",
              "..            ...             ...  ...                ...      ...\n",
              "9               6               4  ...                 16  1000000\n",
              "359             4               2  ...                 74        0\n",
              "192             4               1  ...                  5  1900000\n",
              "629             4               2  ...                114        0\n",
              "559             6               4  ...                529   337300\n",
              "\n",
              "[574 rows x 6 columns]"
            ]
          },
          "metadata": {
            "tags": []
          },
          "execution_count": 42
        }
      ]
    },
    {
      "cell_type": "code",
      "metadata": {
        "id": "BHE_Zk5ozf4S"
      },
      "source": [
        "hu.fit(X_train,y_train)\n",
        "y_pred = hu.predict(X_test)"
      ],
      "execution_count": 43,
      "outputs": []
    },
    {
      "cell_type": "code",
      "metadata": {
        "colab": {
          "base_uri": "https://localhost:8080/"
        },
        "id": "SSDv8Zs4zktL",
        "outputId": "434340fc-b7df-4c4e-8573-5a326b88fe9c"
      },
      "source": [
        "y_pred"
      ],
      "execution_count": 44,
      "outputs": [
        {
          "output_type": "execute_result",
          "data": {
            "text/plain": [
              "array([-2.79357184e-04,  1.80072212e+03,  3.99969688e+02, -2.70521752e-02,\n",
              "       -2.60844350e-03,  1.04879892e+02,  2.32821588e+01,  1.17823670e+03,\n",
              "       -1.08654887e-03,  1.09753489e+02, -1.49083034e-01,  6.66902924e+02,\n",
              "       -2.77833647e-04,  1.12839440e+03, -9.29687332e-05,  4.44777710e+01,\n",
              "       -1.02179166e-02,  3.11203143e+02, -2.79020341e-04, -2.48315925e-04,\n",
              "        1.77821937e+03,  9.63021149e+00, -2.54682671e-01,  6.44680103e+02,\n",
              "       -2.77818871e-04,  1.04486699e+03, -1.08683390e-03, -9.00531274e-04,\n",
              "        1.57841756e+03,  4.00128088e+02,  5.31831640e+01,  1.55017386e+02,\n",
              "        1.25003664e+02,  1.06709881e+03,  2.66768686e+02, -1.40369667e-02,\n",
              "        1.08929641e+03,  3.55698725e+02, -2.10547691e-02,  4.74677756e+01,\n",
              "       -2.14273876e-03,  1.24494892e+03,  3.94608727e+01,  2.01088069e+02,\n",
              "        9.55942169e+02,  4.92524860e+01,  1.88962092e+03,  1.11152765e+03,\n",
              "       -2.79335019e-04,  5.35509208e+02,  2.88982284e+02,  6.66936746e+02,\n",
              "        5.33549454e+02, -3.41647454e-02, -2.79253540e-04, -2.77826259e-04,\n",
              "        1.02263674e+03,  2.89006042e+02, -2.79214319e-04,  1.20048061e+03,\n",
              "        4.01631906e+02,  6.11525408e+01,  2.89000857e+02,  7.55859703e+02])"
            ]
          },
          "metadata": {
            "tags": []
          },
          "execution_count": 44
        }
      ]
    },
    {
      "cell_type": "code",
      "metadata": {
        "colab": {
          "base_uri": "https://localhost:8080/"
        },
        "id": "I1YwuQBJzllV",
        "outputId": "36894ecf-7d7e-48e8-c42a-dd9198f9c1fa"
      },
      "source": [
        "from sklearn.metrics import mean_absolute_error\n",
        "print(\"MAE\",mean_absolute_error(y_test,y_pred))"
      ],
      "execution_count": 45,
      "outputs": [
        {
          "output_type": "stream",
          "text": [
            "MAE 1773031.8057606814\n"
          ],
          "name": "stdout"
        }
      ]
    },
    {
      "cell_type": "code",
      "metadata": {
        "colab": {
          "base_uri": "https://localhost:8080/"
        },
        "id": "IfiF062_0Cyt",
        "outputId": "020614ca-90be-4a44-8fd2-cdea2b967416"
      },
      "source": [
        "from sklearn.metrics import mean_squared_error\n",
        "print(\"MSE\",mean_squared_error(y_test,y_pred))"
      ],
      "execution_count": 46,
      "outputs": [
        {
          "output_type": "stream",
          "text": [
            "MSE 199869182582918.6\n"
          ],
          "name": "stdout"
        }
      ]
    },
    {
      "cell_type": "code",
      "metadata": {
        "colab": {
          "base_uri": "https://localhost:8080/"
        },
        "id": "vdnBTYwL0E5V",
        "outputId": "fdc790e3-bc5c-4e34-ced8-214115600cf4"
      },
      "source": [
        "print(\"RMSE\",np.sqrt(mean_squared_error(y_test,y_pred)))"
      ],
      "execution_count": 47,
      "outputs": [
        {
          "output_type": "stream",
          "text": [
            "RMSE 14137509.773044141\n"
          ],
          "name": "stdout"
        }
      ]
    },
    {
      "cell_type": "code",
      "metadata": {
        "id": "3jv0_Jij0HPg"
      },
      "source": [
        "import pickle"
      ],
      "execution_count": 48,
      "outputs": []
    },
    {
      "cell_type": "code",
      "metadata": {
        "id": "tdXW3pMt0Wtl"
      },
      "source": [
        "filename = 'finalized_model.sav'\n",
        "pickle.dump(hu, open(filename, 'wb'))"
      ],
      "execution_count": 49,
      "outputs": []
    },
    {
      "cell_type": "code",
      "metadata": {
        "colab": {
          "base_uri": "https://localhost:8080/"
        },
        "id": "gh4NTbi60clh",
        "outputId": "3a30da96-833d-4016-b072-43b2d1d857fc"
      },
      "source": [
        "importance = hu.coef_\n",
        "importance"
      ],
      "execution_count": 50,
      "outputs": [
        {
          "output_type": "execute_result",
          "data": {
            "text/plain": [
              "array([ 1.26014949e-08,  7.38842445e-09,  5.18220245e-08,  9.35143703e-09,\n",
              "       -3.10590739e-05,  2.22312362e-04])"
            ]
          },
          "metadata": {
            "tags": []
          },
          "execution_count": 50
        }
      ]
    },
    {
      "cell_type": "code",
      "metadata": {
        "colab": {
          "base_uri": "https://localhost:8080/"
        },
        "id": "QLuYmJBZ10UB",
        "outputId": "fa3bbec6-16bd-4dc3-cb5c-1ca3041a26f6"
      },
      "source": [
        "for i,v in enumerate(importance):\n",
        "\tprint('Feature: %0d, Score: %.9f' % (i,v))"
      ],
      "execution_count": 51,
      "outputs": [
        {
          "output_type": "stream",
          "text": [
            "Feature: 0, Score: 0.000000013\n",
            "Feature: 1, Score: 0.000000007\n",
            "Feature: 2, Score: 0.000000052\n",
            "Feature: 3, Score: 0.000000009\n",
            "Feature: 4, Score: -0.000031059\n",
            "Feature: 5, Score: 0.000222312\n"
          ],
          "name": "stdout"
        }
      ]
    },
    {
      "cell_type": "code",
      "metadata": {
        "colab": {
          "base_uri": "https://localhost:8080/",
          "height": 265
        },
        "id": "0oLTkUUo13Fh",
        "outputId": "ac3f6312-7a24-4663-d6a1-bf929b690d48"
      },
      "source": [
        "plt.bar([x for x in range(len(importance))], importance)\n",
        "plt.show()"
      ],
      "execution_count": 52,
      "outputs": [
        {
          "output_type": "display_data",
          "data": {
            "image/png": "[encoded data removed]",
            "text/plain": [
              "<Figure size 432x288 with 1 Axes>"
            ]
          },
          "metadata": {
            "tags": [],
            "needs_background": "light"
          }
        }
      ]
    },
    {
      "cell_type": "code",
      "metadata": {
        "id": "BhdeE9YE2GB8"
      },
      "source": [
        ""
      ],
      "execution_count": 52,
      "outputs": []
    }
  ]
}