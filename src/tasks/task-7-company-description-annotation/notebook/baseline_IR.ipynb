{
  "nbformat": 4,
  "nbformat_minor": 0,
  "metadata": {
    "colab": {
      "name": "baseline_IR.ipynb",
      "provenance": [],
      "collapsed_sections": []
    },
    "kernelspec": {
      "name": "python3",
      "display_name": "Python 3"
    },
    "language_info": {
      "name": "python"
    },
    "accelerator": "GPU"
  },
  "cells": [
    {
      "cell_type": "code",
      "metadata": {
        "id": "BTQzk9IKxy9O"
      },
      "source": [
        "import pandas as pd\n",
        "import ast"
      ],
      "execution_count": 10,
      "outputs": []
    },
    {
      "cell_type": "code",
      "metadata": {
        "id": "WdZdB0K_1RuN"
      },
      "source": [
        "df= pd.read_csv('word_piece_based.csv')\n",
        "df.drop(labels= 'Unnamed: 0', axis=1, inplace= True)"
      ],
      "execution_count": 11,
      "outputs": []
    },
    {
      "cell_type": "code",
      "metadata": {
        "colab": {
          "base_uri": "https://localhost:8080/"
        },
        "id": "Z0ECWQIUXCqn",
        "outputId": "4c584124-a844-43b3-c24d-64bd6ef1ed81"
      },
      "source": [
        "df.info()"
      ],
      "execution_count": 12,
      "outputs": [
        {
          "output_type": "stream",
          "text": [
            "<class 'pandas.core.frame.DataFrame'>\n",
            "RangeIndex: 2996 entries, 0 to 2995\n",
            "Data columns (total 13 columns):\n",
            " #   Column               Non-Null Count  Dtype \n",
            "---  ------               --------------  ----- \n",
            " 0   company_name         2996 non-null   object\n",
            " 1   description          2996 non-null   object\n",
            " 2   website              2996 non-null   object\n",
            " 3   funding              2996 non-null   object\n",
            " 4   industries           2996 non-null   object\n",
            " 5   num_employees        2996 non-null   object\n",
            " 6   headquarters         2996 non-null   object\n",
            " 7   founded_date         2996 non-null   object\n",
            " 8   industry_groups      2996 non-null   object\n",
            " 9   full_description     2996 non-null   object\n",
            " 10  filter               2996 non-null   object\n",
            " 11  cleaned_description  2996 non-null   object\n",
            " 12  tokenized text       2996 non-null   object\n",
            "dtypes: object(13)\n",
            "memory usage: 304.4+ KB\n"
          ],
          "name": "stdout"
        }
      ]
    },
    {
      "cell_type": "code",
      "metadata": {
        "id": "MoO_XxwHWuWm"
      },
      "source": [
        "df.drop_duplicates(subset='company_name', inplace=True)"
      ],
      "execution_count": 13,
      "outputs": []
    },
    {
      "cell_type": "code",
      "metadata": {
        "colab": {
          "base_uri": "https://localhost:8080/"
        },
        "id": "1Y9i5qxNXEFb",
        "outputId": "362983f4-75b0-49b8-8410-6d82383e925e"
      },
      "source": [
        "df.info()"
      ],
      "execution_count": 14,
      "outputs": [
        {
          "output_type": "stream",
          "text": [
            "<class 'pandas.core.frame.DataFrame'>\n",
            "Int64Index: 2787 entries, 0 to 2995\n",
            "Data columns (total 13 columns):\n",
            " #   Column               Non-Null Count  Dtype \n",
            "---  ------               --------------  ----- \n",
            " 0   company_name         2787 non-null   object\n",
            " 1   description          2787 non-null   object\n",
            " 2   website              2787 non-null   object\n",
            " 3   funding              2787 non-null   object\n",
            " 4   industries           2787 non-null   object\n",
            " 5   num_employees        2787 non-null   object\n",
            " 6   headquarters         2787 non-null   object\n",
            " 7   founded_date         2787 non-null   object\n",
            " 8   industry_groups      2787 non-null   object\n",
            " 9   full_description     2787 non-null   object\n",
            " 10  filter               2787 non-null   object\n",
            " 11  cleaned_description  2787 non-null   object\n",
            " 12  tokenized text       2787 non-null   object\n",
            "dtypes: object(13)\n",
            "memory usage: 304.8+ KB\n"
          ],
          "name": "stdout"
        }
      ]
    },
    {
      "cell_type": "code",
      "metadata": {
        "colab": {
          "base_uri": "https://localhost:8080/",
          "height": 608
        },
        "id": "FKAVA7U01aBR",
        "outputId": "892af1e9-d91d-4199-e1d8-7b8683b9a44f"
      },
      "source": [
        "df.head()"
      ],
      "execution_count": 15,
      "outputs": [
        {
          "output_type": "execute_result",
          "data": {
            "text/html": [
              "<div>\n",
              "<style scoped>\n",
              "    .dataframe tbody tr th:only-of-type {\n",
              "        vertical-align: middle;\n",
              "    }\n",
              "\n",
              "    .dataframe tbody tr th {\n",
              "        vertical-align: top;\n",
              "    }\n",
              "\n",
              "    .dataframe thead th {\n",
              "        text-align: right;\n",
              "    }\n",
              "</style>\n",
              "<table border=\"1\" class=\"dataframe\">\n",
              "  <thead>\n",
              "    <tr style=\"text-align: right;\">\n",
              "      <th></th>\n",
              "      <th>company_name</th>\n",
              "      <th>description</th>\n",
              "      <th>website</th>\n",
              "      <th>funding</th>\n",
              "      <th>industries</th>\n",
              "      <th>num_employees</th>\n",
              "      <th>headquarters</th>\n",
              "      <th>founded_date</th>\n",
              "      <th>industry_groups</th>\n",
              "      <th>full_description</th>\n",
              "      <th>filter</th>\n",
              "      <th>cleaned_description</th>\n",
              "      <th>tokenized text</th>\n",
              "    </tr>\n",
              "  </thead>\n",
              "  <tbody>\n",
              "    <tr>\n",
              "      <th>0</th>\n",
              "      <td>1 Accord Technologies</td>\n",
              "      <td>1 accord technology providing professional sup...</td>\n",
              "      <td>https://www.ashton-group.com/</td>\n",
              "      <td>Na</td>\n",
              "      <td>Consulting, Cyber Security, Hardware, IT Mana...</td>\n",
              "      <td>01 to 10</td>\n",
              "      <td>Eatonton, Georgia, United States</td>\n",
              "      <td>2018</td>\n",
              "      <td>Hardware, Information Technology, Privacy and...</td>\n",
              "      <td>—</td>\n",
              "      <td>Software-2018</td>\n",
              "      <td>1 accord technology providing professional sup...</td>\n",
              "      <td>['1', 'accord', 'technology', 'providing', 'pr...</td>\n",
              "    </tr>\n",
              "    <tr>\n",
              "      <th>1</th>\n",
              "      <td>1005 Ventures</td>\n",
              "      <td>venture capital</td>\n",
              "      <td>http://www.1005ventures.com</td>\n",
              "      <td>Na</td>\n",
              "      <td>Information Technology, Internet, Venture Cap...</td>\n",
              "      <td>01 to 10</td>\n",
              "      <td>San Francisco, California, United States</td>\n",
              "      <td>2018</td>\n",
              "      <td>Financial Services, Information Technology, I...</td>\n",
              "      <td>1005 ventures is set up to invest in start-ups...</td>\n",
              "      <td>Software-2018</td>\n",
              "      <td>venture capital</td>\n",
              "      <td>['venture', 'capital']</td>\n",
              "    </tr>\n",
              "    <tr>\n",
              "      <th>2</th>\n",
              "      <td>1533 Systems, Inc.</td>\n",
              "      <td>live data platform ingest process respond oper...</td>\n",
              "      <td>http://1533.io</td>\n",
              "      <td>Na</td>\n",
              "      <td>Analytics, Information Technology, Software, ...</td>\n",
              "      <td>01 to 10</td>\n",
              "      <td>Campbell, California, United States</td>\n",
              "      <td>2018</td>\n",
              "      <td>Content and Publishing, Data and Analytics, I...</td>\n",
              "      <td>1533 Systems is building the next generation d...</td>\n",
              "      <td>Software-2018</td>\n",
              "      <td>live data platform ingest process respond oper...</td>\n",
              "      <td>['live', 'data', 'platform', 'ing', '##est', '...</td>\n",
              "    </tr>\n",
              "    <tr>\n",
              "      <th>3</th>\n",
              "      <td>17 TeraWatts</td>\n",
              "      <td>17 terawatts clean energy software company</td>\n",
              "      <td>https://www.17terawatts.com/</td>\n",
              "      <td>Na</td>\n",
              "      <td>Clean Energy, Energy, Information Technology,...</td>\n",
              "      <td>01 to 10</td>\n",
              "      <td>Austin, Texas, United States</td>\n",
              "      <td>2018-01-01 00:00:00</td>\n",
              "      <td>Energy, Information Technology, Software, Sus...</td>\n",
              "      <td>—</td>\n",
              "      <td>Software-2018</td>\n",
              "      <td>17 terawatts clean energy software company</td>\n",
              "      <td>['17', 'te', '##raw', '##att', '##s', 'clean',...</td>\n",
              "    </tr>\n",
              "    <tr>\n",
              "      <th>4</th>\n",
              "      <td>3DIQ</td>\n",
              "      <td>3diq make beyond easy recruiter edit format ge...</td>\n",
              "      <td>https://www.3diq.com</td>\n",
              "      <td>Na</td>\n",
              "      <td>Recruiting, Software</td>\n",
              "      <td>01 to 10</td>\n",
              "      <td>Knoxville, Tennessee, United States</td>\n",
              "      <td>2018</td>\n",
              "      <td>Professional Services, Software</td>\n",
              "      <td>3DIQ is a recruiter’s secret weapon. We make i...</td>\n",
              "      <td>Software-2018</td>\n",
              "      <td>3diq make beyond easy recruiter edit format ge...</td>\n",
              "      <td>['3', '##di', '##q', 'make', 'beyond', 'easy',...</td>\n",
              "    </tr>\n",
              "  </tbody>\n",
              "</table>\n",
              "</div>"
            ],
            "text/plain": [
              "            company_name  ...                                     tokenized text\n",
              "0  1 Accord Technologies  ...  ['1', 'accord', 'technology', 'providing', 'pr...\n",
              "1          1005 Ventures  ...                             ['venture', 'capital']\n",
              "2    1533 Systems, Inc.   ...  ['live', 'data', 'platform', 'ing', '##est', '...\n",
              "3           17 TeraWatts  ...  ['17', 'te', '##raw', '##att', '##s', 'clean',...\n",
              "4                   3DIQ  ...  ['3', '##di', '##q', 'make', 'beyond', 'easy',...\n",
              "\n",
              "[5 rows x 13 columns]"
            ]
          },
          "metadata": {
            "tags": []
          },
          "execution_count": 15
        }
      ]
    },
    {
      "cell_type": "code",
      "metadata": {
        "colab": {
          "base_uri": "https://localhost:8080/"
        },
        "id": "CMrobSxr55NX",
        "outputId": "1cdcf5eb-9b7a-4240-c9a5-0f2fd6cd3732"
      },
      "source": [
        "!pip install --upgrade gensim"
      ],
      "execution_count": 16,
      "outputs": [
        {
          "output_type": "stream",
          "text": [
            "Requirement already up-to-date: gensim in /usr/local/lib/python3.7/dist-packages (4.0.1)\n",
            "Requirement already satisfied, skipping upgrade: scipy>=0.18.1 in /usr/local/lib/python3.7/dist-packages (from gensim) (1.4.1)\n",
            "Requirement already satisfied, skipping upgrade: numpy>=1.11.3 in /usr/local/lib/python3.7/dist-packages (from gensim) (1.19.5)\n",
            "Requirement already satisfied, skipping upgrade: smart-open>=1.8.1 in /usr/local/lib/python3.7/dist-packages (from gensim) (5.1.0)\n"
          ],
          "name": "stdout"
        }
      ]
    },
    {
      "cell_type": "code",
      "metadata": {
        "id": "MJf5wGIs5gnW"
      },
      "source": [
        "import json\n",
        "import logging\n",
        "from re import sub\n",
        "from multiprocessing import cpu_count\n",
        "\n",
        "import numpy as np\n",
        "\n",
        "import gensim.downloader as api\n",
        "from gensim.utils import simple_preprocess\n",
        "from gensim.corpora import Dictionary\n",
        "from gensim.models import TfidfModel\n",
        "from gensim.similarities import WordEmbeddingSimilarityIndex\n",
        "#from gensim.similarities import WordEmbeddingSimilarityIndex\n",
        "from gensim.similarities import SparseTermSimilarityMatrix\n",
        "from gensim.similarities import SoftCosineSimilarity"
      ],
      "execution_count": 17,
      "outputs": []
    },
    {
      "cell_type": "code",
      "metadata": {
        "id": "DW9kAQ0D6YU-",
        "colab": {
          "base_uri": "https://localhost:8080/"
        },
        "outputId": "421a3e87-17e4-420e-94a0-9182d566e375"
      },
      "source": [
        "if 'glove' not in locals():  # only load if not already in memory\n",
        "    glove = api.load(\"glove-wiki-gigaword-50\")\n",
        "    \n",
        "similarity_index = WordEmbeddingSimilarityIndex(glove)"
      ],
      "execution_count": 18,
      "outputs": [
        {
          "output_type": "stream",
          "text": [
            "[==================================================] 100.0% 66.0/66.0MB downloaded\n"
          ],
          "name": "stdout"
        }
      ]
    },
    {
      "cell_type": "code",
      "metadata": {
        "id": "rpjqz3lPNxQ7"
      },
      "source": [
        "ind=1000 #the query"
      ],
      "execution_count": 19,
      "outputs": []
    },
    {
      "cell_type": "code",
      "metadata": {
        "colab": {
          "base_uri": "https://localhost:8080/",
          "height": 608
        },
        "id": "VDzol0GJ56XK",
        "outputId": "cf65a5c7-0c0f-4e38-f82a-dcd2caa72770"
      },
      "source": [
        "query= df.loc[ind]['cleaned_description']\n",
        "query_description= df.loc[ind]['description'] \n",
        "df.drop(labels= ind, inplace= True, axis=0) #dropping that query \n",
        "df.head()"
      ],
      "execution_count": 20,
      "outputs": [
        {
          "output_type": "execute_result",
          "data": {
            "text/html": [
              "<div>\n",
              "<style scoped>\n",
              "    .dataframe tbody tr th:only-of-type {\n",
              "        vertical-align: middle;\n",
              "    }\n",
              "\n",
              "    .dataframe tbody tr th {\n",
              "        vertical-align: top;\n",
              "    }\n",
              "\n",
              "    .dataframe thead th {\n",
              "        text-align: right;\n",
              "    }\n",
              "</style>\n",
              "<table border=\"1\" class=\"dataframe\">\n",
              "  <thead>\n",
              "    <tr style=\"text-align: right;\">\n",
              "      <th></th>\n",
              "      <th>company_name</th>\n",
              "      <th>description</th>\n",
              "      <th>website</th>\n",
              "      <th>funding</th>\n",
              "      <th>industries</th>\n",
              "      <th>num_employees</th>\n",
              "      <th>headquarters</th>\n",
              "      <th>founded_date</th>\n",
              "      <th>industry_groups</th>\n",
              "      <th>full_description</th>\n",
              "      <th>filter</th>\n",
              "      <th>cleaned_description</th>\n",
              "      <th>tokenized text</th>\n",
              "    </tr>\n",
              "  </thead>\n",
              "  <tbody>\n",
              "    <tr>\n",
              "      <th>0</th>\n",
              "      <td>1 Accord Technologies</td>\n",
              "      <td>1 accord technology providing professional sup...</td>\n",
              "      <td>https://www.ashton-group.com/</td>\n",
              "      <td>Na</td>\n",
              "      <td>Consulting, Cyber Security, Hardware, IT Mana...</td>\n",
              "      <td>01 to 10</td>\n",
              "      <td>Eatonton, Georgia, United States</td>\n",
              "      <td>2018</td>\n",
              "      <td>Hardware, Information Technology, Privacy and...</td>\n",
              "      <td>—</td>\n",
              "      <td>Software-2018</td>\n",
              "      <td>1 accord technology providing professional sup...</td>\n",
              "      <td>['1', 'accord', 'technology', 'providing', 'pr...</td>\n",
              "    </tr>\n",
              "    <tr>\n",
              "      <th>1</th>\n",
              "      <td>1005 Ventures</td>\n",
              "      <td>venture capital</td>\n",
              "      <td>http://www.1005ventures.com</td>\n",
              "      <td>Na</td>\n",
              "      <td>Information Technology, Internet, Venture Cap...</td>\n",
              "      <td>01 to 10</td>\n",
              "      <td>San Francisco, California, United States</td>\n",
              "      <td>2018</td>\n",
              "      <td>Financial Services, Information Technology, I...</td>\n",
              "      <td>1005 ventures is set up to invest in start-ups...</td>\n",
              "      <td>Software-2018</td>\n",
              "      <td>venture capital</td>\n",
              "      <td>['venture', 'capital']</td>\n",
              "    </tr>\n",
              "    <tr>\n",
              "      <th>2</th>\n",
              "      <td>1533 Systems, Inc.</td>\n",
              "      <td>live data platform ingest process respond oper...</td>\n",
              "      <td>http://1533.io</td>\n",
              "      <td>Na</td>\n",
              "      <td>Analytics, Information Technology, Software, ...</td>\n",
              "      <td>01 to 10</td>\n",
              "      <td>Campbell, California, United States</td>\n",
              "      <td>2018</td>\n",
              "      <td>Content and Publishing, Data and Analytics, I...</td>\n",
              "      <td>1533 Systems is building the next generation d...</td>\n",
              "      <td>Software-2018</td>\n",
              "      <td>live data platform ingest process respond oper...</td>\n",
              "      <td>['live', 'data', 'platform', 'ing', '##est', '...</td>\n",
              "    </tr>\n",
              "    <tr>\n",
              "      <th>3</th>\n",
              "      <td>17 TeraWatts</td>\n",
              "      <td>17 terawatts clean energy software company</td>\n",
              "      <td>https://www.17terawatts.com/</td>\n",
              "      <td>Na</td>\n",
              "      <td>Clean Energy, Energy, Information Technology,...</td>\n",
              "      <td>01 to 10</td>\n",
              "      <td>Austin, Texas, United States</td>\n",
              "      <td>2018-01-01 00:00:00</td>\n",
              "      <td>Energy, Information Technology, Software, Sus...</td>\n",
              "      <td>—</td>\n",
              "      <td>Software-2018</td>\n",
              "      <td>17 terawatts clean energy software company</td>\n",
              "      <td>['17', 'te', '##raw', '##att', '##s', 'clean',...</td>\n",
              "    </tr>\n",
              "    <tr>\n",
              "      <th>4</th>\n",
              "      <td>3DIQ</td>\n",
              "      <td>3diq make beyond easy recruiter edit format ge...</td>\n",
              "      <td>https://www.3diq.com</td>\n",
              "      <td>Na</td>\n",
              "      <td>Recruiting, Software</td>\n",
              "      <td>01 to 10</td>\n",
              "      <td>Knoxville, Tennessee, United States</td>\n",
              "      <td>2018</td>\n",
              "      <td>Professional Services, Software</td>\n",
              "      <td>3DIQ is a recruiter’s secret weapon. We make i...</td>\n",
              "      <td>Software-2018</td>\n",
              "      <td>3diq make beyond easy recruiter edit format ge...</td>\n",
              "      <td>['3', '##di', '##q', 'make', 'beyond', 'easy',...</td>\n",
              "    </tr>\n",
              "  </tbody>\n",
              "</table>\n",
              "</div>"
            ],
            "text/plain": [
              "            company_name  ...                                     tokenized text\n",
              "0  1 Accord Technologies  ...  ['1', 'accord', 'technology', 'providing', 'pr...\n",
              "1          1005 Ventures  ...                             ['venture', 'capital']\n",
              "2    1533 Systems, Inc.   ...  ['live', 'data', 'platform', 'ing', '##est', '...\n",
              "3           17 TeraWatts  ...  ['17', 'te', '##raw', '##att', '##s', 'clean',...\n",
              "4                   3DIQ  ...  ['3', '##di', '##q', 'make', 'beyond', 'easy',...\n",
              "\n",
              "[5 rows x 13 columns]"
            ]
          },
          "metadata": {
            "tags": []
          },
          "execution_count": 20
        }
      ]
    },
    {
      "cell_type": "code",
      "metadata": {
        "id": "R_W8jBlB7vkx"
      },
      "source": [
        "documents=[]\n",
        "corpus=[]\n",
        "for i in range(len(df)):\n",
        "  #corpus.append(ast.literal_eval(df.iloc[i]['tokenized text']))\n",
        "  documents.append((df.iloc[i]['cleaned_description'])) #create a list of cleaned discription documents\n",
        "    \n",
        "  "
      ],
      "execution_count": 21,
      "outputs": []
    },
    {
      "cell_type": "code",
      "metadata": {
        "colab": {
          "base_uri": "https://localhost:8080/"
        },
        "id": "3x4NIK7R_GbT",
        "outputId": "663b9f15-3d4f-4dc4-da16-4360daf64b24"
      },
      "source": [
        "documents[0], query"
      ],
      "execution_count": 22,
      "outputs": [
        {
          "output_type": "execute_result",
          "data": {
            "text/plain": [
              "('1 accord technology providing professional support business strive give client enterpriselevel service',\n",
              " 'postalytics selfserve direct mail automation tool look act feel like digital channel')"
            ]
          },
          "metadata": {
            "tags": []
          },
          "execution_count": 22
        }
      ]
    },
    {
      "cell_type": "code",
      "metadata": {
        "id": "suaatnCuF4y1"
      },
      "source": [
        "def preprocess(doc):\n",
        "    return [token for token in simple_preprocess(doc, min_len=0, max_len=float(\"inf\"))] #tokenization"
      ],
      "execution_count": 23,
      "outputs": []
    },
    {
      "cell_type": "code",
      "metadata": {
        "id": "s0etmdiaF7GG"
      },
      "source": [
        "corpus = [preprocess(document) for document in documents]\n",
        "query_token = preprocess(query)"
      ],
      "execution_count": 24,
      "outputs": []
    },
    {
      "cell_type": "code",
      "metadata": {
        "colab": {
          "base_uri": "https://localhost:8080/"
        },
        "id": "v4c_izvr_eP4",
        "outputId": "bc5c48a3-fdd5-4f1f-f6fe-70bf7cce4c56"
      },
      "source": [
        "dictionary = Dictionary(corpus+[query_token])\n",
        "tfidf = TfidfModel(dictionary=dictionary)\n",
        "\n",
        "# Create the term similarity matrix. \n",
        "# The nonzero_limit enforces sparsity by limiting the number of non-zero terms in each column. \n",
        "# For my application, I got best results by removing the default value of 100\n",
        "similarity_matrix = SparseTermSimilarityMatrix(similarity_index, dictionary, tfidf)  # , nonzero_limit=None)"
      ],
      "execution_count": 25,
      "outputs": [
        {
          "output_type": "stream",
          "text": [
            "100%|██████████| 6077/6077 [01:10<00:00, 85.72it/s]\n"
          ],
          "name": "stderr"
        }
      ]
    },
    {
      "cell_type": "code",
      "metadata": {
        "colab": {
          "base_uri": "https://localhost:8080/"
        },
        "id": "nL806HzpCS6y",
        "outputId": "51ebfba0-35a6-4c4e-98c6-30aef2c775d6"
      },
      "source": [
        "query_tf = tfidf[dictionary.doc2bow(query_token)]\n",
        "\n",
        "index = SoftCosineSimilarity(\n",
        "            tfidf[[dictionary.doc2bow(document) for document in corpus]],\n",
        "            similarity_matrix)\n",
        "\n",
        "doc_similarity_scores = index[query_tf]"
      ],
      "execution_count": 26,
      "outputs": [
        {
          "output_type": "stream",
          "text": [
            "/usr/local/lib/python3.7/dist-packages/gensim/similarities/termsim.py:359: RuntimeWarning: divide by zero encountered in true_divide\n",
            "  normalized_corpus = np.multiply(corpus, 1.0 / corpus_norm)\n",
            "/usr/local/lib/python3.7/dist-packages/gensim/similarities/termsim.py:359: RuntimeWarning: invalid value encountered in multiply\n",
            "  normalized_corpus = np.multiply(corpus, 1.0 / corpus_norm)\n"
          ],
          "name": "stderr"
        }
      ]
    },
    {
      "cell_type": "code",
      "metadata": {
        "colab": {
          "base_uri": "https://localhost:8080/"
        },
        "id": "jk93n9adCWTZ",
        "outputId": "aa2f245b-1a40-492b-9782-e847a0aeda99"
      },
      "source": [
        "sorted_indexes = np.argsort(doc_similarity_scores)[::-1]\n",
        "print(\"query=\", query_description)\n",
        "for idx in sorted_indexes[:50]:\n",
        "    if doc_similarity_scores[idx] > 0.500:\n",
        "      print(f'{idx} \\t {doc_similarity_scores[idx]:0.3f} \\t {df.iloc[idx][\"description\"]}')"
      ],
      "execution_count": 27,
      "outputs": [
        {
          "output_type": "stream",
          "text": [
            "query= postalytics selfserve direct mail automation tool look act feel like digital channel\n",
            "2385 \t 0.614 \t little otter childrens mental health company developed app focus mental health child family\n",
            "1184 \t 0.614 \t little acorn shave retailing company\n",
            "832 \t 0.600 \t scoremedia platform measure score thing done life\n",
            "1185 \t 0.586 \t little lion provides family activity nutrition yoga kickboxing art wellness via online interactive platform\n",
            "1107 \t 0.581 \t ondemand moving application help people find storage facility sell unwanted good move item demand\n",
            "822 \t 0.552 \t seedership powering small firm good community digital platform help keep act kindness visible\n",
            "2143 \t 0.542 \t kuri edited know eat inc first sustainable cooking app available io\n",
            "430 \t 0.536 \t hovercast entertainment company specializes field internet thing marketing social medium\n",
            "1408 \t 0.536 \t grabit ondemand pickup delivery service order anything anywhere anytime\n",
            "436 \t 0.532 \t zunta technology provides service like cloud disaster recovery consulting backup software hardware service\n",
            "1518 \t 0.530 \t exgwear robotics company specializes field artificial intelligence internet thing\n",
            "1492 \t 0.528 \t focusmate remote coworking community people get thing done together\n",
            "1868 \t 0.527 \t bunch platform start paid group chat anything\n",
            "1193 \t 0.527 \t helping company move fast without breaking thing creating automated test real user behavior\n",
            "1647 \t 0.524 \t contact sure b2b lead generation technology offer website email phone verification service\n",
            "2501 \t 0.517 \t simply techdriven real estate investment platform enables homeowner sell property need little tlc\n",
            "2757 \t 0.515 \t commercejet multichannel ecommerce solution provides simpler management good inventory order\n",
            "1334 \t 0.512 \t iamlocal provides amazonlike onestop shop local marketplace benefit getting thing instantly\n",
            "1066 \t 0.507 \t nubixio computer software company specializes field information technology internet thing\n",
            "1151 \t 0.505 \t lux optic studio reimagining photography look like 21st century\n"
          ],
          "name": "stdout"
        }
      ]
    }
  ]
}